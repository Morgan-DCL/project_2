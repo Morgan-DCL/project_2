{
 "cells": [
  {
   "cell_type": "code",
   "execution_count": null,
   "metadata": {},
   "outputs": [],
   "source": [
    "%load_ext autoreload\n",
    "%autoreload 2\n",
    "%reload_ext autoreload\n",
    "\n",
    "import plotly.express as px\n",
    "import polars as pl\n",
    "import pandas as pd\n",
    "pd.set_option('display.float_format', lambda x: f'{x :.2f}')\n",
    "from cleaner import DataCleaner\n",
    "import matplotlib.pyplot as plt\n",
    "import numpy as np\n",
    "from datetime import datetime\n",
    "from tools import (\n",
    "    logging,\n",
    "    bins_generator,\n",
    "    import_datasets,\n",
    "\n",
    ")\n",
    "import eda_movies as eda\n",
    "clean = DataCleaner()"
   ]
  },
  {
   "cell_type": "code",
   "execution_count": null,
   "metadata": {},
   "outputs": [],
   "source": [
    "# j'ai essayé de lancer ça ça a pris plus de 7 min j'ai give up\n",
    "\n",
    "# others = test[~test[\"category\"].isin([actors, directors])]"
   ]
  },
  {
   "cell_type": "code",
   "execution_count": null,
   "metadata": {},
   "outputs": [],
   "source": [
    "actors = import_datasets(\"clean_datasets/actors.parquet\", \"parquet\")"
   ]
  },
  {
   "cell_type": "code",
   "execution_count": null,
   "metadata": {},
   "outputs": [],
   "source": [
    "directors = import_datasets(\"clean_datasets/directors.parquet\", \"parquet\")"
   ]
  },
  {
   "cell_type": "code",
   "execution_count": null,
   "metadata": {},
   "outputs": [],
   "source": [
    "link = \"clean_datasets/person.parquet\"\n",
    "persons = import_datasets(link, \"parquet\")"
   ]
  },
  {
   "cell_type": "code",
   "execution_count": null,
   "metadata": {},
   "outputs": [],
   "source": [
    "link = \"clean_datasets/movies_cleaned.parquet\"\n",
    "movies = import_datasets(link, \"parquet\")"
   ]
  },
  {
   "cell_type": "code",
   "execution_count": null,
   "metadata": {},
   "outputs": [],
   "source": [
    "actors_names = pd.merge(\n",
    "    actors,\n",
    "    persons,\n",
    "    on = \"nconst\"\n",
    ")"
   ]
  },
  {
   "cell_type": "code",
   "execution_count": null,
   "metadata": {},
   "outputs": [],
   "source": [
    "actors_names.head()"
   ]
  },
  {
   "cell_type": "code",
   "execution_count": null,
   "metadata": {},
   "outputs": [],
   "source": [
    "movies_actors = pd.merge(\n",
    "    actors_names,\n",
    "    movies,\n",
    "    left_on = \"tconst\",\n",
    "    right_on = \"titre_id\"\n",
    ")"
   ]
  },
  {
   "cell_type": "code",
   "execution_count": null,
   "metadata": {},
   "outputs": [],
   "source": [
    "movies_actors.drop([\"tconst\", \"titleId\"], inplace=True, axis=1)"
   ]
  },
  {
   "cell_type": "code",
   "execution_count": null,
   "metadata": {},
   "outputs": [],
   "source": [
    "movies_actors.head()"
   ]
  },
  {
   "cell_type": "code",
   "execution_count": null,
   "metadata": {},
   "outputs": [],
   "source": [
    "df = movies_actors.copy()"
   ]
  },
  {
   "cell_type": "code",
   "execution_count": null,
   "metadata": {},
   "outputs": [],
   "source": [
    "column_order = [\n",
    "    \"titre_id\",\n",
    "    \"titre_str\",\n",
    "    \"titre_date_sortie\",\n",
    "    \"titre_duree\",\n",
    "    \"titre_genres\",\n",
    "    \"rating_avg\",\n",
    "    \"rating_votes\",\n",
    "    \"original_language\",\n",
    "    \"original_title\",\n",
    "    \"popularity\",\n",
    "    \"production_countries\",\n",
    "    \"revenue\",\n",
    "    \"spoken_languages\",\n",
    "    \"status\",\n",
    "    \"region\",\n",
    "    \"cuts\",\n",
    "    \"nconst\",\n",
    "    \"category\",\n",
    "    \"characters\",\n",
    "    \"primaryName\",\n",
    "    \"birthYear\",\n",
    "    \"knownForTitles\",\n",
    "    \"ordering\"\n",
    "]\n",
    "\n",
    "df = df[column_order]\n",
    "\n",
    "print(df.head().to_markdown())"
   ]
  },
  {
   "cell_type": "code",
   "execution_count": null,
   "metadata": {},
   "outputs": [],
   "source": [
    "df[\"primaryName\"].value_counts()"
   ]
  },
  {
   "cell_type": "markdown",
   "metadata": {},
   "source": [
    "**JME SUIS ARRETÉ LA**\n"
   ]
  },
  {
   "cell_type": "code",
   "execution_count": null,
   "metadata": {},
   "outputs": [],
   "source": [
    "df.to_parquet(\"clean_datasets/actors_movies.parquet\")"
   ]
  },
  {
   "cell_type": "code",
   "execution_count": null,
   "metadata": {},
   "outputs": [],
   "source": [
    "df = pd.read_parquet(\"clean_datasets/actors_movies.parquet\")"
   ]
  },
  {
   "cell_type": "code",
   "execution_count": null,
   "metadata": {},
   "outputs": [],
   "source": [
    "condi2 = (\n",
    "    (df[\"original_title\"].str.contains(\"Lord of the Ring\"))\n",
    "    # (df[\"nconst\"].str.contains(\"nm0000367\"))\n",
    ")\n",
    "df[condi2].head()"
   ]
  },
  {
   "cell_type": "code",
   "execution_count": null,
   "metadata": {},
   "outputs": [],
   "source": [
    "grouped_df = df.groupby(\n",
    "    ['cuts', 'primaryName']\n",
    ").size().reset_index(name='total_film_acteurs').sort_values(by=\"total_film_acteurs\")\n",
    "\n",
    "grouped_df\n",
    "top_acteurs_decennie = grouped_df.groupby(\n",
    "    'cuts'\n",
    ").apply(lambda x: x.nlargest(1, 'total_film_acteurs')).reset_index(drop=True)\n",
    "\n",
    "decennies = top_acteurs_decennie['cuts']\n",
    "noms_acteurs = top_acteurs_decennie['primaryName']\n",
    "nombre_films = top_acteurs_decennie['total_film_acteurs']\n",
    "\n",
    "plt.figure(figsize=(10, 6))\n",
    "bars = plt.barh(\n",
    "    decennies,\n",
    "    nombre_films,\n",
    "    color='#0047ab',\n",
    "    edgecolor=\"black\"\n",
    ")\n",
    "for bar, nom in zip(bars, noms_acteurs):\n",
    "    plt.text(\n",
    "        # bar.get_width() - 0.5, bar.get_y() + bar.get_height()/2 - 0.1,\n",
    "        bar.get_width() - 0.5,\n",
    "        bar.get_y() + bar.get_height()/2 - 0.1,\n",
    "        # 1,\n",
    "        # bar,\n",
    "        f'{nom}',\n",
    "        va='center',\n",
    "        ha='right',\n",
    "        color='white'\n",
    "    )\n",
    "\n",
    "plt.title('Acteur N°1 par Décennie et Nombre de Films Joués')\n",
    "plt.xlabel('Nombre de Films Joués')\n",
    "plt.ylabel('Décennie')\n",
    "plt.show()\n"
   ]
  },
  {
   "cell_type": "code",
   "execution_count": null,
   "metadata": {},
   "outputs": [],
   "source": [
    "actors_by_genre = df.explode('titre_genres').groupby(['primaryName', 'titre_genres']).size().reset_index(name='count')\n",
    "top_actors_by_genre = actors_by_genre.sort_values('count', ascending=False).drop_duplicates('titre_genres')[:10][::-1]\n",
    "\n",
    "plt.figure(figsize=(20, 10))\n",
    "plt.barh(\n",
    "    top_actors_by_genre['titre_genres'],\n",
    "    top_actors_by_genre['count'],\n",
    "    color='#006b3c',\n",
    "    edgecolor = \"black\",\n",
    ")\n",
    "plt.xlabel('Nombre de Films')\n",
    "plt.ylabel('Genres')\n",
    "plt.title('Acteurs les plus fréquemment associés aux top 10 des genres')\n",
    "\n",
    "for i, (count, name) in enumerate(zip(\n",
    "    top_actors_by_genre['count'],\n",
    "    top_actors_by_genre['primaryName'])):\n",
    "    plt.text(1, i, name, color='white', va='center', ha='left', fontweight='bold')\n",
    "\n",
    "\n",
    "plt.show()\n"
   ]
  },
  {
   "cell_type": "code",
   "execution_count": null,
   "metadata": {},
   "outputs": [],
   "source": [
    "actors_film_count = df.groupby('primaryName').size().reset_index(name='film_count')\n",
    "\n",
    "top_actors_film_count = actors_film_count.sort_values('film_count', ascending=False).head(10)[::-1]\n",
    "\n",
    "plt.figure(figsize=(20, 10))\n",
    "plt.barh(\n",
    "    top_actors_film_count['primaryName'],\n",
    "    top_actors_film_count['film_count'],\n",
    "    color='#daa520',\n",
    "    edgecolor=\"black\",\n",
    ")\n",
    "plt.xlabel('Nombre de Films')\n",
    "plt.ylabel('Acteurs')\n",
    "plt.title('Acteurs ayant joué dans le plus grand nombre de films')\n",
    "plt.show()\n"
   ]
  },
  {
   "cell_type": "code",
   "execution_count": null,
   "metadata": {},
   "outputs": [],
   "source": [
    "actors_by_votes = df.groupby('primaryName')['rating_votes'].sum().reset_index()\n",
    "\n",
    "top_actors_by_votes = actors_by_votes.sort_values('rating_votes', ascending=False).head(10)[::-1]\n",
    "\n",
    "plt.figure(figsize=(20, 10))\n",
    "plt.barh(\n",
    "    top_actors_by_votes['primaryName'],\n",
    "    top_actors_by_votes['rating_votes'],\n",
    "    color='#008080',\n",
    "    edgecolor =\n",
    "    \"black\"\n",
    ")\n",
    "plt.xlabel('Total des votes')\n",
    "plt.ylabel('Acteurs')\n",
    "plt.title('Top 10 des acteurs dans des films ayant eu le plus de votes')\n",
    "plt.ticklabel_format(style='plain', axis='x')\n",
    "plt.show()\n"
   ]
  },
  {
   "cell_type": "code",
   "execution_count": null,
   "metadata": {},
   "outputs": [],
   "source": [
    "# Je dégage pour les films d'animation les concerts et les docs.\n",
    "genres_ = ['Animation', 'Music', 'Musical', 'Documentary']\n",
    "df_filtre = df[df['titre_genres'].apply(lambda x: all(g not in x for g in genres_))]\n",
    "# Je veux uniquement les films ayant eu le plus de vote, je filtre par quantile 0.75 sup only.\n",
    "df_filtre = df_filtre[df_filtre['rating_votes'] > df_filtre['rating_votes'].quantile(0.75)]\n",
    "\n",
    "# Groupe les films par la moyenne ratings, ne prend que le top 10\n",
    "grouped_films = (\n",
    "    df_filtre.groupby('titre_str')['rating_avg']\n",
    "    .mean()\n",
    "    .reset_index()\n",
    "    .sort_values(\"rating_avg\", ascending=False)\n",
    "    .head(10)[::-1]\n",
    ")\n",
    "\n",
    "plt.figure(figsize=(20, 10))\n",
    "plt.barh(\n",
    "    grouped_films['titre_str'],\n",
    "    grouped_films['rating_avg'],\n",
    "    color='#e49b0f',\n",
    "    edgecolor = \"black\"\n",
    ")\n",
    "plt.xlabel('Note Moyenne')\n",
    "plt.ylabel('Films')\n",
    "plt.title('Top 10 des films only')\n",
    "plt.show()\n"
   ]
  },
  {
   "cell_type": "code",
   "execution_count": null,
   "metadata": {},
   "outputs": [],
   "source": [
    "# Créer un dictionnaire contenant tout les noms des films avec leurs id\n",
    "titre_dict = df[['titre_id', 'titre_str']].drop_duplicates().set_index('titre_id').to_dict()['titre_str']\n",
    "# for k, v in titre_dict.items():\n",
    "#     print(k, v)"
   ]
  },
  {
   "cell_type": "code",
   "execution_count": null,
   "metadata": {},
   "outputs": [],
   "source": [
    "df1 = df.copy()"
   ]
  },
  {
   "cell_type": "code",
   "execution_count": null,
   "metadata": {},
   "outputs": [],
   "source": [
    "import ast\n",
    "\n",
    "# Fonction pour remplacer les identifiants dans une liste par les noms de titre\n",
    "def replace_ids_with_titles(id_list):\n",
    "    if isinstance(id_list, str):\n",
    "        id_list = ast.literal_eval(id_list)\n",
    "    return [titre_dict.get(titre_id, titre_id) for titre_id in id_list]\n",
    "\n",
    "# Omn créer une nouvelle colonne pour le fun !\n",
    "df1['person_film'] = df1['knownForTitles'].apply(replace_ids_with_titles)\n",
    "\n"
   ]
  },
  {
   "cell_type": "code",
   "execution_count": null,
   "metadata": {},
   "outputs": [],
   "source": [
    "gerard = df1[df1[\"primaryName\"].str.contains(\"Morgan\")]\n",
    "# gerard = gerard.copy()\n",
    "gerard.head()\n",
    "\n",
    "# on a une problemen, si les films ne sont pas dans la liste initial tconst, alors nous n'avons pas de modification, que faire ?\n",
    "# remplacer par unknow ? supprimer les tt dans la liste et ne conserver que les films convertie ?\n",
    "\n",
    "def if_tt_remove(id_list):\n",
    "    return [t for t in id_list if not t.startswith(\"tt\")]"
   ]
  },
  {
   "cell_type": "code",
   "execution_count": null,
   "metadata": {},
   "outputs": [],
   "source": [
    "gerard.loc[:, 'person_film'] = gerard['person_film'].apply(if_tt_remove)\n",
    "gerard"
   ]
  }
 ],
 "metadata": {
  "kernelspec": {
   "display_name": "Python 3",
   "language": "python",
   "name": "python3"
  },
  "language_info": {
   "codemirror_mode": {
    "name": "ipython",
    "version": 3
   },
   "file_extension": ".py",
   "mimetype": "text/x-python",
   "name": "python",
   "nbconvert_exporter": "python",
   "pygments_lexer": "ipython3",
   "version": "3.10.11"
  }
 },
 "nbformat": 4,
 "nbformat_minor": 2
}
