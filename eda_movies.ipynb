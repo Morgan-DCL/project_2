{
 "cells": [
  {
   "cell_type": "markdown",
   "metadata": {},
   "source": [
    "Analyse des données\n",
    "\n",
    "Préparation des données avec pandas\n"
   ]
  },
  {
   "cell_type": "code",
   "execution_count": 34,
   "metadata": {},
   "outputs": [
    {
     "name": "stdout",
     "output_type": "stream",
     "text": [
      "The autoreload extension is already loaded. To reload it, use:\n",
      "  %reload_ext autoreload\n"
     ]
    }
   ],
   "source": [
    "%load_ext autoreload\n",
    "%autoreload 2\n",
    "%reload_ext autoreload\n",
    "\n",
    "import polars as pl\n",
    "import pandas as pd\n",
    "pd.set_option('display.float_format', lambda x: f'{x :.2f}')\n",
    "from cleaner import DataCleaner\n",
    "import numpy as np\n",
    "from datetime import datetime\n",
    "from tools import (\n",
    "    logging,\n",
    "    bins_generator,\n",
    "    import_datasets\n",
    ")"
   ]
  },
  {
   "cell_type": "markdown",
   "metadata": {},
   "source": [
    "Dataset name_basics"
   ]
  },
  {
   "cell_type": "code",
   "execution_count": 35,
   "metadata": {},
   "outputs": [
    {
     "name": "stderr",
     "output_type": "stream",
     "text": [
      "2023-10-23 16:08:56 INFO     Pandas loaded ! Importing movies.csv...\n"
     ]
    }
   ],
   "source": [
    "df = import_datasets(\"clean_datasets/movies.csv\", types=\"pandas\", sep=\",\")"
   ]
  },
  {
   "cell_type": "code",
   "execution_count": 36,
   "metadata": {},
   "outputs": [
    {
     "name": "stdout",
     "output_type": "stream",
     "text": [
      "titre_id              object\n",
      "titre_str             object\n",
      "titre_type            object\n",
      "titre_date_sortie    float64\n",
      "titre_date_fin        object\n",
      "titre_duree           object\n",
      "titre_genres          object\n",
      "person_id             object\n",
      "person_name           object\n",
      "person_birthdate      object\n",
      "person_job            object\n",
      "person_role           object\n",
      "person_index           int64\n",
      "dtype: object\n"
     ]
    }
   ],
   "source": [
    "print(df.dtypes)"
   ]
  },
  {
   "cell_type": "code",
   "execution_count": 37,
   "metadata": {},
   "outputs": [
    {
     "name": "stderr",
     "output_type": "stream",
     "text": [
      "2023-10-23 16:09:03 INFO     Fixing N values...\n",
      "2023-10-23 16:09:07 INFO     Fixing encoding values...\n",
      "2023-10-23 16:09:20 INFO     Cleaning porn movies...\n",
      "2023-10-23 16:09:23 INFO     Cleaned : 477069 rows\n"
     ]
    }
   ],
   "source": [
    "cleaning = DataCleaner()\n",
    "test = cleaning.fix_values(df, \"fix_n\")\n",
    "test1 = cleaning.fix_values(test, \"fix_encode\")\n",
    "clean_porn = cleaning.clean_porn(test1)\n",
    "logging.info(f\"Cleaned : {len(df) - len(clean_porn)} rows\")"
   ]
  },
  {
   "cell_type": "code",
   "execution_count": 38,
   "metadata": {},
   "outputs": [],
   "source": [
    "# print(len(yy[yy[\"titre_date_sortie\"].isna()]))\n",
    "# yy[\"titre_date_sortie\"].fillna(1678, inplace=True)\n",
    "# yy[\"person_birthdate\"] = yy[\"person_birthdate\"].astype(int).replace(0, 1678)"
   ]
  },
  {
   "cell_type": "code",
   "execution_count": 39,
   "metadata": {},
   "outputs": [],
   "source": [
    "# condi = (\n",
    "#     yy[\"person_birthdate\"] < 1678\n",
    "# )\n",
    "\n",
    "# yy.loc[condi, \"person_birthdate\"] = 1678"
   ]
  },
  {
   "cell_type": "code",
   "execution_count": 40,
   "metadata": {},
   "outputs": [],
   "source": [
    "# datime_col = [\"titre_date_sortie\", \"person_birthdate\"]\n",
    "# for time in datime_col:\n",
    "#     yy[time] = pd.to_datetime(yy[time], format=\"%Y\")"
   ]
  },
  {
   "cell_type": "code",
   "execution_count": 41,
   "metadata": {},
   "outputs": [],
   "source": [
    "# yy[\"titre_date_sortie\"] = yy[\"titre_date_sortie\"].dt.year"
   ]
  },
  {
   "cell_type": "code",
   "execution_count": 42,
   "metadata": {},
   "outputs": [],
   "source": [
    "\"\"\"\n",
    "Nettoyage des date_sorties nan et modification de la colonne.\n",
    "Nous avons plusieurs methodes disponible, comme:\n",
    "\n",
    "clean_porn['titre_date_sortie'].fillna(-1, inplace=True)\n",
    "clean_porn.dropna(subset=['titre_date_sortie'], inplace=True)\n",
    "et une fois que l'on a clean\n",
    "on applique int a toute la colonne\n",
    "clean_porn['titre_date_sortie'] = clean_porn['titre_date_sortie'].astype(int)\n",
    "\n",
    "\"\"\"\n",
    "clean_porn['titre_date_sortie'].fillna(0, inplace=True)\n",
    "clean_porn['titre_date_sortie'] = clean_porn['titre_date_sortie'].astype(\"int64\")\n",
    "clean_porn['person_birthdate'] = clean_porn['person_birthdate'].astype(\"int64\")\n",
    "clean_porn['titre_duree'] = clean_porn['titre_duree'].astype(\"int64\")\n",
    "\n",
    "line = \"clean_datasets/movies_clean.csv\"\n",
    "clean_porn.to_csv(line, index=False)"
   ]
  },
  {
   "cell_type": "code",
   "execution_count": 43,
   "metadata": {},
   "outputs": [
    {
     "data": {
      "text/html": [
       "<div>\n",
       "<style scoped>\n",
       "    .dataframe tbody tr th:only-of-type {\n",
       "        vertical-align: middle;\n",
       "    }\n",
       "\n",
       "    .dataframe tbody tr th {\n",
       "        vertical-align: top;\n",
       "    }\n",
       "\n",
       "    .dataframe thead th {\n",
       "        text-align: right;\n",
       "    }\n",
       "</style>\n",
       "<table border=\"1\" class=\"dataframe\">\n",
       "  <thead>\n",
       "    <tr style=\"text-align: right;\">\n",
       "      <th></th>\n",
       "      <th>titre_id</th>\n",
       "      <th>titre_str</th>\n",
       "      <th>titre_type</th>\n",
       "      <th>titre_date_sortie</th>\n",
       "      <th>titre_date_fin</th>\n",
       "      <th>titre_duree</th>\n",
       "      <th>titre_genres</th>\n",
       "      <th>person_id</th>\n",
       "      <th>person_name</th>\n",
       "      <th>person_birthdate</th>\n",
       "      <th>person_job</th>\n",
       "      <th>person_role</th>\n",
       "      <th>person_index</th>\n",
       "      <th>person_age</th>\n",
       "    </tr>\n",
       "  </thead>\n",
       "  <tbody>\n",
       "    <tr>\n",
       "      <th>4609226</th>\n",
       "      <td>tt9916706</td>\n",
       "      <td>Dankyavar Danka</td>\n",
       "      <td>movie</td>\n",
       "      <td>2013</td>\n",
       "      <td>0</td>\n",
       "      <td>0</td>\n",
       "      <td>Comedy</td>\n",
       "      <td>nm3272130</td>\n",
       "      <td>Ashwini Ekbote</td>\n",
       "      <td>1972</td>\n",
       "      <td>actress</td>\n",
       "      <td>0</td>\n",
       "      <td>4</td>\n",
       "      <td>41</td>\n",
       "    </tr>\n",
       "    <tr>\n",
       "      <th>4609232</th>\n",
       "      <td>tt9916730</td>\n",
       "      <td>6 Gunn</td>\n",
       "      <td>movie</td>\n",
       "      <td>2017</td>\n",
       "      <td>0</td>\n",
       "      <td>116</td>\n",
       "      <td>Drama</td>\n",
       "      <td>nm6096005</td>\n",
       "      <td>Devadhar Archit</td>\n",
       "      <td>0</td>\n",
       "      <td>actor</td>\n",
       "      <td>0</td>\n",
       "      <td>1</td>\n",
       "      <td>0</td>\n",
       "    </tr>\n",
       "    <tr>\n",
       "      <th>4609233</th>\n",
       "      <td>tt9916730</td>\n",
       "      <td>6 Gunn</td>\n",
       "      <td>movie</td>\n",
       "      <td>2017</td>\n",
       "      <td>0</td>\n",
       "      <td>116</td>\n",
       "      <td>Drama</td>\n",
       "      <td>nm0059461</td>\n",
       "      <td>Sunil Barve</td>\n",
       "      <td>0</td>\n",
       "      <td>actor</td>\n",
       "      <td>0</td>\n",
       "      <td>2</td>\n",
       "      <td>0</td>\n",
       "    </tr>\n",
       "    <tr>\n",
       "      <th>4609234</th>\n",
       "      <td>tt9916730</td>\n",
       "      <td>6 Gunn</td>\n",
       "      <td>movie</td>\n",
       "      <td>2017</td>\n",
       "      <td>0</td>\n",
       "      <td>116</td>\n",
       "      <td>Drama</td>\n",
       "      <td>nm13233318</td>\n",
       "      <td>Ganesh Vasant Patil</td>\n",
       "      <td>0</td>\n",
       "      <td>actor</td>\n",
       "      <td>[\"Vishal\"]</td>\n",
       "      <td>3</td>\n",
       "      <td>0</td>\n",
       "    </tr>\n",
       "    <tr>\n",
       "      <th>4609235</th>\n",
       "      <td>tt9916730</td>\n",
       "      <td>6 Gunn</td>\n",
       "      <td>movie</td>\n",
       "      <td>2017</td>\n",
       "      <td>0</td>\n",
       "      <td>116</td>\n",
       "      <td>Drama</td>\n",
       "      <td>nm4852679</td>\n",
       "      <td>Bhushan Pradhan</td>\n",
       "      <td>0</td>\n",
       "      <td>actor</td>\n",
       "      <td>0</td>\n",
       "      <td>4</td>\n",
       "      <td>0</td>\n",
       "    </tr>\n",
       "  </tbody>\n",
       "</table>\n",
       "</div>"
      ],
      "text/plain": [
       "          titre_id        titre_str titre_type  titre_date_sortie  \\\n",
       "4609226  tt9916706  Dankyavar Danka      movie               2013   \n",
       "4609232  tt9916730           6 Gunn      movie               2017   \n",
       "4609233  tt9916730           6 Gunn      movie               2017   \n",
       "4609234  tt9916730           6 Gunn      movie               2017   \n",
       "4609235  tt9916730           6 Gunn      movie               2017   \n",
       "\n",
       "         titre_date_fin  titre_duree titre_genres   person_id  \\\n",
       "4609226               0            0       Comedy   nm3272130   \n",
       "4609232               0          116        Drama   nm6096005   \n",
       "4609233               0          116        Drama   nm0059461   \n",
       "4609234               0          116        Drama  nm13233318   \n",
       "4609235               0          116        Drama   nm4852679   \n",
       "\n",
       "                 person_name  person_birthdate person_job person_role  \\\n",
       "4609226       Ashwini Ekbote              1972    actress           0   \n",
       "4609232      Devadhar Archit                 0      actor           0   \n",
       "4609233          Sunil Barve                 0      actor           0   \n",
       "4609234  Ganesh Vasant Patil                 0      actor  [\"Vishal\"]   \n",
       "4609235      Bhushan Pradhan                 0      actor           0   \n",
       "\n",
       "         person_index  person_age  \n",
       "4609226             4          41  \n",
       "4609232             1           0  \n",
       "4609233             2           0  \n",
       "4609234             3           0  \n",
       "4609235             4           0  "
      ]
     },
     "execution_count": 43,
     "metadata": {},
     "output_type": "execute_result"
    }
   ],
   "source": [
    "condi = (\n",
    "    clean_porn[\"person_job\"].str.contains(\"act\")\n",
    ")\n",
    "df = clean_porn[condi]\n",
    "actor = df.copy()\n",
    "\n",
    "\"\"\"\n",
    "La moyenne d'age des acteurs a la date de sortie du film.\n",
    "Nous calculons la mediane sur cette base.\n",
    "\n",
    "other KPI, calcul la moyenne des ages en fonction de l'année\n",
    "\n",
    "\"\"\"\n",
    "# ajouter colonne age pour les personnes\n",
    "actor[\"person_age\"] = np.where(\n",
    "    (actor[\"person_birthdate\"] > 1800) &\n",
    "    (actor[\"titre_date_sortie\"] > 1800) &\n",
    "    (actor[\"titre_date_sortie\"] - actor[\"person_birthdate\"] >= 0),\n",
    "    (actor[\"titre_date_sortie\"] - actor[\"person_birthdate\"]),\n",
    "    0\n",
    ")\n",
    "actor.tail()"
   ]
  },
  {
   "cell_type": "code",
   "execution_count": 44,
   "metadata": {},
   "outputs": [
    {
     "name": "stdout",
     "output_type": "stream",
     "text": [
      "Mediane for person_age 1900-1920 : 35.0\n",
      "Mediane for person_age 1920-1940 : 33.0\n",
      "Mediane for person_age 1940-1960 : 35.0\n",
      "Mediane for person_age 1960-1980 : 36.0\n",
      "Mediane for person_age 1980-1990 : 38.0\n",
      "Mediane for person_age 1990-2000 : 37.0\n",
      "Mediane for person_age 2000-2010 : 37.0\n",
      "Mediane for person_age 2010-2020 : 40.0\n",
      "Mediane for person_age >2021 : 45.0\n"
     ]
    }
   ],
   "source": [
    "\"\"\"\n",
    "imagine un fonction, qui prendrais en argument une liste de date de\n",
    "titre de sortie et retourne la moyenne d'age de ces années des acteurs.\n",
    "\n",
    "# Quels sont les acteurs les plus présents ?\n",
    "# À quelle période ?\n",
    "La durée moyenne des films s'allonge ou se raccourcit avec les années ?\n",
    "Les acteurs de série sont-ils les mêmes qu'au cinéma ?\n",
    "# Les acteurs ont en moyenne quel âge ?\n",
    "Quels sont les films les mieux notés ?\n",
    "Partagent-ils des caractéristiques communes ? etc...\n",
    "\n",
    "\"\"\"\n",
    "bins, names = bins_generator(actor[\"titre_date_sortie\"].max())\n",
    "\n",
    "actor[\"cuts\"] = pd.cut(\n",
    "    actor[\"titre_date_sortie\"],\n",
    "    bins=bins,\n",
    "    labels=names\n",
    ")\n",
    "\n",
    "for date in names[1:]:\n",
    "    condi = (\n",
    "        (actor[\"person_age\"] != 0) &\n",
    "        (actor[\"cuts\"] == date)\n",
    "    )\n",
    "    print(f\"Mediane for person_age {date} :\", actor[\"person_age\"][condi].median())\n"
   ]
  },
  {
   "cell_type": "code",
   "execution_count": 45,
   "metadata": {},
   "outputs": [
    {
     "name": "stdout",
     "output_type": "stream",
     "text": [
      "person_name\n",
      "Brahmanandam          729\n",
      "Eddie Garcia          436\n",
      "Paquito Diaz          356\n",
      "Eric Roberts          347\n",
      "Mithun Chakraborty    334\n",
      "Name: count, dtype: int64\n",
      "person_name\n",
      "Audrey Wagner Elam     1\n",
      "Ivy Vega               1\n",
      "Jimilee Allen          1\n",
      "Albert de Jong         1\n",
      "Ganesh Vasant Patil    1\n",
      "Name: count, dtype: int64\n"
     ]
    }
   ],
   "source": [
    "# Top 5 des acteurs all time !\n",
    "print(actor[\"person_name\"].value_counts().head(5))\n",
    "# Bottom 5 des acteurs all time !\n",
    "print(actor[\"person_name\"].value_counts().tail(5))"
   ]
  },
  {
   "cell_type": "code",
   "execution_count": 46,
   "metadata": {},
   "outputs": [
    {
     "name": "stdout",
     "output_type": "stream",
     "text": [
      "Top 5 actors by movies for 1900-1920\n",
      "--------------------\n",
      "person_name\n",
      "Jason Young        150\n",
      "Eric Roberts        77\n",
      "Claudette Young     43\n",
      "Lee Jagow           32\n",
      "Susan Jarrett       31\n",
      "--------------------\n",
      "Top 5 actors by movies for 1920-1940\n",
      "--------------------\n",
      "person_name\n",
      "Joseph J. Dowling    71\n",
      "Olga Engl            69\n",
      "Theodore Roberts     66\n",
      "Frederik Jacobsen    62\n",
      "William Russell      60\n",
      "--------------------\n",
      "Top 5 actors by movies for 1940-1960\n",
      "--------------------\n",
      "person_name\n",
      "Akane Hisano      172\n",
      "Rintarô Fujima    155\n",
      "Sau-Nin Wong      147\n",
      "Itoji Koto        137\n",
      "Jun Arai          133\n",
      "--------------------\n",
      "Top 5 actors by movies for 1960-1980\n",
      "--------------------\n",
      "person_name\n",
      "Chhabi Biswas        108\n",
      "Mahmoud Al Meleji    102\n",
      "Andrés Soler          97\n",
      "Luis Aguilar          96\n",
      "Ahmet Tarik Tekçe     91\n",
      "--------------------\n",
      "Top 5 actors by movies for 1980-1990\n",
      "--------------------\n",
      "person_name\n",
      "Seong-il Shin      295\n",
      "Eddie Garcia       220\n",
      "Paquito Diaz       219\n",
      "Cüneyt Arkin       204\n",
      "Yeong-gyun Shin    184\n",
      "--------------------\n",
      "Top 5 actors by movies for 1990-2000\n",
      "--------------------\n",
      "person_name\n",
      "Mammootty             145\n",
      "Mohanlal              144\n",
      "George Estregan       126\n",
      "Mithun Chakraborty    115\n",
      "Eddie Garcia          104\n",
      "--------------------\n",
      "Top 5 actors by movies for 2000-2010\n",
      "--------------------\n",
      "person_name\n",
      "Brahmanandam          316\n",
      "Shakti Kapoor         113\n",
      "Kiran Kumar           109\n",
      "Mithun Chakraborty     98\n",
      "Raza Murad             96\n",
      "--------------------\n",
      "Top 5 actors by movies for 2010-2020\n",
      "--------------------\n",
      "person_name\n",
      "Brahmanandam    244\n",
      "Avinash         116\n",
      "Prakash Raj     110\n",
      "Mohammad Ali    107\n",
      "Ramesh Bhat      83\n",
      "--------------------\n",
      "Top 5 actors by movies for >2021\n",
      "--------------------\n",
      "person_name\n",
      "Eric Roberts     170\n",
      "Bimbo Ademoye    107\n",
      "Sadhu Kokila     100\n",
      "Brahmanandam      86\n",
      "Seun Akindele     83\n",
      "--------------------\n"
     ]
    }
   ],
   "source": [
    "# Top 5 actors by years\n",
    "for date in names[1:]:\n",
    "    top5 = actor['person_name'][condi].value_counts().head(5)\n",
    "    condi = (\n",
    "        (actor[\"cuts\"] == date)\n",
    "    )\n",
    "    top5_str = '\\n'.join(str(top5).split('\\n')[:-1])\n",
    "\n",
    "    print(f\"Top 5 actors by movies for {date}\\n{'-'*20}\\n{top5_str}\")\n",
    "    print(\"-\"*20)\n"
   ]
  },
  {
   "cell_type": "code",
   "execution_count": 47,
   "metadata": {},
   "outputs": [
    {
     "name": "stdout",
     "output_type": "stream",
     "text": [
      "Le film le plus long est Ambiancé d'une durée de 720 heures soit 30 jours\n",
      "All time duration median : 84 minutes\n"
     ]
    }
   ],
   "source": [
    "#  World record of the longest documentary\n",
    "# source :https://fr.wikipedia.org/wiki/Ambianc%C3%A9\n",
    "longest = actor[actor[\"titre_duree\"] == 43200]\n",
    "n = longest[[\"titre_str\", \"titre_duree\"]].iloc[0]\n",
    "heure = n[\"titre_duree\"] // 60\n",
    "jours = heure // 24\n",
    "print(f\"Le film le plus long est {n['titre_str']} d'une durée de {heure} heures soit {jours} jours\")\n",
    "# All time median for duration\n",
    "print(f\"All time duration median : {round(actor['titre_duree'].median())} minutes\")\n"
   ]
  },
  {
   "cell_type": "code",
   "execution_count": 50,
   "metadata": {},
   "outputs": [
    {
     "name": "stdout",
     "output_type": "stream",
     "text": [
      "Median durations for movies 1900-1920\n",
      "Median for this years is 48 minutes\n",
      "--------------------\n",
      "Median durations for movies 1920-1940\n",
      "Median for this years is 62 minutes\n",
      "--------------------\n",
      "Median durations for movies 1940-1960\n",
      "Median for this years is 85 minutes\n",
      "--------------------\n",
      "Median durations for movies 1960-1980\n",
      "Median for this years is 89 minutes\n",
      "--------------------\n",
      "Median durations for movies 1980-1990\n",
      "Median for this years is 90 minutes\n",
      "--------------------\n",
      "Median durations for movies 1990-2000\n",
      "Median for this years is 90 minutes\n",
      "--------------------\n",
      "Median durations for movies 2000-2010\n",
      "Median for this years is 89 minutes\n",
      "--------------------\n",
      "Median durations for movies 2010-2020\n",
      "Median for this years is 86 minutes\n",
      "--------------------\n",
      "Median durations for movies >2021\n",
      "Median for this years is 80 minutes\n",
      "--------------------\n"
     ]
    }
   ],
   "source": [
    "# Median duration for movies between years.\n",
    "nodup = actor[~actor[\"titre_str\"].duplicated(keep=\"first\")]\n",
    "\n",
    "for date in names[1:]:\n",
    "    condi = (\n",
    "        (nodup[\"cuts\"] == date)\n",
    "    )\n",
    "    med = round(nodup[\"titre_duree\"][condi].median())\n",
    "    print(f\"Median durations for movies {date}\\nMedian for this years is {med} minutes\")\n",
    "    print(\"-\"*20)\n"
   ]
  }
 ],
 "metadata": {
  "kernelspec": {
   "display_name": "Python 3",
   "language": "python",
   "name": "python3"
  },
  "language_info": {
   "codemirror_mode": {
    "name": "ipython",
    "version": 3
   },
   "file_extension": ".py",
   "mimetype": "text/x-python",
   "name": "python",
   "nbconvert_exporter": "python",
   "pygments_lexer": "ipython3",
   "version": "3.10.11"
  }
 },
 "nbformat": 4,
 "nbformat_minor": 2
}
