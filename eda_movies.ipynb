{
 "cells": [
  {
   "cell_type": "markdown",
   "metadata": {},
   "source": [
    "Analyse des données\n",
    "\n",
    "Préparation des données avec pandas\n"
   ]
  },
  {
   "cell_type": "code",
   "execution_count": 1,
   "metadata": {},
   "outputs": [],
   "source": [
    "%load_ext autoreload\n",
    "%autoreload 2\n",
    "%reload_ext autoreload\n",
    "\n",
    "import polars as pl\n",
    "import pandas as pd\n",
    "pd.set_option('display.float_format', lambda x: f'{x :.3f}')\n",
    "from cleaner import DataCleaner\n",
    "import numpy as np\n",
    "from datetime import datetime\n",
    "from tools import (\n",
    "    logging\n",
    ")"
   ]
  },
  {
   "cell_type": "markdown",
   "metadata": {},
   "source": [
    "Dataset name_basics"
   ]
  },
  {
   "cell_type": "code",
   "execution_count": 2,
   "metadata": {},
   "outputs": [],
   "source": [
    "df = pd.read_csv(\"clean_datasets/movies.csv\", index_col=0)"
   ]
  },
  {
   "cell_type": "code",
   "execution_count": 3,
   "metadata": {},
   "outputs": [
    {
     "name": "stderr",
     "output_type": "stream",
     "text": [
      "2023-10-23 08:49:28 INFO     Fixing encoding values...\n",
      "2023-10-23 08:49:40 INFO     Fixing N values...\n",
      "2023-10-23 08:49:44 INFO     Cleaning porn movies...\n",
      "2023-10-23 08:49:46 INFO     Cleaned : 477069 rows\n"
     ]
    }
   ],
   "source": [
    "cleaning = DataCleaner()\n",
    "# d'abord je fix l'encodage et apres je clean les \\N\n",
    "\n",
    "test1 = cleaning.fix_values(df, \"fix_encode\")\n",
    "test = cleaning.fix_values(test1, \"fix_n\")\n",
    "# maintenant je clean les porns ! et supprime les ligne ou nous n'avons pas de type de genre.\n",
    "clean_porn = cleaning.clean_porn(test)\n",
    "\n",
    "logging.info(f\"Cleaned : {len(df) - len(clean_porn)} rows\")"
   ]
  },
  {
   "cell_type": "code",
   "execution_count": 4,
   "metadata": {},
   "outputs": [],
   "source": [
    "condi = (\n",
    "    clean_porn[\"person_job\"].str.contains(\"act\")\n",
    ")\n",
    "df = clean_porn[condi]\n",
    "actor = df.copy()"
   ]
  },
  {
   "cell_type": "code",
   "execution_count": 5,
   "metadata": {},
   "outputs": [],
   "source": [
    "\"\"\"\n",
    "Nettoyage des date_sorties nan et modification de la colonne.\n",
    "Nous avons plusieurs methodes disponible, comme:\n",
    "\n",
    "clean_porn['titre_date_sortie'].fillna(-1, inplace=True)\n",
    "clean_porn.dropna(subset=['titre_date_sortie'], inplace=True)\n",
    "et une fois que l'on a clean\n",
    "on applique int a toute la colonne\n",
    "clean_porn['titre_date_sortie'] = clean_porn['titre_date_sortie'].astype(int)\n",
    "\n",
    "\"\"\"\n",
    "actor['titre_date_sortie'].fillna(0, inplace=True)\n",
    "actor['titre_date_sortie'] = actor['titre_date_sortie'].astype(\"int64\")\n",
    "actor['person_birthdate'] = actor['person_birthdate'].astype(\"int64\")\n",
    "actor['titre_duree'] = actor['titre_duree'].astype(\"int64\")\n",
    "\n",
    "line = \"clean_datasets/movies_rating.csv\"\n",
    "actor.to_csv(line)"
   ]
  },
  {
   "cell_type": "code",
   "execution_count": null,
   "metadata": {},
   "outputs": [],
   "source": [
    "actor.tail()"
   ]
  },
  {
   "cell_type": "code",
   "execution_count": null,
   "metadata": {},
   "outputs": [],
   "source": [
    "\"\"\"\n",
    "La moyenne d'age des acteurs a la date de sortie du film.\n",
    "Nous calculons la mediane sur cette base.\n",
    "\n",
    "other KPI, calcul la moyenne des ages en fonction de l'année\n",
    "\n",
    "\"\"\"\n",
    "# ajouter colonne age pour les personnes\n",
    "actor[\"person_age\"] = np.where(\n",
    "    (actor[\"person_birthdate\"] > 1900) &\n",
    "    (actor[\"titre_date_sortie\"] > 1900) &\n",
    "    (actor[\"titre_date_sortie\"] - actor[\"person_birthdate\"] >= 0),\n",
    "    (actor[\"titre_date_sortie\"] - actor[\"person_birthdate\"]),\n",
    "    0\n",
    ")\n"
   ]
  },
  {
   "cell_type": "code",
   "execution_count": null,
   "metadata": {},
   "outputs": [],
   "source": [
    "\"\"\"\n",
    "imagine un fonction, qui prendrais en argument une liste de date de\n",
    "titre de sortie et retourne la moyenne d'age de ces années des acteurs.\n",
    "\n",
    "# Quels sont les acteurs les plus présents ?\n",
    "# À quelle période ?\n",
    "La durée moyenne des films s'allonge ou se raccourcit avec les années ?\n",
    "Les acteurs de série sont-ils les mêmes qu'au cinéma ?\n",
    "# Les acteurs ont en moyenne quel âge ?\n",
    "Quels sont les films les mieux notés ?\n",
    "Partagent-ils des caractéristiques communes ? etc...\n",
    "\n",
    "\"\"\"\n",
    "dates = [\"<1900\", \">1900\", \">1930\", \">1960\", \">1990\", \">2010\"]\n",
    "\n",
    "actor[\"cuts\"] = pd.cut(\n",
    "    actor[\"titre_date_sortie\"],\n",
    "    bins=[0, 1900, 1931, 1961, 1991, 2011, 2030],\n",
    "    labels=dates\n",
    ")\n",
    "\n",
    "for date in dates[1:]:\n",
    "    condi = (\n",
    "        (actor[\"person_age\"] != 0) &\n",
    "        (actor[\"cuts\"] == date)\n",
    "    )\n",
    "    print(f\"Mediane for {date}\", actor[\"person_age\"][condi].median())\n"
   ]
  },
  {
   "cell_type": "code",
   "execution_count": null,
   "metadata": {},
   "outputs": [],
   "source": [
    "# Top 5 des acteurs all time !\n",
    "print(actor[\"person_name\"].value_counts().head(5))"
   ]
  },
  {
   "cell_type": "code",
   "execution_count": null,
   "metadata": {},
   "outputs": [],
   "source": [
    "# Top 5 actors by years\n",
    "for date in dates[1:]:\n",
    "    top5 = actor['person_name'][condi].value_counts().head(5)\n",
    "    condi = (\n",
    "        (actor[\"cuts\"] == date)\n",
    "    )\n",
    "    top5_str = '\\n'.join(str(top5).split('\\n')[:-1])\n",
    "\n",
    "    print(f\"Top 5 actors by movies for {date}\\n{'-'*20}\\n{top5_str}\")\n",
    "    print(\"-\"*20)\n"
   ]
  },
  {
   "cell_type": "code",
   "execution_count": null,
   "metadata": {},
   "outputs": [],
   "source": [
    "#  World record of the longest documentary\n",
    "# source :https://fr.wikipedia.org/wiki/Ambianc%C3%A9\n",
    "longest = actor[actor[\"titre_duree\"] == 43200]\n",
    "n = longest[[\"titre_str\", \"titre_duree\"]].iloc[0]\n",
    "heure = n[\"titre_duree\"] // 60\n",
    "jours = heure // 24\n",
    "print(f\"Le film le plus long est {n['titre_str']} d'une durée de {heure} heures soit {jours} jours\")\n",
    "# All time median for duration\n",
    "print(f\"All time duration median : {round(actor['titre_duree'].median())} minutes\")\n"
   ]
  },
  {
   "cell_type": "code",
   "execution_count": null,
   "metadata": {},
   "outputs": [],
   "source": [
    "# Median duration for movies between years.\n",
    "for date in dates[1:]:\n",
    "    condi = (\n",
    "        (actor[\"cuts\"] == date)\n",
    "    )\n",
    "    med = round(actor[\"titre_duree\"][condi].median())\n",
    "    print(f\"Median durations for movies {date}\\nMedian for this years is {med} minutes\")\n",
    "    print(\"-\"*20)\n"
   ]
  }
 ],
 "metadata": {
  "kernelspec": {
   "display_name": "Python 3",
   "language": "python",
   "name": "python3"
  },
  "language_info": {
   "codemirror_mode": {
    "name": "ipython",
    "version": 3
   },
   "file_extension": ".py",
   "mimetype": "text/x-python",
   "name": "python",
   "nbconvert_exporter": "python",
   "pygments_lexer": "ipython3",
   "version": "3.10.11"
  }
 },
 "nbformat": 4,
 "nbformat_minor": 2
}
