{
 "cells": [
  {
   "cell_type": "code",
   "execution_count": 1,
   "metadata": {},
   "outputs": [],
   "source": [
    "\n",
    "%load_ext autoreload\n",
    "%autoreload 2\n",
    "%reload_ext autoreload\n",
    "\n",
    "import pandas as pd\n",
    "import numpy as np\n",
    "import hjson\n",
    "import re\n",
    "import matplotlib.pyplot as plt\n",
    "from fuzzywuzzy import process\n",
    "from unicodedata import normalize, combining\n",
    "from datetime import datetime\n",
    "\n",
    "import nltk\n",
    "from nltk.corpus import stopwords\n",
    "from nltk.stem import WordNetLemmatizer\n",
    "from sklearn.metrics.pairwise import linear_kernel\n",
    "from sklearn.metrics.pairwise import cosine_similarity\n",
    "from sklearn.preprocessing import LabelEncoder\n",
    "from sklearn.neighbors import NearestNeighbors\n",
    "from sklearn.ensemble import RandomForestClassifier\n",
    "from sklearn.feature_extraction.text import TfidfVectorizer\n",
    "from sklearn.feature_extraction.text import CountVectorizer\n",
    "\n",
    "from get_dataframes import GetDataframes\n",
    "from tools import import_config, import_datasets, check_titre, color\n",
    "from scipy.sparse import hstack\n",
    "\n",
    "pd.set_option('display.max_columns', None)"
   ]
  },
  {
   "cell_type": "code",
   "execution_count": 2,
   "metadata": {},
   "outputs": [],
   "source": [
    "config = import_config()\n"
   ]
  },
  {
   "cell_type": "code",
   "execution_count": 3,
   "metadata": {},
   "outputs": [
    {
     "name": "stderr",
     "output_type": "stream",
     "text": [
      "2023-11-12 20:23:19 INFO     Parquet loaded ! Importing tmdb_updated_append...\n"
     ]
    }
   ],
   "source": [
    "df = import_datasets(\"clean_datasets/tmdb_updated_append.parquet\", \"parquet\")"
   ]
  },
  {
   "cell_type": "code",
   "execution_count": 4,
   "metadata": {},
   "outputs": [
    {
     "data": {
      "text/html": [
       "<div>\n",
       "<style scoped>\n",
       "    .dataframe tbody tr th:only-of-type {\n",
       "        vertical-align: middle;\n",
       "    }\n",
       "\n",
       "    .dataframe tbody tr th {\n",
       "        vertical-align: top;\n",
       "    }\n",
       "\n",
       "    .dataframe thead th {\n",
       "        text-align: right;\n",
       "    }\n",
       "</style>\n",
       "<table border=\"1\" class=\"dataframe\">\n",
       "  <thead>\n",
       "    <tr style=\"text-align: right;\">\n",
       "      <th></th>\n",
       "      <th>budget</th>\n",
       "      <th>id</th>\n",
       "      <th>popularity</th>\n",
       "      <th>release_date</th>\n",
       "      <th>revenue</th>\n",
       "      <th>runtime</th>\n",
       "      <th>vote_average</th>\n",
       "      <th>vote_count</th>\n",
       "    </tr>\n",
       "  </thead>\n",
       "  <tbody>\n",
       "    <tr>\n",
       "      <th>count</th>\n",
       "      <td>3411.00</td>\n",
       "      <td>3411.00</td>\n",
       "      <td>3411.00</td>\n",
       "      <td>3411</td>\n",
       "      <td>3411.00</td>\n",
       "      <td>3411.00</td>\n",
       "      <td>3411.00</td>\n",
       "      <td>3411.00</td>\n",
       "    </tr>\n",
       "    <tr>\n",
       "      <th>mean</th>\n",
       "      <td>36939698.51</td>\n",
       "      <td>173607.83</td>\n",
       "      <td>39.86</td>\n",
       "      <td>2006-05-29 22:08:32.928759808</td>\n",
       "      <td>134325866.12</td>\n",
       "      <td>112.65</td>\n",
       "      <td>7.10</td>\n",
       "      <td>3682.87</td>\n",
       "    </tr>\n",
       "    <tr>\n",
       "      <th>min</th>\n",
       "      <td>0.00</td>\n",
       "      <td>11.00</td>\n",
       "      <td>0.60</td>\n",
       "      <td>1960-02-05 00:00:00</td>\n",
       "      <td>0.00</td>\n",
       "      <td>6.00</td>\n",
       "      <td>6.30</td>\n",
       "      <td>750.00</td>\n",
       "    </tr>\n",
       "    <tr>\n",
       "      <th>25%</th>\n",
       "      <td>3500000.00</td>\n",
       "      <td>6537.50</td>\n",
       "      <td>17.95</td>\n",
       "      <td>1999-03-01 12:00:00</td>\n",
       "      <td>9323216.50</td>\n",
       "      <td>98.00</td>\n",
       "      <td>6.68</td>\n",
       "      <td>1178.00</td>\n",
       "    </tr>\n",
       "    <tr>\n",
       "      <th>50%</th>\n",
       "      <td>18000000.00</td>\n",
       "      <td>24238.00</td>\n",
       "      <td>25.12</td>\n",
       "      <td>2009-08-26 00:00:00</td>\n",
       "      <td>48453605.00</td>\n",
       "      <td>110.00</td>\n",
       "      <td>7.04</td>\n",
       "      <td>2009.00</td>\n",
       "    </tr>\n",
       "    <tr>\n",
       "      <th>75%</th>\n",
       "      <td>48000000.00</td>\n",
       "      <td>337615.00</td>\n",
       "      <td>39.52</td>\n",
       "      <td>2016-12-13 00:00:00</td>\n",
       "      <td>154363068.00</td>\n",
       "      <td>124.00</td>\n",
       "      <td>7.45</td>\n",
       "      <td>4281.50</td>\n",
       "    </tr>\n",
       "    <tr>\n",
       "      <th>max</th>\n",
       "      <td>460000000.00</td>\n",
       "      <td>1151534.00</td>\n",
       "      <td>2820.30</td>\n",
       "      <td>2023-10-25 00:00:00</td>\n",
       "      <td>2923706026.00</td>\n",
       "      <td>233.00</td>\n",
       "      <td>8.71</td>\n",
       "      <td>34719.00</td>\n",
       "    </tr>\n",
       "    <tr>\n",
       "      <th>std</th>\n",
       "      <td>51026037.38</td>\n",
       "      <td>229185.35</td>\n",
       "      <td>90.32</td>\n",
       "      <td>NaN</td>\n",
       "      <td>232934354.89</td>\n",
       "      <td>20.87</td>\n",
       "      <td>0.51</td>\n",
       "      <td>4163.29</td>\n",
       "    </tr>\n",
       "  </tbody>\n",
       "</table>\n",
       "</div>"
      ],
      "text/plain": [
       "            budget         id  popularity                   release_date  \\\n",
       "count      3411.00    3411.00     3411.00                           3411   \n",
       "mean   36939698.51  173607.83       39.86  2006-05-29 22:08:32.928759808   \n",
       "min           0.00      11.00        0.60            1960-02-05 00:00:00   \n",
       "25%     3500000.00    6537.50       17.95            1999-03-01 12:00:00   \n",
       "50%    18000000.00   24238.00       25.12            2009-08-26 00:00:00   \n",
       "75%    48000000.00  337615.00       39.52            2016-12-13 00:00:00   \n",
       "max   460000000.00 1151534.00     2820.30            2023-10-25 00:00:00   \n",
       "std    51026037.38  229185.35       90.32                            NaN   \n",
       "\n",
       "            revenue  runtime  vote_average  vote_count  \n",
       "count       3411.00  3411.00       3411.00     3411.00  \n",
       "mean   134325866.12   112.65          7.10     3682.87  \n",
       "min            0.00     6.00          6.30      750.00  \n",
       "25%      9323216.50    98.00          6.68     1178.00  \n",
       "50%     48453605.00   110.00          7.04     2009.00  \n",
       "75%    154363068.00   124.00          7.45     4281.50  \n",
       "max   2923706026.00   233.00          8.71    34719.00  \n",
       "std    232934354.89    20.87          0.51     4163.29  "
      ]
     },
     "execution_count": 4,
     "metadata": {},
     "output_type": "execute_result"
    }
   ],
   "source": [
    "df.describe()"
   ]
  },
  {
   "cell_type": "code",
   "execution_count": 9,
   "metadata": {},
   "outputs": [],
   "source": [
    "col = [\n",
    "    'imdb_id',\n",
    "    'title',\n",
    "    # 'adult',\n",
    "    # 'backdrop_path',\n",
    "    # 'budget',\n",
    "    'genres',\n",
    "    'actors',\n",
    "    'director',\n",
    "    'keywords',\n",
    "    # 'id',\n",
    "    # 'original_language',\n",
    "    # 'original_title',\n",
    "    'overview',\n",
    "    'popularity',\n",
    "    # 'production_countries',\n",
    "    'release_date',\n",
    "    # 'revenue',\n",
    "    # 'runtime',\n",
    "    # 'spoken_languages',\n",
    "    # 'status',\n",
    "    # 'tagline',\n",
    "    # 'video',\n",
    "    'vote_average',\n",
    "    'vote_count',\n",
    "    'url',\n",
    "    \"image\",\n",
    "    \"youtube\",\n",
    "    # 'poster_path',\n",
    "    # 'production_companies_name',\n",
    "]"
   ]
  },
  {
   "cell_type": "code",
   "execution_count": 11,
   "metadata": {},
   "outputs": [],
   "source": [
    "df = df[col]"
   ]
  },
  {
   "cell_type": "code",
   "execution_count": 12,
   "metadata": {},
   "outputs": [],
   "source": [
    "col_rename = {\n",
    "    \"imdb_id\": \"titre_id\",\n",
    "    \"title\": \"titre_str\",\n",
    "    'genres': \"titre_genres\",\n",
    "    'actors': 'actors',\n",
    "    'director': \"director\",\n",
    "    'keywords': \"keywords\",\n",
    "    'overview': \"overview\",\n",
    "    'popularity': \"popularity\",\n",
    "    'release_date': \"date\",\n",
    "    'vote_average': \"rating_avg\",\n",
    "    'vote_count': \"rating_vote\",\n",
    "    'poster_path': \"image\"\n",
    "}"
   ]
  },
  {
   "cell_type": "code",
   "execution_count": 13,
   "metadata": {},
   "outputs": [],
   "source": [
    "df.rename(columns=col_rename, inplace=True)"
   ]
  },
  {
   "cell_type": "code",
   "execution_count": 14,
   "metadata": {},
   "outputs": [],
   "source": [
    "df.sort_values(by=\"date\", inplace=True)"
   ]
  },
  {
   "cell_type": "code",
   "execution_count": 15,
   "metadata": {},
   "outputs": [],
   "source": [
    "tt = [\n",
    "    \"actors\",\n",
    "    \"titre_genres\",\n",
    "    \"director\",\n",
    "    \"keywords\",\n",
    "]\n",
    "for t in tt:\n",
    "    df[t] = df[t].apply(\n",
    "        lambda x: \", \".join(map(str, x))\n",
    "    ).replace(\" \", \"\")"
   ]
  },
  {
   "cell_type": "code",
   "execution_count": 16,
   "metadata": {},
   "outputs": [],
   "source": [
    "df[\"titre_clean\"] = df[\"titre_str\"]\n",
    "df[\"titre_clean\"] = df[\"titre_clean\"].apply(lambda x : x.lower())"
   ]
  },
  {
   "cell_type": "code",
   "execution_count": 17,
   "metadata": {},
   "outputs": [],
   "source": [
    "def clean_overview(\n",
    "    text: str\n",
    ") -> str:\n",
    "    text = text.lower()\n",
    "    text = re.sub(r'[^a-z]', ' ', text)\n",
    "    words = text.split()\n",
    "    words = [w for w in words if w not in stopwords.words('french')]\n",
    "    lemmatizer = WordNetLemmatizer()\n",
    "    words = [lemmatizer.lemmatize(word) for word in words]\n",
    "    return ' '.join(words)\n"
   ]
  },
  {
   "cell_type": "code",
   "execution_count": 18,
   "metadata": {},
   "outputs": [],
   "source": [
    "def supprimer_accents(texte):\n",
    "    texte_clean = normalize('NFKD', texte)\n",
    "    return \"\".join(\n",
    "        [c for c in texte_clean if not combining(c)]\n",
    "    )\n",
    "\n",
    "tt = [\n",
    "    \"actors\",\n",
    "    \"titre_genres\",\n",
    "    \"keywords\",\n",
    "    \"director\",\n",
    "    \"titre_clean\",\n",
    "    \"overview\"\n",
    "]\n",
    "for t in tt:\n",
    "    df[t] = df[t].astype(str).apply(supprimer_accents)"
   ]
  },
  {
   "cell_type": "code",
   "execution_count": 19,
   "metadata": {},
   "outputs": [
    {
     "name": "stdout",
     "output_type": "stream",
     "text": [
      "|      | titre_id   | titre_str                    | titre_genres             | actors                                         | director     | keywords                                               | overview                                                                                                                                                                                                                                                                                                                                                                                                                                                                                                                                                                                                                                                                                     |   popularity | date                |   rating_avg |   rating_vote | url                                  | image                                                           | youtube                                     | titre_clean                  |\n",
      "|-----:|:-----------|:-----------------------------|:-------------------------|:-----------------------------------------------|:-------------|:-------------------------------------------------------|:---------------------------------------------------------------------------------------------------------------------------------------------------------------------------------------------------------------------------------------------------------------------------------------------------------------------------------------------------------------------------------------------------------------------------------------------------------------------------------------------------------------------------------------------------------------------------------------------------------------------------------------------------------------------------------------------|-------------:|:--------------------|-------------:|--------------:|:-------------------------------------|:----------------------------------------------------------------|:--------------------------------------------|:-----------------------------|\n",
      "| 2415 | tt0058135  | Le Gendarme de Saint-Tropez  | Comedie                  | Louis de Funes, Genevieve Grad, Michel Galabru | Jean Girault | nun, lie, gendarmerie, rembrandt                       | Le gendarme Cruchot est mute a St‐Tropez avec un galon de plus. En arrivant, il se montre d’emblee d’une intransigeance qui etonne ses subalternes. Sa fille eblouie par le luxe de St‐Tropez, pour se faire accepter par ses fils a papa de l’endroit, se fait passer pour la fille d’un richissime Yachtman. Pendant ce temps, Cruchot fait la chasse aux nudistes...                                                                                                                                                                                                                                                                                                                      |       12.296 | 1964-09-08 00:00:00 |        7.07  |           794 | https://www.imdb.com/title/tt0058135 | https://image.tmdb.org/t/p/w500/6510K6Y8eYLf9FJ7O4xaOnwhn2u.jpg | https://www.youtube.com/watch?v=uIdChfnxyP4 | le gendarme de saint-tropez  |\n",
      "|   64 | tt0060474  | La Grande Vadrouille         | Comedie, Guerre          | Bourvil, Louis de Funes, Terry-Thomas          | Gerard Oury  | paris, france, general, world war ii, opera            | En 1942, un avion de la Royal Air Force est abattu au-dessus de Paris. Les trois pilotes sautent en parachute et sont recueillis par deux resistants francais. Ils se lancent dans des aventures extravagantes pour conduire les Anglais en zone libre.                                                                                                                                                                                                                                                                                                                                                                                                                                      |       21.613 | 1966-12-08 00:00:00 |        7.93  |          1220 | https://www.imdb.com/title/tt0060474 | https://image.tmdb.org/t/p/w500/8mIIxQJu4vBk8Sfnv9zKeKcWJ2j.jpg | https://www.youtube.com/watch?v=U1aad8DAMwQ | la grande vadrouille         |\n",
      "|  562 | tt0069747  | Les Aventures de Rabbi Jacob | Comedie                  | Louis de Funes, Suzy Delair, Marcel Dalio      | Gerard Oury  | paris, france, new york city, red hair, airport        | A la suite d’un quiproquo, un homme d’affaires irascible et raciste, se retrouve confronte malgre lui a un reglement de compte entre terroristes d’un pays arabe. Afin de semer ses poursuivants, il se deguise en rabbin, apres avoir croise a Orly des religieux juifs en provenance de New‐York.                                                                                                                                                                                                                                                                                                                                                                                          |       18.264 | 1973-10-17 00:00:00 |        7.412 |           899 | https://www.imdb.com/title/tt0069747 | https://image.tmdb.org/t/p/w500/lf6D4UZ7khLmpRRzKF7OQRmgISc.jpg | https://www.youtube.com/watch?v=NAUBjOJBSQM | les aventures de rabbi jacob |\n",
      "|  563 | tt0074103  | L'Aile ou la Cuisse          | Comedie                  | Louis de Funes, Coluche, Ann Zacharias         | Claude Zidi  | circus, double life, restaurant, fast food restaurant  | Charles Duchemin, le directeur d’un guide gastronomique qui vient d’etre elu a l’Academie Francaise, se trouve un adversaire de taille en la personne de Jacques Tricatel, le PDG d’une chaine de restaurants. Son fils Gerard anime en cachette une petite troupe de cirque.                                                                                                                                                                                                                                                                                                                                                                                                                |       15.353 | 1976-10-27 00:00:00 |        7.238 |           795 | https://www.imdb.com/title/tt0074103 | https://image.tmdb.org/t/p/w500/bPiy54eS2243YKp6l5u73UOL226.jpg | https://www.youtube.com/watch?v=HHArVsoHK0w | l'aile ou la cuisse          |\n",
      "|  793 | tt0083109  | La Soupe aux choux           | Comedie, Science-Fiction | Louis de Funes, Jean Carmet, Jacques Villeret  | Jean Girault | france, alcohol, based on novel or book, culture clash | Au hameau de Gourdifflots, en plein Bourbonnais, deux paysans retraites, « le Glaude » et « le Bombe », se tiennent volontairement a l’ecart du monde exterieur, plus occupes a faire bombance et a honorer la dive bouteille qu’a se soucier de la marche du siecle. Un soir, apres bien des exces alimentaires et un formidable concours de pets, ils voient avec etonnement une soucoupe volante se poser dans leur jardin. Le Glaude accueille comme un vieil ami le curieux et debonnaire extraterrestre et lui offre un peu de sa fameuse soupe aux choux, si delectable que « la Denree », surnom de l’extraterrestre, va fidelement revenir, conquis par le gout exquis du potage... |       12.235 | 1981-12-02 00:00:00 |        6.367 |           792 | https://www.imdb.com/title/tt0083109 | https://image.tmdb.org/t/p/w500/3Eym65PSArfU89O15Cct0JiaPHl.jpg | https://www.youtube.com/watch?v=sHPJV7I8jwE | la soupe aux choux           |\n"
     ]
    }
   ],
   "source": [
    "t = df[df[\"actors\"].str.contains(\"Funes\")]\n",
    "print(t.to_markdown())"
   ]
  },
  {
   "cell_type": "code",
   "execution_count": 20,
   "metadata": {},
   "outputs": [
    {
     "name": "stdout",
     "output_type": "stream",
     "text": [
      "cleaning overview\n"
     ]
    }
   ],
   "source": [
    "print(\"cleaning overview\")\n",
    "df['overview'] = df['overview'].astype(str).apply(clean_overview)"
   ]
  },
  {
   "cell_type": "code",
   "execution_count": 21,
   "metadata": {},
   "outputs": [
    {
     "name": "stdout",
     "output_type": "stream",
     "text": [
      "| titre_id   | titre_str   | titre_genres   | actors   | director   | keywords   | overview   | popularity   | date   | rating_avg   | rating_vote   | url   | image   | youtube   | titre_clean   |\n",
      "|------------|-------------|----------------|----------|------------|------------|------------|--------------|--------|--------------|---------------|-------|---------|-----------|---------------|\n"
     ]
    }
   ],
   "source": [
    "t = df[df[\"actors\"].str.contains(\"funes\")]\n",
    "print(t.to_markdown())"
   ]
  },
  {
   "cell_type": "code",
   "execution_count": 22,
   "metadata": {},
   "outputs": [
    {
     "name": "stdout",
     "output_type": "stream",
     "text": [
      "lowering everything in actors\n",
      "lowering everything in titre_genres\n",
      "lowering everything in director\n",
      "lowering everything in keywords\n",
      "lowering everything in titre_clean\n"
     ]
    }
   ],
   "source": [
    "def full_lower(text: str):\n",
    "    # return text.replace(\" \", \"\").replace(\"-\", \"\").lower()\n",
    "    return text.replace(\" \", \"\").replace(\"-\", \"\").replace(\"'\", \"\").replace(\":\", \"\").lower()\n",
    "\n",
    "\n",
    "tt = [\n",
    "    \"actors\",\n",
    "    \"titre_genres\",\n",
    "    \"director\",\n",
    "    \"keywords\",\n",
    "    \"titre_clean\",\n",
    "]\n",
    "for t in tt:\n",
    "    print(f\"lowering everything in {t}\")\n",
    "    # if \"titre_clean\" in t:\n",
    "    #     df[t] = df[t].apply(lambda x : x.replace(\":\", \" \"))\n",
    "    #     tt.remove(t)\n",
    "    # else:\n",
    "    df[t] = df[t].apply(full_lower)"
   ]
  },
  {
   "cell_type": "code",
   "execution_count": 3,
   "metadata": {},
   "outputs": [],
   "source": [
    "name = \"machine_learning.parquet\"\n"
   ]
  },
  {
   "cell_type": "code",
   "execution_count": 81,
   "metadata": {},
   "outputs": [],
   "source": [
    "dfff = df.copy()\n",
    "dfff.reset_index(drop='index', inplace=True)\n",
    "dfff.to_parquet(name)"
   ]
  },
  {
   "cell_type": "code",
   "execution_count": 5,
   "metadata": {},
   "outputs": [],
   "source": [
    "dff = pd.read_parquet(name)"
   ]
  },
  {
   "cell_type": "code",
   "execution_count": 6,
   "metadata": {},
   "outputs": [],
   "source": [
    "def titre_index(titre: str):\n",
    "    return dff[dff.titre_str == titre].index[0]\n",
    "\n",
    "def director_index(director: str):\n",
    "    return dff[dff.directors.str.contains(director)].index[0]\n",
    "\n",
    "def actor_index(actor: str):\n",
    "    return dff[dff.actors.str.contains(actor)].index[0]\n",
    "\n",
    "def idx_titre(idx: int):\n",
    "    return dff[dff.index == idx][\"titre_str\"].values[0]\n",
    "\n",
    "def idx_actor(idx: int):\n",
    "    return dff[dff.index == idx][\"actors\"].values[0]\n",
    "\n",
    "def idx_titre_id(idx: int):\n",
    "    return dff[dff.index == idx][\"titre_id\"].values[0]\n",
    "\n",
    "def idx_popularity(idx: int):\n",
    "    return dff[dff.index == idx][\"popularity\"].values[0]\n",
    "\n",
    "def idx_keywords(idx: int):\n",
    "    return dff[dff.index == idx][\"keywords\"].values[0]\n",
    "\n",
    "def idx_image(idx: int):\n",
    "    return dff[dff.index == idx][\"image\"].values[0]\n",
    "\n",
    "def idx_youtube(idx: int):\n",
    "    return dff[dff.index == idx][\"youtube\"].values[0]\n",
    "\n",
    "def idx_url(idx: int):\n",
    "    return dff[dff.index == idx][\"url\"].values[0]\n",
    "\n",
    "\n",
    "\n",
    "def check_titre_str(d: pd.DataFrame, movie: str):\n",
    "    return dff[dff[\"titre_str\"].str.contains(movie)]"
   ]
  },
  {
   "cell_type": "code",
   "execution_count": 7,
   "metadata": {},
   "outputs": [
    {
     "data": {
      "text/html": [
       "<div>\n",
       "<style scoped>\n",
       "    .dataframe tbody tr th:only-of-type {\n",
       "        vertical-align: middle;\n",
       "    }\n",
       "\n",
       "    .dataframe tbody tr th {\n",
       "        vertical-align: top;\n",
       "    }\n",
       "\n",
       "    .dataframe thead th {\n",
       "        text-align: right;\n",
       "    }\n",
       "</style>\n",
       "<table border=\"1\" class=\"dataframe\">\n",
       "  <thead>\n",
       "    <tr style=\"text-align: right;\">\n",
       "      <th></th>\n",
       "      <th>titre_id</th>\n",
       "      <th>titre_str</th>\n",
       "      <th>titre_genres</th>\n",
       "      <th>actors</th>\n",
       "      <th>director</th>\n",
       "      <th>keywords</th>\n",
       "      <th>overview</th>\n",
       "      <th>popularity</th>\n",
       "      <th>date</th>\n",
       "      <th>rating_avg</th>\n",
       "      <th>rating_vote</th>\n",
       "      <th>url</th>\n",
       "      <th>image</th>\n",
       "      <th>youtube</th>\n",
       "      <th>titre_clean</th>\n",
       "    </tr>\n",
       "  </thead>\n",
       "  <tbody>\n",
       "    <tr>\n",
       "      <th>783</th>\n",
       "      <td>tt0178868</td>\n",
       "      <td>Ring</td>\n",
       "      <td>horreur,thriller</td>\n",
       "      <td>nanakomatsushima,hiroyukisanada,rikiyaotaka</td>\n",
       "      <td>hideonakata</td>\n",
       "      <td>urbanlegend,videotape</td>\n",
       "      <td>soir seules a maison deux lyceennes font peur ...</td>\n",
       "      <td>20.82</td>\n",
       "      <td>1998-01-30</td>\n",
       "      <td>7.05</td>\n",
       "      <td>1277</td>\n",
       "      <td>https://www.imdb.com/title/tt0178868</td>\n",
       "      <td>https://image.tmdb.org/t/p/w500/yyGZFjVLSBvTqU...</td>\n",
       "      <td>https://www.youtube.com/watch?v=Sd26Z-pF1Ok</td>\n",
       "      <td>ring</td>\n",
       "    </tr>\n",
       "  </tbody>\n",
       "</table>\n",
       "</div>"
      ],
      "text/plain": [
       "      titre_id titre_str      titre_genres  \\\n",
       "783  tt0178868      Ring  horreur,thriller   \n",
       "\n",
       "                                          actors     director  \\\n",
       "783  nanakomatsushima,hiroyukisanada,rikiyaotaka  hideonakata   \n",
       "\n",
       "                  keywords                                           overview  \\\n",
       "783  urbanlegend,videotape  soir seules a maison deux lyceennes font peur ...   \n",
       "\n",
       "     popularity       date  rating_avg  rating_vote  \\\n",
       "783       20.82 1998-01-30        7.05         1277   \n",
       "\n",
       "                                      url  \\\n",
       "783  https://www.imdb.com/title/tt0178868   \n",
       "\n",
       "                                                 image  \\\n",
       "783  https://image.tmdb.org/t/p/w500/yyGZFjVLSBvTqU...   \n",
       "\n",
       "                                         youtube titre_clean  \n",
       "783  https://www.youtube.com/watch?v=Sd26Z-pF1Ok        ring  "
      ]
     },
     "execution_count": 7,
     "metadata": {},
     "output_type": "execute_result"
    }
   ],
   "source": [
    "check_titre(dff, \"ring\")"
   ]
  },
  {
   "cell_type": "code",
   "execution_count": 8,
   "metadata": {},
   "outputs": [],
   "source": [
    "def combine(r):\n",
    "    return (\n",
    "        r[\"keywords\"]+ \" \"+\n",
    "        r[\"actors\"]+\" \"+\n",
    "        r[\"director\"]+\" \"+\n",
    "        r[\"overview\"]+\" \"+\n",
    "        r[\"titre_genres\"]\n",
    "        # str(r[\"date\"])+\" \"+\n",
    "        # str(r[\"popularity\"])+\" \"+\n",
    "        # str(r[\"rating_avg\"])+ \" \"+\n",
    "        # str(r[\"rating_vote\"])\n",
    "    )\n",
    "\n",
    "dff[\"one_for_all\"] = dff.apply(combine, axis=1)"
   ]
  },
  {
   "cell_type": "code",
   "execution_count": 9,
   "metadata": {},
   "outputs": [],
   "source": [
    "def get_best_match_index_tfidf(movies: str, df: pd.DataFrame):\n",
    "    \"\"\"\n",
    "    Utilisation de FuzzyWuzzy et TfidfVectorizer\n",
    "    \"\"\"\n",
    "    best_match = process.extract(movies, df['titre_clean'].values, limit=10)\n",
    "    best_candidate = [match[0] for match in best_match]\n",
    "    print(\"best_matches\",best_match)\n",
    "    print(\"best_candidate\",best_candidate)\n",
    "    print(\"movies\",movies)\n",
    "\n",
    "    small_df = df[df['titre_clean'].isin(best_candidate)]\n",
    "    print(small_df[[\"titre_id\", \"titre_str\", \"titre_genres\", \"keywords\"]].to_markdown())\n",
    "    print()\n",
    "\n",
    "    tfidf = TfidfVectorizer()\n",
    "    matrix = tfidf.fit_transform(best_candidate)\n",
    "    tfidf_ = tfidf.transform([movies])\n",
    "\n",
    "    cosine_similarities = cosine_similarity(tfidf_, matrix).flatten()\n",
    "\n",
    "    best_match_idx = cosine_similarities.argmax()\n",
    "    best_match_titre = best_candidate[best_match_idx]\n",
    "    print(\"best_match_idx\",best_match_idx)\n",
    "    print(\"best_match_titre\",best_match_titre)\n",
    "    return df[df['titre_clean'] == best_match_titre].index[0]\n"
   ]
  },
  {
   "cell_type": "code",
   "execution_count": 10,
   "metadata": {},
   "outputs": [],
   "source": [
    "def get_best_match_index_knn(movies: str, df: pd.DataFrame):\n",
    "    \"\"\"\n",
    "    Utilisation de FuzzyWuzzy et Nearest Neighbors\n",
    "    \"\"\"\n",
    "    # best_match = process.extract(movies, df['titre_clean'].values, limit=10)\n",
    "    best_match = process.extractOne(movies, df['titre_clean'].values)\n",
    "    # best_candidate = [match[0] for match in best_match]\n",
    "    # print(\"best_matches :\\n\",best_match[0])\n",
    "    # print(\"best_candidate :\\n\",best_candidate)\n",
    "    small_df = df[df[\"titre_clean\"] == best_match[0]]\n",
    "    # print(small_df[[\"titre_id\", \"titre_str\", \"titre_genres\", \"keywords\"]].to_markdown())\n",
    "    # small_df = df[df['titre_clean'].isin(best_candidate)]\n",
    "    return df[df['titre_clean'] == best_match[0]].index[0]\n",
    "    print(small_df[[\"titre_id\", \"titre_str\", \"titre_genres\", \"keywords\"]].to_markdown())\n",
    "    print()\n",
    "\n",
    "    tfidf = TfidfVectorizer()\n",
    "    matrix = tfidf.fit_transform(small_df['titre_clean'].values)\n",
    "\n",
    "    knn = NearestNeighbors(n_neighbors=1).fit(matrix)\n",
    "    vector = tfidf.transform([movies])\n",
    "\n",
    "    print(\"query_vector\\n\",vector)\n",
    "\n",
    "    dist, idx = knn.kneighbors(vector, return_distance=True)\n",
    "\n",
    "    best_match_idx = idx[0][0]\n",
    "    best_match_titre = small_df['titre_clean'].iloc[best_match_idx]\n",
    "    print(\"best_match_idx :\",best_match_idx)\n",
    "    print(\"best_match_titre :\",best_match_titre)\n",
    "    print()\n",
    "    return small_df[small_df['titre_clean'] == best_match_titre].index[0]"
   ]
  },
  {
   "cell_type": "code",
   "execution_count": 11,
   "metadata": {},
   "outputs": [],
   "source": [
    "def get_best_match_index_rf(movies: str, df: pd.DataFrame):\n",
    "    # Je capte pas le fonctionnement, j'ai besoin de plus de recherche\n",
    "    raise NotImplementedError\n",
    "    \"\"\"\n",
    "    Utilisation de FuzzyWuzzy et RandomForestClassifier\n",
    "    \"\"\"\n",
    "\n",
    "    tfidf = TfidfVectorizer()\n",
    "    X = tfidf.fit_transform(df['titre_clean'].values)\n",
    "    y = df['titre_clean'].values\n",
    "\n",
    "    y_encoded = LabelEncoder().fit_transform(y)\n",
    "    rf = RandomForestClassifier().fit(X, y_encoded)\n",
    "\n",
    "    vector = tfidf.transform([movies])\n",
    "    prediction = rf.predict(vector)\n",
    "\n",
    "    predict = y_encoded.inverse_transform(prediction)[0]\n",
    "    return df[df['titre_clean'] == predict].index[0]"
   ]
  },
  {
   "cell_type": "code",
   "execution_count": 12,
   "metadata": {},
   "outputs": [],
   "source": [
    "def pick_algo(movies: str, df: pd.DataFrame, algo: str = \"tfidf\"):\n",
    "    movies = movies.replace(\" \", \"\").replace(\"-\", \"\").replace(\"'\", \"\").replace(\":\", \"\").lower()\n",
    "    if algo == \"tfidf\":\n",
    "        return get_best_match_index_tfidf(movies, df)\n",
    "    elif algo == \"knn\":\n",
    "        return get_best_match_index_knn(movies, df)\n",
    "    elif algo == \"rf\":\n",
    "        return get_best_match_index_rf(movies, df)"
   ]
  },
  {
   "cell_type": "code",
   "execution_count": 13,
   "metadata": {},
   "outputs": [],
   "source": [
    "def tfidf_algo(df:pd.DataFrame, movies: str, top: int = 10, algo: str = \"tfidf\"):\n",
    "    poids_ = {\n",
    "        \"titre_genres\": 0.2,\n",
    "        \"actors\":       0.15,\n",
    "        \"director\":     0.15,\n",
    "        # \"overview\":     0.2,\n",
    "        \"keywords\":     0.3,\n",
    "    }\n",
    "\n",
    "    full_matrix = []\n",
    "    for col, poids in poids_.items():\n",
    "        tfidf_ = TfidfVectorizer()\n",
    "        matrix_ = tfidf_.fit_transform(df[col]) * poids\n",
    "        full_matrix.append(matrix_)\n",
    "\n",
    "    combined_matrix = hstack(full_matrix)\n",
    "    cosine = cosine_similarity(combined_matrix)\n",
    "    mov_idx = pick_algo(movies, df, algo)\n",
    "\n",
    "    similar = cosine[mov_idx]\n",
    "    similar1 = list(enumerate(cosine[mov_idx]))\n",
    "\n",
    "    sim_scores = sorted(similar1, key=lambda x: x[1], reverse=True)\n",
    "    sim_mov_idx = similar.argsort()[::-1][1:top+1]\n",
    "\n",
    "    same_movies = df.loc[sim_mov_idx, \"titre_str\"]\n",
    "\n",
    "    sim_scores[1:top+1]\n",
    "    score = [i[1] for i in sim_scores]\n",
    "\n",
    "    # imdb_url = \"https://www.imdb.com/title/\"\n",
    "    # tmdb_image = \"https://image.tmdb.org/t/p/w500\"\n",
    "    poster = f\"Poster : {idx_image(mov_idx)}\\n\"\n",
    "\n",
    "    print(color(\"~\"*len(poster), \"red\"))\n",
    "    print(f\"Top 10 similar movies to {idx_titre(mov_idx)} are :\")\n",
    "    print(f\"Popularity {idx_popularity(mov_idx)}\")\n",
    "    print(f\"IMdb link : {idx_url(mov_idx)}\")\n",
    "    print(f\"Poster : {idx_image(mov_idx)}\")\n",
    "    print(f\"Youtube : {idx_youtube(mov_idx)}\")\n",
    "    print(color(\"~\"*len(poster), \"red\"))\n",
    "    print()\n",
    "    for movies_, idx in zip(same_movies, sim_mov_idx):\n",
    "        cmt = (\n",
    "            f\"Movie : {idx_titre(idx)} | popularity {idx_popularity(idx)}\\n\" +\n",
    "            f\"IMdb link : {idx_url(idx)}\\n\" +\n",
    "            f\"Poster : {idx_image(idx)}\\n\" +\n",
    "            f\"Youtube : {idx_youtube(idx)}\\n\")\n",
    "        line = cmt.split('\\n')\n",
    "        print(cmt+color(\"-\"*len(max(line, key=len)), \"green\"))\n"
   ]
  },
  {
   "cell_type": "code",
   "execution_count": 14,
   "metadata": {},
   "outputs": [],
   "source": [
    "def cv_algo(df: pd.DataFrame, movies: str, top: int = 5, algo: str = \"knn\"):\n",
    "    cv = CountVectorizer()\n",
    "    count_matrix = cv.fit_transform(df['one_for_all'])\n",
    "    cosine_sim = cosine_similarity(count_matrix, count_matrix)\n",
    "    mov_idx = pick_algo(movies, df, algo)\n",
    "\n",
    "    sim_scores = list(enumerate(cosine_sim[mov_idx]))\n",
    "    sim_scores = sorted(sim_scores, key=lambda x: x[1], reverse=True)\n",
    "    sim_scores = sim_scores[1:top+1]\n",
    "    movie_indices = [i[0] for i in sim_scores]\n",
    "\n",
    "    # imdb_url = \"https://www.imdb.com/title/\"\n",
    "    # tmdb_image = \"https://image.tmdb.org/t/p/w500\"\n",
    "    poster = f\"Poster : {idx_image(mov_idx)}\\n\"\n",
    "\n",
    "    print(color(\"~\"*len(poster), \"red\"))\n",
    "    print(f\"Top 10 similar movies to {idx_titre(mov_idx)} are :\")\n",
    "    print(f\"Popularity {idx_popularity(mov_idx)}\")\n",
    "    print(f\"IMdb link : {idx_url(mov_idx)}\")\n",
    "    print(f\"Poster : {idx_image(mov_idx)}\")\n",
    "    print(f\"Youtube : {idx_youtube(mov_idx)}\")\n",
    "    print(color(\"~\"*len(poster), \"red\"))\n",
    "    print()\n",
    "    for idx in movie_indices:\n",
    "        cmt = (\n",
    "            f\"Movie : {idx_titre(idx)} | popularity {idx_popularity(idx)}\\n\" +\n",
    "            f\"IMdb link : {idx_url(idx)}\\n\" +\n",
    "            f\"Poster : {idx_image(idx)}\\n\" +\n",
    "            f\"Youtube : {idx_youtube(idx)}\\n\")\n",
    "        line = cmt.split('\\n')\n",
    "        print(cmt+color(\"-\"*len(max(line, key=len)), \"green\"))"
   ]
  },
  {
   "cell_type": "code",
   "execution_count": 15,
   "metadata": {},
   "outputs": [],
   "source": [
    "def knn_algo(df: pd.DataFrame, movies: str, top: int = 5, algo: str = \"knn\"):\n",
    "    cv = CountVectorizer()\n",
    "    count_matrix = cv.fit_transform(df['one_for_all'])\n",
    "    mov_idx = pick_algo(movies, df, algo)\n",
    "\n",
    "    knn_model = NearestNeighbors(\n",
    "        metric='cosine', algorithm='brute').fit(count_matrix\n",
    "    )\n",
    "    dist, indices = knn_model.kneighbors(\n",
    "        count_matrix[mov_idx], n_neighbors=top+1\n",
    "    )\n",
    "\n",
    "    # imdb_url = \"https://www.imdb.com/title/\"\n",
    "    # tmdb_image = \"https://image.tmdb.org/t/p/w500\"\n",
    "    poster = f\"Poster : {idx_image(mov_idx)}\\n\"\n",
    "\n",
    "    print(color(\"~\"*len(poster), \"red\"))\n",
    "    print(f\"Top 10 similar movies to {idx_titre(mov_idx)} are :\")\n",
    "    print(f\"Popularity {idx_popularity(mov_idx)}\")\n",
    "    print(f\"IMdb link : {idx_url(mov_idx)}\")\n",
    "    print(f\"Poster : {idx_image(mov_idx)}\")\n",
    "    print(f\"Youtube : {idx_youtube(mov_idx)}\")\n",
    "    print(color(\"~\"*len(poster), \"red\"))\n",
    "    print()\n",
    "    for idx, dis in zip(indices.flatten()[1:], dist.flatten()[1:]):\n",
    "        cmt = (\n",
    "            f\"Movie : {idx_titre(idx)} | popularity {idx_popularity(idx)}\\n\" +\n",
    "            f\"IMdb link : {idx_url(idx)}\\n\" +\n",
    "            f\"Poster : {idx_image(idx)}\\n\" +\n",
    "            f\"Youtube : {idx_youtube(idx)}\\n\")\n",
    "        line = cmt.split('\\n')\n",
    "        print(cmt+color(\"-\"*len(max(line, key=len)), \"green\"))"
   ]
  },
  {
   "cell_type": "markdown",
   "metadata": {},
   "source": [
    "AUTOPLAY : \n",
    "https://www.youtube.com/embed/MJ3Up7By5cw?autoplay=1&autohide=2&border=0&wmode=opaque&enablejsapi=1&modestbranding=1&controls=0&showinfo=1&mute=1"
   ]
  },
  {
   "cell_type": "code",
   "execution_count": 16,
   "metadata": {},
   "outputs": [],
   "source": [
    "movies = \"avatar\""
   ]
  },
  {
   "cell_type": "code",
   "execution_count": 17,
   "metadata": {},
   "outputs": [
    {
     "name": "stdout",
     "output_type": "stream",
     "text": [
      "\u001b[38;5;1m~~~~~~~~~~~~~~~~~~~~~~~~~~~~~~~~~~~~~~~~~~~~~~~~~~~~~~~~~~~~~~~~~~~~~~~~~\u001b[0m\n",
      "Top 10 similar movies to Avatar are :\n",
      "Popularity 127.285\n",
      "IMdb link : https://www.imdb.com/title/tt0499549\n",
      "Poster : https://image.tmdb.org/t/p/w500/3npygfmEhqnmNTmDWhHLz1LPcbA.jpg\n",
      "Youtube : https://www.youtube.com/watch?v=MJ3Up7By5cw\n",
      "\u001b[38;5;1m~~~~~~~~~~~~~~~~~~~~~~~~~~~~~~~~~~~~~~~~~~~~~~~~~~~~~~~~~~~~~~~~~~~~~~~~~\u001b[0m\n",
      "\n",
      "Movie : Avatar : La Voie de l'eau | popularity 282.732\n",
      "IMdb link : https://www.imdb.com/title/tt1630029\n",
      "Poster : https://image.tmdb.org/t/p/w500/hYeB9GpFaT7ysabBoGG5rbo9mF4.jpg\n",
      "Youtube : https://www.youtube.com/watch?v=Lhnu_kY765M\n",
      "\u001b[38;5;2m------------------------------------------------------------------------\u001b[0m\n",
      "Movie : Un Monde entre Nous | popularity 17.706\n",
      "IMdb link : https://www.imdb.com/title/tt3922818\n",
      "Poster : https://image.tmdb.org/t/p/w500/oppCLptTWEzpqFoqlGRbDlcf3HT.jpg\n",
      "Youtube : \n",
      "\u001b[38;5;2m------------------------------------------------------------------------\u001b[0m\n",
      "Movie : Space Sweepers | popularity 26.073\n",
      "IMdb link : https://www.imdb.com/title/tt12838766\n",
      "Poster : https://image.tmdb.org/t/p/w500/vOefWMYqC1S3aiCTD5MD8HeXl0Y.jpg\n",
      "Youtube : https://www.youtube.com/watch?v=y_43VZQTr1k\n",
      "\u001b[38;5;2m------------------------------------------------------------------------\u001b[0m\n",
      "Movie : Abyss | popularity 28.703\n",
      "IMdb link : https://www.imdb.com/title/tt0096754\n",
      "Poster : https://image.tmdb.org/t/p/w500/hHDYBtEPYlss60NBZh00qJT9HTx.jpg\n",
      "Youtube : https://www.youtube.com/watch?v=eiWm_xCRZiw\n",
      "\u001b[38;5;2m------------------------------------------------------------------------\u001b[0m\n",
      "Movie : Divergente | popularity 49.566\n",
      "IMdb link : https://www.imdb.com/title/tt1840309\n",
      "Poster : https://image.tmdb.org/t/p/w500/3JpyVHMYrI7C9HUFcZecnlgVsXY.jpg\n",
      "Youtube : https://www.youtube.com/watch?v=sMKRw-Lalq8\n",
      "\u001b[38;5;2m------------------------------------------------------------------------\u001b[0m\n"
     ]
    }
   ],
   "source": [
    "tfidf_algo(dff, movies, algo=\"knn\", top=5)"
   ]
  },
  {
   "cell_type": "code",
   "execution_count": 18,
   "metadata": {},
   "outputs": [
    {
     "name": "stdout",
     "output_type": "stream",
     "text": [
      "\u001b[38;5;1m~~~~~~~~~~~~~~~~~~~~~~~~~~~~~~~~~~~~~~~~~~~~~~~~~~~~~~~~~~~~~~~~~~~~~~~~~\u001b[0m\n",
      "Top 10 similar movies to Avatar are :\n",
      "Popularity 127.285\n",
      "IMdb link : https://www.imdb.com/title/tt0499549\n",
      "Poster : https://image.tmdb.org/t/p/w500/3npygfmEhqnmNTmDWhHLz1LPcbA.jpg\n",
      "Youtube : https://www.youtube.com/watch?v=MJ3Up7By5cw\n",
      "\u001b[38;5;1m~~~~~~~~~~~~~~~~~~~~~~~~~~~~~~~~~~~~~~~~~~~~~~~~~~~~~~~~~~~~~~~~~~~~~~~~~\u001b[0m\n",
      "\n",
      "Movie : Avatar : La Voie de l'eau | popularity 282.732\n",
      "IMdb link : https://www.imdb.com/title/tt1630029\n",
      "Poster : https://image.tmdb.org/t/p/w500/hYeB9GpFaT7ysabBoGG5rbo9mF4.jpg\n",
      "Youtube : https://www.youtube.com/watch?v=Lhnu_kY765M\n",
      "\u001b[38;5;2m------------------------------------------------------------------------\u001b[0m\n",
      "Movie : Les Gardiens de la Galaxie : Volume 3 | popularity 284.529\n",
      "IMdb link : https://www.imdb.com/title/tt6791350\n",
      "Poster : https://image.tmdb.org/t/p/w500/aaGDsYYjltMxrwgs4qnHse4qlGX.jpg\n",
      "Youtube : https://www.youtube.com/watch?v=WxA-eZ72FsQ\n",
      "\u001b[38;5;2m------------------------------------------------------------------------\u001b[0m\n",
      "Movie : Nausicaä de la vallée du vent | popularity 38.602\n",
      "IMdb link : https://www.imdb.com/title/tt0087544\n",
      "Poster : https://image.tmdb.org/t/p/w500/oFepxUN7SJ3kwuohhUoqzn5eNTA.jpg\n",
      "Youtube : https://www.youtube.com/watch?v=aasYJcvHhj0\n",
      "\u001b[38;5;2m------------------------------------------------------------------------\u001b[0m\n",
      "Movie : La Légende de Manolo | popularity 57.88\n",
      "IMdb link : https://www.imdb.com/title/tt2262227\n",
      "Poster : https://image.tmdb.org/t/p/w500/n4sKAVeSEEIoLPlOWKx8ONYITF8.jpg\n",
      "Youtube : https://www.youtube.com/watch?v=oZxd8_W8F0Q\n",
      "\u001b[38;5;2m------------------------------------------------------------------------\u001b[0m\n",
      "Movie : Abyss | popularity 28.703\n",
      "IMdb link : https://www.imdb.com/title/tt0096754\n",
      "Poster : https://image.tmdb.org/t/p/w500/hHDYBtEPYlss60NBZh00qJT9HTx.jpg\n",
      "Youtube : https://www.youtube.com/watch?v=eiWm_xCRZiw\n",
      "\u001b[38;5;2m------------------------------------------------------------------------\u001b[0m\n"
     ]
    }
   ],
   "source": [
    "knn_algo(dff, movies, algo=\"knn\", top=5)"
   ]
  },
  {
   "cell_type": "code",
   "execution_count": 19,
   "metadata": {},
   "outputs": [
    {
     "name": "stdout",
     "output_type": "stream",
     "text": [
      "\u001b[38;5;1m~~~~~~~~~~~~~~~~~~~~~~~~~~~~~~~~~~~~~~~~~~~~~~~~~~~~~~~~~~~~~~~~~~~~~~~~~\u001b[0m\n",
      "Top 10 similar movies to Avatar are :\n",
      "Popularity 127.285\n",
      "IMdb link : https://www.imdb.com/title/tt0499549\n",
      "Poster : https://image.tmdb.org/t/p/w500/3npygfmEhqnmNTmDWhHLz1LPcbA.jpg\n",
      "Youtube : https://www.youtube.com/watch?v=MJ3Up7By5cw\n",
      "\u001b[38;5;1m~~~~~~~~~~~~~~~~~~~~~~~~~~~~~~~~~~~~~~~~~~~~~~~~~~~~~~~~~~~~~~~~~~~~~~~~~\u001b[0m\n",
      "\n",
      "Movie : Avatar : La Voie de l'eau | popularity 282.732\n",
      "IMdb link : https://www.imdb.com/title/tt1630029\n",
      "Poster : https://image.tmdb.org/t/p/w500/hYeB9GpFaT7ysabBoGG5rbo9mF4.jpg\n",
      "Youtube : https://www.youtube.com/watch?v=Lhnu_kY765M\n",
      "\u001b[38;5;2m------------------------------------------------------------------------\u001b[0m\n",
      "Movie : Les Gardiens de la Galaxie : Volume 3 | popularity 284.529\n",
      "IMdb link : https://www.imdb.com/title/tt6791350\n",
      "Poster : https://image.tmdb.org/t/p/w500/aaGDsYYjltMxrwgs4qnHse4qlGX.jpg\n",
      "Youtube : https://www.youtube.com/watch?v=WxA-eZ72FsQ\n",
      "\u001b[38;5;2m------------------------------------------------------------------------\u001b[0m\n",
      "Movie : Nausicaä de la vallée du vent | popularity 38.602\n",
      "IMdb link : https://www.imdb.com/title/tt0087544\n",
      "Poster : https://image.tmdb.org/t/p/w500/oFepxUN7SJ3kwuohhUoqzn5eNTA.jpg\n",
      "Youtube : https://www.youtube.com/watch?v=aasYJcvHhj0\n",
      "\u001b[38;5;2m------------------------------------------------------------------------\u001b[0m\n",
      "Movie : La Légende de Manolo | popularity 57.88\n",
      "IMdb link : https://www.imdb.com/title/tt2262227\n",
      "Poster : https://image.tmdb.org/t/p/w500/n4sKAVeSEEIoLPlOWKx8ONYITF8.jpg\n",
      "Youtube : https://www.youtube.com/watch?v=oZxd8_W8F0Q\n",
      "\u001b[38;5;2m------------------------------------------------------------------------\u001b[0m\n",
      "Movie : Abyss | popularity 28.703\n",
      "IMdb link : https://www.imdb.com/title/tt0096754\n",
      "Poster : https://image.tmdb.org/t/p/w500/hHDYBtEPYlss60NBZh00qJT9HTx.jpg\n",
      "Youtube : https://www.youtube.com/watch?v=eiWm_xCRZiw\n",
      "\u001b[38;5;2m------------------------------------------------------------------------\u001b[0m\n"
     ]
    }
   ],
   "source": [
    "cv_algo(dff, movies, algo=\"knn\", top=5)"
   ]
  },
  {
   "cell_type": "code",
   "execution_count": 20,
   "metadata": {},
   "outputs": [],
   "source": [
    "# random_forest_algo(dff, movies, top=5)"
   ]
  }
 ],
 "metadata": {
  "kernelspec": {
   "display_name": "Python 3",
   "language": "python",
   "name": "python3"
  },
  "language_info": {
   "codemirror_mode": {
    "name": "ipython",
    "version": 3
   },
   "file_extension": ".py",
   "mimetype": "text/x-python",
   "name": "python",
   "nbconvert_exporter": "python",
   "pygments_lexer": "ipython3",
   "version": "3.10.11"
  }
 },
 "nbformat": 4,
 "nbformat_minor": 2
}
