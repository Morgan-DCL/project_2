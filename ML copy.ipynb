{
 "cells": [
  {
   "cell_type": "code",
   "execution_count": 73,
   "metadata": {},
   "outputs": [
    {
     "name": "stdout",
     "output_type": "stream",
     "text": [
      "The autoreload extension is already loaded. To reload it, use:\n",
      "  %reload_ext autoreload\n"
     ]
    }
   ],
   "source": [
    "\n",
    "%load_ext autoreload\n",
    "%autoreload 2\n",
    "%reload_ext autoreload\n",
    "\n",
    "import pandas as pd\n",
    "import numpy as np\n",
    "import hjson\n",
    "import re\n",
    "import matplotlib.pyplot as plt\n",
    "from fuzzywuzzy import process\n",
    "from unicodedata import normalize, combining\n",
    "from datetime import datetime\n",
    "\n",
    "import nltk\n",
    "from nltk.corpus import stopwords\n",
    "from nltk.stem import WordNetLemmatizer\n",
    "from sklearn.metrics.pairwise import linear_kernel\n",
    "from sklearn.metrics.pairwise import cosine_similarity\n",
    "from sklearn.preprocessing import LabelEncoder\n",
    "from sklearn.neighbors import NearestNeighbors\n",
    "from sklearn.ensemble import RandomForestClassifier\n",
    "from sklearn.feature_extraction.text import TfidfVectorizer\n",
    "from sklearn.feature_extraction.text import CountVectorizer\n",
    "\n",
    "from get_dataframes import GetDataframes\n",
    "from tools import import_config, import_datasets, check_titre\n",
    "from scipy.sparse import hstack\n",
    "\n",
    "pd.set_option('display.max_columns', None)"
   ]
  },
  {
   "cell_type": "code",
   "execution_count": 33,
   "metadata": {},
   "outputs": [],
   "source": [
    "config = import_config()\n"
   ]
  },
  {
   "cell_type": "code",
   "execution_count": 54,
   "metadata": {},
   "outputs": [
    {
     "name": "stderr",
     "output_type": "stream",
     "text": [
      "2023-11-12 14:24:58 INFO     Parquet loaded ! Importing tmdb_updated...\n"
     ]
    }
   ],
   "source": [
    "df = import_datasets(\"clean_datasets/tmdb_updated.parquet\", \"parquet\")"
   ]
  },
  {
   "cell_type": "code",
   "execution_count": 55,
   "metadata": {},
   "outputs": [],
   "source": [
    "col = [\n",
    "    'imdb_id',\n",
    "    'title',\n",
    "    # 'adult',\n",
    "    # 'backdrop_path',\n",
    "    # 'budget',\n",
    "    'genres',\n",
    "    'actors',\n",
    "    'director',\n",
    "    'keywords',\n",
    "    # 'id',\n",
    "    # 'original_language',\n",
    "    # 'original_title',\n",
    "    'overview',\n",
    "    'popularity',\n",
    "    # 'production_countries',\n",
    "    'release_date',\n",
    "    # 'revenue',\n",
    "    # 'runtime',\n",
    "    # 'spoken_languages',\n",
    "    # 'status',\n",
    "    # 'tagline',\n",
    "    # 'video',\n",
    "    'vote_average',\n",
    "    'vote_count',\n",
    "    'poster_path',\n",
    "    # 'production_companies_name',\n",
    "]"
   ]
  },
  {
   "cell_type": "code",
   "execution_count": 56,
   "metadata": {},
   "outputs": [],
   "source": [
    "df = df[col]"
   ]
  },
  {
   "cell_type": "code",
   "execution_count": 57,
   "metadata": {},
   "outputs": [],
   "source": [
    "col_rename = {\n",
    "    \"imdb_id\": \"titre_id\",\n",
    "    \"title\": \"titre_str\",\n",
    "    'genres': \"titre_genres\",\n",
    "    'actors': 'actors',\n",
    "    'director': \"director\",\n",
    "    'keywords': \"keywords\",\n",
    "    'overview': \"overview\",\n",
    "    'popularity': \"popularity\",\n",
    "    'release_date': \"date\",\n",
    "    'vote_average': \"rating_avg\",\n",
    "    'vote_count': \"rating_vote\",\n",
    "    'poster_path': \"image\"\n",
    "}"
   ]
  },
  {
   "cell_type": "code",
   "execution_count": 58,
   "metadata": {},
   "outputs": [],
   "source": [
    "df.rename(columns=col_rename, inplace=True)"
   ]
  },
  {
   "cell_type": "code",
   "execution_count": 65,
   "metadata": {},
   "outputs": [],
   "source": [
    "df.sort_values(by=\"date\", inplace=True)"
   ]
  },
  {
   "cell_type": "code",
   "execution_count": 66,
   "metadata": {},
   "outputs": [],
   "source": []
  },
  {
   "cell_type": "code",
   "execution_count": null,
   "metadata": {},
   "outputs": [],
   "source": [
    "tt = [\n",
    "    \"actors\",\n",
    "    \"titre_genres\",\n",
    "    \"director\",\n",
    "    \"keywords\",\n",
    "]\n",
    "for t in tt:\n",
    "    df[t] = df[t].apply(\n",
    "        lambda x: \", \".join(map(str, x))\n",
    "    ).replace(\" \", \"\")"
   ]
  },
  {
   "cell_type": "code",
   "execution_count": 69,
   "metadata": {},
   "outputs": [],
   "source": [
    "df[\"titre_clean\"] = df[\"titre_str\"]\n",
    "df[\"titre_clean\"] = df[\"titre_clean\"].apply(lambda x : x.lower())"
   ]
  },
  {
   "cell_type": "code",
   "execution_count": 70,
   "metadata": {},
   "outputs": [],
   "source": [
    "def clean_overview(\n",
    "    text: str\n",
    ") -> str:\n",
    "    text = text.lower()\n",
    "    text = re.sub(r'[^a-z]', ' ', text)\n",
    "    words = text.split()\n",
    "    words = [w for w in words if w not in stopwords.words('french')]\n",
    "    lemmatizer = WordNetLemmatizer()\n",
    "    words = [lemmatizer.lemmatize(word) for word in words]\n",
    "    return ' '.join(words)\n"
   ]
  },
  {
   "cell_type": "code",
   "execution_count": 71,
   "metadata": {},
   "outputs": [],
   "source": [
    "def supprimer_accents(texte):\n",
    "    texte_clean = normalize('NFKD', texte)\n",
    "    return \"\".join(\n",
    "        [c for c in texte_clean if not combining(c)]\n",
    "    )\n",
    "\n",
    "tt = [\n",
    "    \"actors\",\n",
    "    \"titre_genres\",\n",
    "    \"keywords\",\n",
    "    \"director\",\n",
    "    \"titre_clean\",\n",
    "]\n",
    "for t in tt:\n",
    "    df[t] = df[t].astype(str).apply(supprimer_accents)"
   ]
  },
  {
   "cell_type": "code",
   "execution_count": 72,
   "metadata": {},
   "outputs": [
    {
     "name": "stdout",
     "output_type": "stream",
     "text": [
      "cleaning overview\n"
     ]
    }
   ],
   "source": [
    "print(\"cleaning overview\")\n",
    "df['overview'] = df['overview'].astype(str).apply(clean_overview)\n",
    "# print(\"cleaning titre_clean\")\n",
    "# df['titre_clean'] = df['titre_clean'].astype(str).apply(clean_overview)"
   ]
  },
  {
   "cell_type": "code",
   "execution_count": 74,
   "metadata": {},
   "outputs": [],
   "source": [
    "df.to_csv(\"new_one.csv\", index=False)"
   ]
  },
  {
   "cell_type": "code",
   "execution_count": 76,
   "metadata": {},
   "outputs": [
    {
     "name": "stdout",
     "output_type": "stream",
     "text": [
      "lowering everything in actors\n",
      "lowering everything in titre_genres\n",
      "lowering everything in director\n",
      "lowering everything in keywords\n",
      "lowering everything in titre_clean\n"
     ]
    }
   ],
   "source": [
    "def full_lower(text: str):\n",
    "    return text.replace(\" \", \"\").replace(\"-\", \"\").lower()\n",
    "\n",
    "tt = [\n",
    "    \"actors\",\n",
    "    \"titre_genres\",\n",
    "    \"director\",\n",
    "    \"keywords\",\n",
    "    \"titre_clean\",\n",
    "]\n",
    "for t in tt:\n",
    "    print(f\"lowering everything in {t}\")\n",
    "    if \"titre_clean\" in t:\n",
    "        df[t] = df[t].apply(lambda x : x.replace(\":\", \" \"))\n",
    "        tt.remove(t)\n",
    "    else:\n",
    "        df[t] = df[t].apply(full_lower)"
   ]
  },
  {
   "cell_type": "code",
   "execution_count": 97,
   "metadata": {},
   "outputs": [],
   "source": [
    "dfff = df.copy()\n",
    "dfff.reset_index(drop='index', inplace=True)\n",
    "name = \"machine_learning.parquet\"\n",
    "dfff.to_parquet(name)"
   ]
  },
  {
   "cell_type": "code",
   "execution_count": 98,
   "metadata": {},
   "outputs": [],
   "source": [
    "dff = pd.read_parquet(name)"
   ]
  },
  {
   "cell_type": "code",
   "execution_count": 127,
   "metadata": {},
   "outputs": [],
   "source": [
    "def titre_index(titre: str):\n",
    "    return dff[dff.titre_str == titre].index[0]\n",
    "\n",
    "def director_index(director: str):\n",
    "    return dff[dff.directors.str.contains(director)].index[0]\n",
    "\n",
    "def actor_index(actor: str):\n",
    "    return dff[dff.actors.str.contains(actor)].index[0]\n",
    "\n",
    "def idx_titre(idx: int):\n",
    "    return dff[dff.index == idx][\"titre_str\"].values[0]\n",
    "\n",
    "def idx_actor(idx: int):\n",
    "    return dff[dff.index == idx][\"actors\"].values[0]\n",
    "\n",
    "def idx_titre_id(idx: int):\n",
    "    return dff[dff.index == idx][\"titre_id\"].values[0]\n",
    "\n",
    "def idx_poster_path(idx: int):\n",
    "    return dff[dff.index == idx][\"image\"].values[0]\n",
    "\n",
    "def idx_popularity(idx: int):\n",
    "    return dff[dff.index == idx][\"popularity\"].values[0]\n",
    "\n",
    "def idx_keywords(idx: int):\n",
    "    return dff[dff.index == idx][\"keywords\"].values[0]\n",
    "\n",
    "\n",
    "\n",
    "def check_titre_str(d: pd.DataFrame, movie: str):\n",
    "    return dff[dff[\"titre_str\"].str.contains(movie)]"
   ]
  },
  {
   "cell_type": "code",
   "execution_count": 128,
   "metadata": {},
   "outputs": [
    {
     "data": {
      "text/html": [
       "<div>\n",
       "<style scoped>\n",
       "    .dataframe tbody tr th:only-of-type {\n",
       "        vertical-align: middle;\n",
       "    }\n",
       "\n",
       "    .dataframe tbody tr th {\n",
       "        vertical-align: top;\n",
       "    }\n",
       "\n",
       "    .dataframe thead th {\n",
       "        text-align: right;\n",
       "    }\n",
       "</style>\n",
       "<table border=\"1\" class=\"dataframe\">\n",
       "  <thead>\n",
       "    <tr style=\"text-align: right;\">\n",
       "      <th></th>\n",
       "      <th>titre_id</th>\n",
       "      <th>titre_str</th>\n",
       "      <th>titre_genres</th>\n",
       "      <th>actors</th>\n",
       "      <th>director</th>\n",
       "      <th>keywords</th>\n",
       "      <th>overview</th>\n",
       "      <th>popularity</th>\n",
       "      <th>date</th>\n",
       "      <th>rating_avg</th>\n",
       "      <th>rating_vote</th>\n",
       "      <th>image</th>\n",
       "      <th>titre_clean</th>\n",
       "      <th>one_for_all</th>\n",
       "    </tr>\n",
       "  </thead>\n",
       "  <tbody>\n",
       "    <tr>\n",
       "      <th>3701</th>\n",
       "      <td>tt15398776</td>\n",
       "      <td>Oppenheimer</td>\n",
       "      <td>drame,histoire</td>\n",
       "      <td>cillianmurphy,emilyblunt,mattdamon,robertdowne...</td>\n",
       "      <td>christophernolan</td>\n",
       "      <td>basedonnovelorbook,husbandwiferelationship,new...</td>\n",
       "      <td>convaincus allemagne nazie train velopper arme...</td>\n",
       "      <td>986.29</td>\n",
       "      <td>2023-07-19</td>\n",
       "      <td>8.25</td>\n",
       "      <td>4225</td>\n",
       "      <td>/boAUuJBeID7VNp4L7LNMQs8mfQS.jpg</td>\n",
       "      <td>oppenheimer</td>\n",
       "      <td>drame,histoire christophernolan convaincus all...</td>\n",
       "    </tr>\n",
       "  </tbody>\n",
       "</table>\n",
       "</div>"
      ],
      "text/plain": [
       "        titre_id    titre_str    titre_genres  \\\n",
       "3701  tt15398776  Oppenheimer  drame,histoire   \n",
       "\n",
       "                                                 actors          director  \\\n",
       "3701  cillianmurphy,emilyblunt,mattdamon,robertdowne...  christophernolan   \n",
       "\n",
       "                                               keywords  \\\n",
       "3701  basedonnovelorbook,husbandwiferelationship,new...   \n",
       "\n",
       "                                               overview  popularity  \\\n",
       "3701  convaincus allemagne nazie train velopper arme...      986.29   \n",
       "\n",
       "           date  rating_avg  rating_vote                             image  \\\n",
       "3701 2023-07-19        8.25         4225  /boAUuJBeID7VNp4L7LNMQs8mfQS.jpg   \n",
       "\n",
       "      titre_clean                                        one_for_all  \n",
       "3701  oppenheimer  drame,histoire christophernolan convaincus all...  "
      ]
     },
     "execution_count": 128,
     "metadata": {},
     "output_type": "execute_result"
    }
   ],
   "source": [
    "check_titre(dff, \"oppenheimer\")"
   ]
  },
  {
   "cell_type": "code",
   "execution_count": 129,
   "metadata": {},
   "outputs": [
    {
     "data": {
      "text/plain": [
       "titre_id                object\n",
       "titre_str               object\n",
       "titre_genres            object\n",
       "actors                  object\n",
       "director                object\n",
       "keywords                object\n",
       "overview                object\n",
       "popularity             float64\n",
       "date            datetime64[ns]\n",
       "rating_avg             float64\n",
       "rating_vote              int64\n",
       "image                   object\n",
       "titre_clean             object\n",
       "one_for_all             object\n",
       "dtype: object"
      ]
     },
     "execution_count": 129,
     "metadata": {},
     "output_type": "execute_result"
    }
   ],
   "source": [
    "dff.dtypes"
   ]
  },
  {
   "cell_type": "code",
   "execution_count": 177,
   "metadata": {},
   "outputs": [],
   "source": [
    "def combine(r):\n",
    "    return (\n",
    "        r[\"titre_genres\"]+\" \"+\n",
    "        r[\"director\"]+\" \"+\n",
    "        r[\"overview\"]+\" \"+\n",
    "        r[\"actors\"]+\" \"+\n",
    "        # str(r[\"date\"])+\" \"+\n",
    "        str(r[\"popularity\"])+\" \"+\n",
    "        r[\"keywords\"]+\" \"+\n",
    "        str(r[\"rating_avg\"])+ \" \"+\n",
    "        str(r[\"rating_vote\"])\n",
    "    )\n",
    "\n",
    "dff[\"one_for_all\"] = dff.apply(combine, axis=1)"
   ]
  },
  {
   "cell_type": "code",
   "execution_count": 178,
   "metadata": {},
   "outputs": [],
   "source": [
    "def get_best_match_index_tfidf(movies: str, df: pd.DataFrame):\n",
    "    \"\"\"\n",
    "    Utilisation de FuzzyWuzzy et TfidfVectorizer\n",
    "    \"\"\"\n",
    "    # movies = movies.lower().replace(\" \", \"\")\n",
    "    best_match = process.extract(movies, df['titre_clean'].values, limit=10)\n",
    "    best_candidate = [match[0] for match in best_match]\n",
    "    print(\"best_matches\",best_match)\n",
    "    print(\"best_candidate\",best_candidate)\n",
    "    print(\"movies\",movies)\n",
    "\n",
    "    tfidf = TfidfVectorizer()\n",
    "    matrix = tfidf.fit_transform(best_candidate)\n",
    "    tfidf_ = tfidf.transform([movies])\n",
    "\n",
    "    cosine_similarities = cosine_similarity(tfidf_, matrix).flatten()\n",
    "\n",
    "    best_match_idx = cosine_similarities.argmax()\n",
    "    best_match_titre = best_candidate[best_match_idx]\n",
    "    print(\"best_match_idx\",best_match_idx)\n",
    "    print(\"best_match_titre\",best_match_titre)\n",
    "    return df[df['titre_clean'] == best_match_titre].index[0]\n"
   ]
  },
  {
   "cell_type": "code",
   "execution_count": 179,
   "metadata": {},
   "outputs": [],
   "source": [
    "def get_best_match_index_knn(movies: str, df: pd.DataFrame):\n",
    "    \"\"\"\n",
    "    Utilisation de FuzzyWuzzy et Nearest Neighbors\n",
    "    \"\"\"\n",
    "    best_match = process.extract(movies, df['titre_clean'].values, limit=10)\n",
    "    best_candidate = [match[0] for match in best_match]\n",
    "    print(\"best_matches :\\n\",best_match)\n",
    "    print(\"best_candidate :\\n\",best_candidate)\n",
    "    print()\n",
    "\n",
    "    small_df = df[df['titre_clean'].isin(best_candidate)]\n",
    "    print(small_df[[\"titre_id\", \"titre_str\", \"titre_genres\", \"keywords\"]].to_markdown())\n",
    "    print()\n",
    "\n",
    "    tfidf = TfidfVectorizer()\n",
    "    matrix = tfidf.fit_transform(small_df['titre_clean'].values)\n",
    "\n",
    "    knn = NearestNeighbors(n_neighbors=1).fit(matrix)\n",
    "    vector = tfidf.transform([movies])\n",
    "\n",
    "    print(\"query_vector\\n\",vector)\n",
    "\n",
    "    dist, idx = knn.kneighbors(vector, return_distance=True)\n",
    "\n",
    "    best_match_idx = idx[0][0]\n",
    "    best_match_titre = small_df['titre_clean'].iloc[best_match_idx]\n",
    "    print(\"best_match_idx :\",best_match_idx)\n",
    "    print(\"best_match_titre :\",best_match_titre)\n",
    "    print()\n",
    "    return small_df[small_df['titre_clean'] == best_match_titre].index[0]"
   ]
  },
  {
   "cell_type": "code",
   "execution_count": 180,
   "metadata": {},
   "outputs": [],
   "source": [
    "def get_best_match_index_rf(movies: str, df: pd.DataFrame):\n",
    "    # Je capte pas le fonctionnement, j'ai besoin de plus de recherche\n",
    "    raise NotImplementedError\n",
    "    \"\"\"\n",
    "    Utilisation de FuzzyWuzzy et RandomForestClassifier\n",
    "    \"\"\"\n",
    "\n",
    "    tfidf = TfidfVectorizer()\n",
    "    X = tfidf.fit_transform(df['titre_clean'].values)\n",
    "    y = df['titre_clean'].values\n",
    "\n",
    "    y_encoded = LabelEncoder().fit_transform(y)\n",
    "    rf = RandomForestClassifier().fit(X, y_encoded)\n",
    "\n",
    "    vector = tfidf.transform([movies])\n",
    "    prediction = rf.predict(vector)\n",
    "\n",
    "    predict = y_encoded.inverse_transform(prediction)[0]\n",
    "    return df[df['titre_clean'] == predict].index[0]"
   ]
  },
  {
   "cell_type": "code",
   "execution_count": 181,
   "metadata": {},
   "outputs": [],
   "source": [
    "def pick_algo(movies: str, df: pd.DataFrame, algo: str = \"tfidf\"):\n",
    "    if algo == \"tfidf\":\n",
    "        return get_best_match_index_tfidf(movies, df)\n",
    "    elif algo == \"knn\":\n",
    "        return get_best_match_index_knn(movies, df)\n",
    "    elif algo == \"rf\":\n",
    "        return get_best_match_index_rf(movies, df)"
   ]
  },
  {
   "cell_type": "code",
   "execution_count": 182,
   "metadata": {},
   "outputs": [],
   "source": [
    "def tfidf_algo(df:pd.DataFrame, movies: str, top: int = 10, algo: str = \"tfidf\"):\n",
    "    poids_ = {\n",
    "        \"titre_genres\": 2,\n",
    "        \"actors\":       1.5,\n",
    "        \"directors\":    1.5,\n",
    "        \"overview\":     2.5,\n",
    "    }\n",
    "\n",
    "    full_matrix = []\n",
    "    for col, poids in poids_.items():\n",
    "        tfidf_ = TfidfVectorizer()\n",
    "        matrix_ = tfidf_.fit_transform(df[col]) * poids\n",
    "        full_matrix.append(matrix_)\n",
    "\n",
    "    combined_matrix = hstack(full_matrix)\n",
    "    cosine = cosine_similarity(combined_matrix)\n",
    "\n",
    "    mov_idx = pick_algo(movies, df, algo)\n",
    "    best_match = idx_titre(mov_idx)\n",
    "    mov_id = idx_titre_id(mov_idx)\n",
    "\n",
    "    similar = cosine[mov_idx]\n",
    "    similar1 = list(enumerate(cosine[mov_idx]))\n",
    "\n",
    "    sim_scores = sorted(similar1, key=lambda x: x[1], reverse=True)\n",
    "    sim_mov_idx = similar.argsort()[::-1][1:top+1]\n",
    "\n",
    "    same_movies = df.loc[sim_mov_idx, \"titre_str\"]\n",
    "    ttconst = df.loc[sim_mov_idx, \"titre_id\"]\n",
    "\n",
    "    sim_scores[1:top+1]\n",
    "    score = [i[1] for i in sim_scores]\n",
    "    print()\n",
    "    print(f\"Top 10 similar movies to {best_match} idx {mov_id} are :\\n\")\n",
    "    for movies_, tt,  score in zip(same_movies, ttconst, score):\n",
    "        print(f\"Movie : {movies_} | id : {tt} | score : {np.round(score, 4)}\")"
   ]
  },
  {
   "cell_type": "code",
   "execution_count": 183,
   "metadata": {},
   "outputs": [],
   "source": [
    "def knn_algo(df: pd.DataFrame, movies: str, top: int = 5, algo: str = \"knn\"):\n",
    "    cv = CountVectorizer()\n",
    "    count_matrix = cv.fit_transform(df['one_for_all'])\n",
    "    mov_idx = pick_algo(movies, df, algo)\n",
    "    print(\"movie_index =\", mov_idx)\n",
    "\n",
    "    knn_model = NearestNeighbors(metric='cosine', algorithm='brute').fit(count_matrix)\n",
    "    dist, indices = knn_model.kneighbors(count_matrix[mov_idx], n_neighbors=top+1)\n",
    "    print()\n",
    "    print(f\"Top 10 similar movies to {idx_titre(mov_idx)} are :\")\n",
    "    print(f\"Popularity {idx_popularity(mov_idx)}\")\n",
    "    print(f\"IMdb link : https://www.imdb.com/title/{idx_titre_id(mov_idx)}\")\n",
    "    poster = f\"Poster : https://image.tmdb.org/t/p/w500{idx_poster_path(mov_idx)}\\n\"\n",
    "    print(poster+\"*\"*len(poster)+\"\\n\\n\")\n",
    "    for index, dis in zip(indices.flatten()[1:], dist.flatten()[1:]):\n",
    "        cmt = (\n",
    "            f\"Movie : {idx_titre(index)} | popularity {idx_popularity(index)} | score : {np.round(dis, 4)}\\n\" +\n",
    "            f\"IMdb link : https://www.imdb.com/title/{idx_titre_id(index)}\\n\"\n",
    "            f\"Poster : https://image.tmdb.org/t/p/w500{idx_poster_path(index)}\\n\")\n",
    "        line = cmt.split('\\n')\n",
    "        print(cmt+\"-\"*len(line[2]))\n"
   ]
  },
  {
   "cell_type": "code",
   "execution_count": 184,
   "metadata": {},
   "outputs": [],
   "source": [
    "# movies = \"platform\"\n",
    "# tfidf_algo(dff, movies, algo=\"knn\", top=5)"
   ]
  },
  {
   "cell_type": "code",
   "execution_count": null,
   "metadata": {},
   "outputs": [],
   "source": [
    "# basedonnovelorbook,supportgroup,dualidentity,nihilism,fight"
   ]
  },
  {
   "cell_type": "code",
   "execution_count": 189,
   "metadata": {},
   "outputs": [
    {
     "name": "stdout",
     "output_type": "stream",
     "text": [
      "best_matches :\n",
      " [('la ligne verte', 100), ('la melodie du bonheur', 86), ('le bon, la brute et le truand', 86), ('le livre de la jungle', 86), ('la planete des singes', 86), ('la nuit des morts-vivants', 86), ('le secret de la planete des singes', 86), ('charlie et la chocolaterie', 86), ('massacre a la tronconneuse', 86), ('josey wales   hors-la-loi', 86)]\n",
      "best_candidate :\n",
      " ['la ligne verte', 'la melodie du bonheur', 'le bon, la brute et le truand', 'le livre de la jungle', 'la planete des singes', 'la nuit des morts-vivants', 'le secret de la planete des singes', 'charlie et la chocolaterie', 'massacre a la tronconneuse', 'josey wales   hors-la-loi']\n",
      "\n",
      "|      | titre_id   | titre_str                          | titre_genres                            | keywords                                                                          |\n",
      "|-----:|:-----------|:-----------------------------------|:----------------------------------------|:----------------------------------------------------------------------------------|\n",
      "|   27 | tt0059742  | La Mélodie du bonheur              | drame,familial,musique,romance          | resistance,austria,worldwarii,musical,musiccompetition                            |\n",
      "|   34 | tt0060196  | Le Bon, la Brute et le Truand      | western                                 | bountyhunter,refugee,gold,antihero,gallows                                        |\n",
      "|   38 | tt0061852  | Le Livre de la jungle              | familial,animation,aventure             | basedonnovelorbook,narration,humananimalrelationship,musical,feralchild           |\n",
      "|   41 | tt0063442  | La Planète des singes              | sciencefiction,aventure,drame,action    | humanevolution,gorilla,basedonnovelorbook,bondage,spacemarine                     |\n",
      "|   44 | tt0063350  | La Nuit des morts-vivants          | horreur                                 | siblingrelationship,lossoflovedone,pennsylvania,usa,cemetery,gun                  |\n",
      "|   51 | tt0065462  | Le Secret de la planète des singes | aventure,sciencefiction,mystere         | mutant,dystopia,astronaut,ape,worship                                             |\n",
      "|   54 | tt0067992  | Charlie et la Chocolaterie         | familial,fantastique,comedie            | chocolate,factoryworker,basedonnovelorbook,candy,tvaddictedperson                 |\n",
      "|   83 | tt0072271  | Massacre à la tronçonneuse         | horreur                                 | sadistic,gasstation,texas,van,midnightmovie                                       |\n",
      "|  102 | tt0075029  | Josey Wales : hors-la-loi          | western                                 | lossoflovedone,showdown,texas,settler,revenge                                     |\n",
      "|  817 | tt0120689  | La Ligne verte                     | fantastique,drame,crime                 | southernusa,mentallydisabled,basedonnovelorbook,deathrow,jailguard                |\n",
      "|  938 | tt0133152  | La Planète des singes              | thriller,sciencefiction,action,aventure | gorilla,spacemarine,spacesuit,revolution,chimp                                    |\n",
      "| 1093 | tt0324216  | Massacre à la tronçonneuse         | horreur                                 | suicide,sheriff,trauma,telephone,psychopath                                       |\n",
      "| 1296 | tt0367594  | Charlie et la chocolaterie         | aventure,comedie,familial,fantastique   | london,england,chocolate,factoryworker,basedonnovelorbook,parentchildrelationship |\n",
      "| 2750 | tt3040964  | Le Livre de la jungle              | familial,aventure,drame,fantastique     | basedonnovelorbook,snake,wolf,elephant,tiger                                      |\n",
      "\n",
      "query_vector\n",
      "   (0, 26)\t0.6884258858299823\n",
      "  (0, 14)\t0.6884258858299823\n",
      "  (0, 12)\t0.22834097187847888\n",
      "best_match_idx : 9\n",
      "best_match_titre : la ligne verte\n",
      "\n",
      "movie_index = 817\n",
      "\n",
      "Top 10 similar movies to La Ligne verte are :\n",
      "Popularity 73.924\n",
      "IMdb link : https://www.imdb.com/title/tt0120689\n",
      "Poster : https://image.tmdb.org/t/p/w500/mVGSetYx6kmJCf4T8YOYs1z6M00.jpg\n",
      "*************************************************************************\n",
      "\n",
      "\n",
      "Movie : John Wick 2 | popularity 95.498 | score : 0.8729\n",
      "IMdb link : https://www.imdb.com/title/tt4425200\n",
      "Poster : https://image.tmdb.org/t/p/w500/r687UV1zQ5KDB9AxRokRscWIRvt.jpg\n",
      "------------------------------------------------------------------------\n",
      "Movie : Les Évadés | popularity 109.728 | score : 0.874\n",
      "IMdb link : https://www.imdb.com/title/tt0111161\n",
      "Poster : https://image.tmdb.org/t/p/w500/xqfTE9FjwD5vS1A6QnyoMdPQUvh.jpg\n",
      "------------------------------------------------------------------------\n",
      "Movie : Les Rivières pourpres | popularity 12.388 | score : 0.8786\n",
      "IMdb link : https://www.imdb.com/title/tt0228786\n",
      "Poster : https://image.tmdb.org/t/p/w500/l9SQFzGWvTuP3WszpY8HeDYoNqd.jpg\n",
      "------------------------------------------------------------------------\n",
      "Movie : Du silence et des ombres | popularity 25.74 | score : 0.8877\n",
      "IMdb link : https://www.imdb.com/title/tt0056592\n",
      "Poster : https://image.tmdb.org/t/p/w500/bMuXgPmZhQtvzsy0oivTVLjVKi8.jpg\n",
      "------------------------------------------------------------------------\n",
      "Movie : Tout l'Argent du Monde | popularity 16.35 | score : 0.8929\n",
      "IMdb link : https://www.imdb.com/title/tt5294550\n",
      "Poster : https://image.tmdb.org/t/p/w500/7jRucompFTsXvzazf7daLZotp1M.jpg\n",
      "------------------------------------------------------------------------\n"
     ]
    }
   ],
   "source": [
    "movies = \"La ligne verte\"\n",
    "knn_algo(dff, movies, algo=\"knn\", top=5)"
   ]
  },
  {
   "cell_type": "code",
   "execution_count": 186,
   "metadata": {},
   "outputs": [],
   "source": [
    "def random_forest_algo(df: pd.DataFrame, movies: str, top: int = 5, algo = \"knn\"):\n",
    "    mov_idx = pick_algo(movies, df, algo)\n",
    "    print(\"movie_index =\", mov_idx)\n",
    "\n",
    "    cv = CountVectorizer()\n",
    "    count_matrix = cv.fit_transform(df['one_for_all'])\n",
    "\n",
    "    label_encoder = LabelEncoder()\n",
    "    y = label_encoder.fit_transform(df['titre_genres'])\n",
    "\n",
    "    rf_model = RandomForestClassifier()\n",
    "    rf_model.fit(count_matrix, y)\n",
    "\n",
    "    predicted_genre = rf_model.predict(count_matrix[mov_idx])\n",
    "\n",
    "    same_genre_idx = np.where(y == predicted_genre[0])[0]\n",
    "\n",
    "    recommended_indices = np.random.choice(same_genre_idx, size=top, replace=False)\n",
    "\n",
    "    print()\n",
    "    print(f\"Top 10 similar movies to {idx_titre(mov_idx)} are :\")\n",
    "    print(f\"Popularity {idx_popularity(mov_idx)}\")\n",
    "    print(f\"IMdb link : https://www.imdb.com/title/{idx_titre_id(mov_idx)}\")\n",
    "    poster = f\"Poster : https://image.tmdb.org/t/p/w500{idx_poster_path(mov_idx)}\\n\"\n",
    "    print(poster+\"*\"*len(poster)+\"\\n\\n\")\n",
    "    for mov_id in recommended_indices:\n",
    "        cmt = (\n",
    "            f\"Movie : {idx_titre(mov_id)} | popularity {idx_keywords(mov_id)}\" +\n",
    "            f\"IMdb link : https://www.imdb.com/title/{idx_titre_id(mov_id)}\\n\"\n",
    "            f\"Poster : https://image.tmdb.org/t/p/w500{idx_poster_path(mov_id)}\\n\")\n",
    "        line = cmt.split('\\n')\n",
    "        print(cmt+\"-\"*len(line[2]))"
   ]
  },
  {
   "cell_type": "code",
   "execution_count": 187,
   "metadata": {},
   "outputs": [],
   "source": [
    "# movies = \"platform\"\n",
    "# random_forest_algo(dff, movies, top=5)"
   ]
  }
 ],
 "metadata": {
  "kernelspec": {
   "display_name": "Python 3",
   "language": "python",
   "name": "python3"
  },
  "language_info": {
   "codemirror_mode": {
    "name": "ipython",
    "version": 3
   },
   "file_extension": ".py",
   "mimetype": "text/x-python",
   "name": "python",
   "nbconvert_exporter": "python",
   "pygments_lexer": "ipython3",
   "version": "3.10.11"
  }
 },
 "nbformat": 4,
 "nbformat_minor": 2
}
