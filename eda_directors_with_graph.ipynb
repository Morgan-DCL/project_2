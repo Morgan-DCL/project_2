{
 "cells": [
  {
   "cell_type": "code",
   "execution_count": 1,
   "metadata": {},
   "outputs": [],
   "source": [
    "%load_ext autoreload\n",
    "%autoreload 2\n",
    "%reload_ext autoreload"
   ]
  },
  {
   "cell_type": "code",
   "execution_count": 8,
   "metadata": {},
   "outputs": [],
   "source": [
    "import plotly.express as px\n",
    "import plotly.graph_objects as go\n",
    "import pandas as pd\n",
    "\n",
    "pd.set_option('display.float_format', lambda x: f'{x :.2f}')\n",
    "from get_dataframes import GetDataframes\n",
    "import hjson\n",
    "\n",
    "import matplotlib.pyplot as plt\n",
    "import explo_data_analysis.eda_movies as eda\n",
    "\n",
    "with open(\"config.hjson\") as fp:\n",
    "    config = hjson.load(fp)\n"
   ]
  },
  {
   "cell_type": "markdown",
   "metadata": {},
   "source": [
    "- Importation de la dataframe contenant seulement les réalisateurs.\n",
    "- Cette dataframe a déjà été nettoyé comme indiqué précédemment."
   ]
  },
  {
   "cell_type": "code",
   "execution_count": 9,
   "metadata": {},
   "outputs": [
    {
     "name": "stderr",
     "output_type": "stream",
     "text": [
      "2023-11-10 08:49:02 INFO     \u001b[38;5;217m-------------------- Start creating movies --------------------\u001b[0m\n",
      "2023-11-10 08:49:02 INFO     TSV files already exist.\n",
      "2023-11-10 08:49:02 INFO     Parquet loaded ! Importing movies...\n",
      "2023-11-10 08:49:02 INFO     Dataframe movies ready to use!\n",
      "2023-11-10 08:49:02 INFO     \u001b[38;5;217m-------------------- Job Done for movies ! --------------------\n",
      "\u001b[0m\n",
      "2023-11-10 08:49:02 INFO     \u001b[38;5;189m-------------------- Start creating movies_cleaned --------------------\u001b[0m\n",
      "2023-11-10 08:49:02 INFO     TSV files already exist.\n",
      "2023-11-10 08:49:02 INFO     Parquet loaded ! Importing movies_cleaned...\n",
      "2023-11-10 08:49:02 INFO     No need to update movies, all values are equals.\n",
      "2023-11-10 08:49:02 INFO     Dataframe movies_cleaned ready to use!\n",
      "2023-11-10 08:49:02 INFO     \u001b[38;5;189m-------------------- Job Done for movies_cleaned ! --------------------\n",
      "\u001b[0m\n",
      "2023-11-10 08:49:02 INFO     \u001b[38;5;222m-------------------- Start creating actors_movies --------------------\u001b[0m\n",
      "2023-11-10 08:49:02 INFO     TSV files already exist.\n",
      "2023-11-10 08:49:02 INFO     Parquet loaded ! Importing actors_movies...\n",
      "2023-11-10 08:49:02 INFO     Dataframe actors_movies ready to use!\n",
      "2023-11-10 08:49:02 INFO     \u001b[38;5;222m-------------------- Job Done for actors_movies ! --------------------\n",
      "\u001b[0m\n",
      "2023-11-10 08:49:02 INFO     \u001b[38;5;110m-------------------- Start creating directors_movies --------------------\u001b[0m\n",
      "2023-11-10 08:49:02 INFO     TSV files already exist.\n",
      "2023-11-10 08:49:02 INFO     Parquet loaded ! Importing directors_movies...\n",
      "2023-11-10 08:49:02 INFO     Dataframe directors_movies ready to use!\n",
      "2023-11-10 08:49:02 INFO     \u001b[38;5;110m-------------------- Job Done for directors_movies ! --------------------\n",
      "\u001b[0m\n",
      "2023-11-10 08:49:02 INFO     \u001b[38;5;73m-------------------- Start creating machine_learning --------------------\u001b[0m\n",
      "2023-11-10 08:49:02 INFO     TSV files already exist.\n",
      "2023-11-10 08:49:02 INFO     Creating machine_learning dataframe...\n",
      "2023-11-10 08:49:02 INFO     Parquet loaded ! Importing tmdb_updated...\n",
      "2023-11-10 08:49:03 INFO     Parquet loaded ! Importing actors_movies...\n",
      "2023-11-10 08:49:03 INFO     Parquet loaded ! Importing directors_movies...\n",
      "2023-11-10 08:49:03 INFO     Parquet loaded ! Importing movies_cleaned...\n",
      "2023-11-10 08:49:03 INFO     Creating machine_learning dataframe...\n",
      "2023-11-10 08:49:04 INFO     Merging machine_learning dataframe...\n",
      "2023-11-10 08:49:04 INFO     Droping NaN machine_learning dataframe...\n",
      "2023-11-10 08:49:04 INFO     Process Overview...\n",
      "2023-11-10 08:50:41 INFO     Writing machine_learning dataframe...\n",
      "2023-11-10 08:50:41 INFO     Dataframe machine_learning ready to use!\n",
      "2023-11-10 08:50:41 INFO     \u001b[38;5;73m-------------------- Job Done for machine_learning ! --------------------\n",
      "\u001b[0m\n"
     ]
    }
   ],
   "source": [
    "datas = GetDataframes(config)\n",
    "link = \"directors_movies\"\n",
    "# df = datas.get_dataframes(\n",
    "#     link,\n",
    "#     True\n",
    "# )\n",
    "datas.get_all_dataframes()\n",
    "# df.head(2)"
   ]
  },
  {
   "cell_type": "code",
   "execution_count": null,
   "metadata": {},
   "outputs": [],
   "source": [
    "df.describe()"
   ]
  },
  {
   "cell_type": "code",
   "execution_count": null,
   "metadata": {},
   "outputs": [],
   "source": [
    "md = pd.read_parquet(\"clean_datasets/directors_movies.parquet\")"
   ]
  },
  {
   "cell_type": "code",
   "execution_count": null,
   "metadata": {},
   "outputs": [],
   "source": [
    "md.describe()"
   ]
  },
  {
   "cell_type": "code",
   "execution_count": null,
   "metadata": {},
   "outputs": [],
   "source": [
    "df.describe()"
   ]
  },
  {
   "cell_type": "code",
   "execution_count": null,
   "metadata": {},
   "outputs": [],
   "source": [
    "with open(\"config.hjson\") as fp:\n",
    "    config = hjson.load(fp)\n",
    "\n",
    "\n",
    "datas = GetDataframes(config)\n",
    "link = \"machine_learning\"\n",
    "df = datas.get_dataframes(\n",
    "    link,\n",
    "    False\n",
    ")"
   ]
  },
  {
   "cell_type": "code",
   "execution_count": null,
   "metadata": {},
   "outputs": [],
   "source": [
    "df.dtypes"
   ]
  },
  {
   "cell_type": "code",
   "execution_count": null,
   "metadata": {},
   "outputs": [],
   "source": []
  },
  {
   "cell_type": "markdown",
   "metadata": {},
   "source": [
    "- On veut afficher quels réalisateurs ont réalisés le plus de films pour chaque décénnie."
   ]
  },
  {
   "cell_type": "code",
   "execution_count": null,
   "metadata": {},
   "outputs": [],
   "source": [
    "grouped_df = df.groupby(\n",
    "    ['cuts', 'person_name'],\n",
    "            observed=True\n",
    ").size().reset_index(name='total_film_directors').sort_values(by=\"total_film_directors\")\n",
    "\n",
    "top_directors_decennie = grouped_df.groupby(\n",
    "    'cuts',\n",
    "    observed=True\n",
    ").apply(lambda x: x.nlargest(1, 'total_film_directors')).reset_index(drop=True)\n",
    "\n",
    "decennies = top_directors_decennie['cuts']\n",
    "noms_directors = top_directors_decennie['person_name']\n",
    "nombre_films = top_directors_decennie['total_film_directors']"
   ]
  },
  {
   "cell_type": "code",
   "execution_count": null,
   "metadata": {},
   "outputs": [],
   "source": [
    "fig = go.Figure(data=[\n",
    "    go.Bar(\n",
    "        x=nombre_films,\n",
    "        y=decennies,\n",
    "        orientation='h',\n",
    "        marker=dict(\n",
    "            color='#66cdaa',\n",
    "            line=dict(\n",
    "                color='black',\n",
    "                width=1\n",
    "            )\n",
    "        ),\n",
    "        text=noms_directors,\n",
    "        textposition='auto',\n",
    "        width=1,\n",
    "        textfont=dict(\n",
    "            size=14,\n",
    "            color='black'\n",
    "        )\n",
    "    )\n",
    "])\n",
    "\n",
    "fig.update_layout(\n",
    "    title='Réalisateur N°1 par Décennie et Nombre de Films réalisés',\n",
    "    xaxis_title='Nombre de Films réalisés',\n",
    "    yaxis_title='Décennie'\n",
    ")\n",
    "\n",
    "fig.show()"
   ]
  },
  {
   "cell_type": "markdown",
   "metadata": {},
   "source": [
    "- On veut afficher quels réalisateurs ont réalisés le plus de films pour chaque genre."
   ]
  },
  {
   "cell_type": "code",
   "execution_count": null,
   "metadata": {},
   "outputs": [],
   "source": [
    "directors_by_genre = df.explode('titre_genres').groupby(['person_name', 'titre_genres']).size().reset_index(name='count')\n",
    "top_directors_by_genre = directors_by_genre.sort_values('count', ascending=False).drop_duplicates('titre_genres')[:10][::-1]\n",
    "\n",
    "fig = go.Figure(data=[\n",
    "    go.Bar(\n",
    "        x=top_directors_by_genre['count'],\n",
    "        y=top_directors_by_genre['titre_genres'],\n",
    "        orientation='h',\n",
    "        marker=dict(\n",
    "            color='#006b3c',\n",
    "            line=dict(\n",
    "                color='black',\n",
    "                width=1\n",
    "            )\n",
    "        ),\n",
    "        text=top_directors_by_genre['person_name'],\n",
    "        textposition='auto',\n",
    "        width=1,\n",
    "        textfont=dict(\n",
    "            size=14,\n",
    "            color='white'\n",
    "        )\n",
    "    )\n",
    "])\n",
    "\n",
    "fig.update_layout(\n",
    "    title='Réalisateurs les plus fréquemment associés aux top 10 des genres',\n",
    "    xaxis_title='Nombre de Films',\n",
    "    yaxis_title='Genres'\n",
    ")\n",
    "\n",
    "fig.show()"
   ]
  },
  {
   "cell_type": "markdown",
   "metadata": {},
   "source": [
    "- On veut afficher quels réalistaeurs ont réalisateurs le plus de films au total."
   ]
  },
  {
   "cell_type": "code",
   "execution_count": null,
   "metadata": {},
   "outputs": [],
   "source": [
    "directors_film_count = df.groupby('person_name').size().reset_index(name='film_count')\n",
    "\n",
    "top_directors_film_count = directors_film_count.sort_values('film_count', ascending=False).head(10)[::-1]\n",
    "\n",
    "fig = go.Figure(data=[\n",
    "    go.Bar(\n",
    "        x=top_directors_film_count['film_count'],\n",
    "        y=top_directors_film_count['person_name'],\n",
    "        orientation='h',\n",
    "        marker=dict(\n",
    "            color='#daa520',\n",
    "            line=dict(\n",
    "                color='black',\n",
    "                width=1\n",
    "            )\n",
    "        ),\n",
    "        text=top_directors_film_count['film_count'],\n",
    "        textposition='inside',\n",
    "        width=1,\n",
    "        textfont=dict(\n",
    "            size=14,\n",
    "            color='black'\n",
    "        )\n",
    "    )\n",
    "])\n",
    "\n",
    "fig.update_layout(\n",
    "    title='Nombre de films réalisés par réalisateurs',\n",
    "    xaxis_title='Nombre de Films',\n",
    "    yaxis_title='Genres'\n",
    ")\n",
    "\n",
    "fig.show()"
   ]
  },
  {
   "cell_type": "markdown",
   "metadata": {},
   "source": [
    "- On veut afficher les réalisateurs ainsi que le nombre de vote total qu'on reçu les films qu'ils ont réalisés."
   ]
  },
  {
   "cell_type": "code",
   "execution_count": null,
   "metadata": {},
   "outputs": [],
   "source": [
    "directors_by_votes = df.groupby('person_name')['rating_votes'].sum().reset_index()\n",
    "\n",
    "top_directors_by_votes = directors_by_votes.sort_values('rating_votes', ascending=False).head(10)[::-1]\n",
    "\n",
    "fig = go.Figure(data=[\n",
    "    go.Bar(\n",
    "        x=top_directors_by_votes['rating_votes'],\n",
    "        y=top_directors_by_votes['person_name'],\n",
    "        orientation='h',\n",
    "        marker=dict(\n",
    "            color='#daa520',\n",
    "            line=dict(\n",
    "                color='black',\n",
    "                width=1\n",
    "            )\n",
    "        ),\n",
    "        text=top_directors_by_votes['rating_votes'],\n",
    "        textposition='auto',\n",
    "        width=1,\n",
    "        textfont=dict(\n",
    "            size=14,\n",
    "            color='black'\n",
    "        )\n",
    "    )\n",
    "])\n",
    "\n",
    "fig.update_layout(\n",
    "    title='Top 10 des réalisateurs avec les films ayant eu le plus de votes',\n",
    "    xaxis_title='Réalisateurs',\n",
    "    yaxis_title='Total des votes'\n",
    ")\n",
    "\n",
    "fig.show()\n"
   ]
  }
 ],
 "metadata": {
  "kernelspec": {
   "display_name": "Python 3",
   "language": "python",
   "name": "python3"
  },
  "language_info": {
   "codemirror_mode": {
    "name": "ipython",
    "version": 3
   },
   "file_extension": ".py",
   "mimetype": "text/x-python",
   "name": "python",
   "nbconvert_exporter": "python",
   "pygments_lexer": "ipython3",
   "version": "3.10.11"
  }
 },
 "nbformat": 4,
 "nbformat_minor": 2
}
