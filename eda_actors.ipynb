{
 "cells": [
  {
   "cell_type": "code",
   "execution_count": null,
   "metadata": {},
   "outputs": [],
   "source": [
    "%load_ext autoreload\n",
    "%autoreload 2\n",
    "%reload_ext autoreload\n",
    "\n",
    "import plotly.express as px\n",
    "import polars as pl\n",
    "import pandas as pd\n",
    "pd.set_option('display.float_format', lambda x: f'{x :.2f}')\n",
    "from cleaner import DataCleaner\n",
    "import matplotlib.pyplot as plt\n",
    "import numpy as np\n",
    "from datetime import datetime\n",
    "from tools import (\n",
    "    logging,\n",
    "    bins_generator,\n",
    "    import_datasets,\n",
    "    decode_clean_actors,\n",
    "    decode_clean,\n",
    "    person_dataframe,\n",
    "\n",
    ")\n",
    "import eda_movies as eda"
   ]
  },
  {
   "cell_type": "code",
   "execution_count": null,
   "metadata": {},
   "outputs": [],
   "source": [
    "# link = \"big_dataframe/actors.parquet\"\n",
    "link = \"movies_datasets/name_basics.tsv\"\n",
    "test = import_datasets(link, 'pandas', sep=\"\\t\")\n",
    "test"
   ]
  },
  {
   "cell_type": "code",
   "execution_count": null,
   "metadata": {},
   "outputs": [],
   "source": [
    "df = test.copy()"
   ]
  },
  {
   "cell_type": "code",
   "execution_count": null,
   "metadata": {},
   "outputs": [],
   "source": [
    "df"
   ]
  },
  {
   "cell_type": "code",
   "execution_count": null,
   "metadata": {},
   "outputs": [],
   "source": [
    "df.drop([\"deathYear\", \"primaryProfession\"], axis=1, inplace=True)"
   ]
  },
  {
   "cell_type": "code",
   "execution_count": null,
   "metadata": {},
   "outputs": [],
   "source": [
    "clean = DataCleaner()\n",
    "clean.fix_values(df, \"fix_n\")"
   ]
  },
  {
   "cell_type": "code",
   "execution_count": null,
   "metadata": {},
   "outputs": [],
   "source": [
    "df"
   ]
  },
  {
   "cell_type": "code",
   "execution_count": null,
   "metadata": {},
   "outputs": [],
   "source": [
    "df[\"knownForTitles\"] = np.where(df[\"knownForTitles\"] == 0, \"Unknown\", df[\"knownForTitles\"])\n",
    "df[\"knownForTitles\"] = df[\"knownForTitles\"].str.split(\",\")\n",
    "# mf[\"person_role\"] = mf[\"person_role\"].apply(decode_clean_actors).str.split(\",\")\n"
   ]
  },
  {
   "cell_type": "code",
   "execution_count": null,
   "metadata": {},
   "outputs": [],
   "source": [
    "df[\"birthYear\"] = df[\"birthYear\"].astype(\"int64\")"
   ]
  },
  {
   "cell_type": "code",
   "execution_count": null,
   "metadata": {},
   "outputs": [],
   "source": [
    "df.head()"
   ]
  },
  {
   "cell_type": "code",
   "execution_count": null,
   "metadata": {},
   "outputs": [],
   "source": [
    "df.to_parquet(\"clean_datasets/person.parquet\")"
   ]
  },
  {
   "cell_type": "code",
   "execution_count": null,
   "metadata": {},
   "outputs": [],
   "source": [
    "# link = \"clean_datasets/movies_cleaned.parquet\"\n",
    "link_principals = \"movies_datasets/title_principals.tsv\"\n",
    "\n",
    "# movies_cleaned = import_datasets(link, \"parquet\")\n",
    "principals = import_datasets(link_principals, \"pandas\", sep=\"\\t\")"
   ]
  },
  {
   "cell_type": "code",
   "execution_count": null,
   "metadata": {},
   "outputs": [],
   "source": [
    "df_prin = principals.copy()"
   ]
  },
  {
   "cell_type": "code",
   "execution_count": null,
   "metadata": {},
   "outputs": [],
   "source": [
    "df_prin.drop([\"job\"], inplace=True, axis=1)\n"
   ]
  },
  {
   "cell_type": "code",
   "execution_count": null,
   "metadata": {},
   "outputs": [],
   "source": [
    "df_prin"
   ]
  },
  {
   "cell_type": "code",
   "execution_count": null,
   "metadata": {},
   "outputs": [],
   "source": [
    "df_prin = clean.fix_values(df_prin, \"fix_n\")\n"
   ]
  },
  {
   "cell_type": "code",
   "execution_count": null,
   "metadata": {},
   "outputs": [],
   "source": [
    "\n",
    "df_prin[\"characters\"] = np.where(df_prin[\"characters\"] == 0, \"Unknown\", df_prin[\"characters\"])\n",
    "# df_prin[\"characters\"] = df_prin[\"characters\"].str.split(\",\")\n",
    "df_prin[\"characters\"] = df_prin[\"characters\"].apply(decode_clean_actors).str.split(\",\")\n"
   ]
  },
  {
   "cell_type": "code",
   "execution_count": null,
   "metadata": {},
   "outputs": [],
   "source": [
    "df_prin[\"category\"].unique()"
   ]
  },
  {
   "cell_type": "code",
   "execution_count": null,
   "metadata": {},
   "outputs": [],
   "source": [
    "\n",
    "test = df_prin.copy()"
   ]
  },
  {
   "cell_type": "code",
   "execution_count": null,
   "metadata": {},
   "outputs": [],
   "source": [
    "actors_list = [\"self\", \"actor\", \"actress\"]\n",
    "\n",
    "actors = test[test['category'].isin(actors_list)]\n",
    "\n",
    "# actors = df_prin[\"category\"].str.contains(\"act\")\n",
    "# directors = df_prin[\"category\"].str.contains(\"dire\")\n",
    "# writors = df_prin[\"category\"].str.contains(\"wri\")\n",
    "# cinemato = df_prin[\"category\"].str.contains(\"cinem\")"
   ]
  },
  {
   "cell_type": "code",
   "execution_count": null,
   "metadata": {},
   "outputs": [],
   "source": [
    "directors = test[test[\"category\"].str.contains(\"director\")]"
   ]
  },
  {
   "cell_type": "code",
   "execution_count": null,
   "metadata": {},
   "outputs": [],
   "source": [
    "actors"
   ]
  },
  {
   "cell_type": "code",
   "execution_count": null,
   "metadata": {},
   "outputs": [],
   "source": [
    "directors"
   ]
  },
  {
   "cell_type": "code",
   "execution_count": null,
   "metadata": {},
   "outputs": [],
   "source": [
    "actors.to_parquet(\"clean_datasets/actors.parquet\")"
   ]
  },
  {
   "cell_type": "code",
   "execution_count": null,
   "metadata": {},
   "outputs": [],
   "source": [
    "directors.to_parquet(\"clean_datasets/directors.parquet\")"
   ]
  },
  {
   "cell_type": "code",
   "execution_count": null,
   "metadata": {},
   "outputs": [],
   "source": [
    "# j'ai essayé de lancer ça ça a pris plus de 7 min j'ai give up\n",
    "\n",
    "others = test[~test[\"category\"].isin([actors, directors])]"
   ]
  },
  {
   "cell_type": "code",
   "execution_count": null,
   "metadata": {},
   "outputs": [],
   "source": [
    "df.dtypes"
   ]
  },
  {
   "cell_type": "code",
   "execution_count": null,
   "metadata": {},
   "outputs": [],
   "source": [
    "actors.dtypes"
   ]
  },
  {
   "cell_type": "code",
   "execution_count": null,
   "metadata": {},
   "outputs": [],
   "source": [
    "directors.dtypes"
   ]
  },
  {
   "cell_type": "code",
   "execution_count": null,
   "metadata": {},
   "outputs": [],
   "source": [
    "link = \"clean_datasets/movies_cleaned.parquet\"\n",
    "\n",
    "movies = import_datasets(link, \"parquet\")"
   ]
  },
  {
   "cell_type": "code",
   "execution_count": null,
   "metadata": {},
   "outputs": [],
   "source": [
    "df_movies = movies.copy()"
   ]
  },
  {
   "cell_type": "code",
   "execution_count": null,
   "metadata": {},
   "outputs": [],
   "source": [
    "df_actors = actors.copy()"
   ]
  },
  {
   "cell_type": "code",
   "execution_count": null,
   "metadata": {},
   "outputs": [],
   "source": [
    "df_person = df.copy()"
   ]
  },
  {
   "cell_type": "code",
   "execution_count": null,
   "metadata": {},
   "outputs": [],
   "source": [
    "df_actors.head()"
   ]
  },
  {
   "cell_type": "code",
   "execution_count": null,
   "metadata": {},
   "outputs": [],
   "source": [
    "df_person.head()"
   ]
  },
  {
   "cell_type": "code",
   "execution_count": null,
   "metadata": {},
   "outputs": [],
   "source": [
    "actors_names = pd.merge(\n",
    "    df_actors,\n",
    "    df_person,\n",
    "    on = \"nconst\"\n",
    ")"
   ]
  },
  {
   "cell_type": "code",
   "execution_count": null,
   "metadata": {},
   "outputs": [],
   "source": [
    "actors_names.head()"
   ]
  },
  {
   "cell_type": "code",
   "execution_count": null,
   "metadata": {},
   "outputs": [],
   "source": [
    "movies_actors = pd.merge(\n",
    "    actors_names,\n",
    "    df_movies,\n",
    "    left_on = \"tconst\",\n",
    "    right_on = \"titre_id\"\n",
    ")"
   ]
  },
  {
   "cell_type": "code",
   "execution_count": null,
   "metadata": {},
   "outputs": [],
   "source": [
    "movies_actors.head()"
   ]
  },
  {
   "cell_type": "code",
   "execution_count": null,
   "metadata": {},
   "outputs": [],
   "source": [
    "movies_actors.drop([\"tconst\"], inplace=True, axis=1)"
   ]
  },
  {
   "cell_type": "code",
   "execution_count": null,
   "metadata": {},
   "outputs": [],
   "source": [
    "copy = movies_actors.copy()"
   ]
  },
  {
   "cell_type": "code",
   "execution_count": null,
   "metadata": {},
   "outputs": [],
   "source": [
    "column_order = [\n",
    "    \"titre_id\",\n",
    "    \"titre_str\",\n",
    "    \"titre_date_sortie\",\n",
    "    \"titre_duree\",\n",
    "    \"titre_genres\",\n",
    "    \"rating_avg\",\n",
    "    \"rating_votes\",\n",
    "    \"original_language\",\n",
    "    \"original_title\",\n",
    "    \"popularity\",\n",
    "    \"production_countries\",\n",
    "    \"revenue\",\n",
    "    \"spoken_languages\",\n",
    "    \"status\",\n",
    "    \"titleId\",\n",
    "    \"region\",\n",
    "    \"cuts\",\n",
    "    \"nconst\",\n",
    "    \"category\",\n",
    "    \"characters\",\n",
    "    \"primaryName\",\n",
    "    \"birthYear\",\n",
    "    \"knownForTitles\",\n",
    "    \"ordering\"\n",
    "]\n",
    "\n",
    "df = copy[column_order]\n",
    "\n",
    "df.head()"
   ]
  },
  {
   "cell_type": "code",
   "execution_count": null,
   "metadata": {},
   "outputs": [],
   "source": [
    "df.head()"
   ]
  },
  {
   "cell_type": "code",
   "execution_count": null,
   "metadata": {},
   "outputs": [],
   "source": [
    "df[df[\"primaryName\"].str.contains(\"rard Depardieu\")]"
   ]
  },
  {
   "cell_type": "code",
   "execution_count": null,
   "metadata": {},
   "outputs": [],
   "source": [
    "df[\"primaryName\"].value_counts()"
   ]
  },
  {
   "cell_type": "markdown",
   "metadata": {},
   "source": [
    "**JME SUIS ARRETÉ LA**\n"
   ]
  },
  {
   "cell_type": "code",
   "execution_count": null,
   "metadata": {},
   "outputs": [],
   "source": [
    "# link = \"big_dataframe/actors.parquet\"\n",
    "# df_og = import_datasets(\n",
    "#     link,\n",
    "#     types=\"parquet\",\n",
    "# )\n",
    "# cleaning = DataCleaner()\n",
    "# df = cleaning.fix_values(df_og, \"fix_n\")\n",
    "# # df = cleaning.fix_values(df1, \"fix_encode\")"
   ]
  },
  {
   "cell_type": "code",
   "execution_count": null,
   "metadata": {},
   "outputs": [],
   "source": [
    "df[\"person_birthdate\"] = df[\"person_birthdate\"].astype(\"int64\")"
   ]
  },
  {
   "cell_type": "code",
   "execution_count": null,
   "metadata": {},
   "outputs": [],
   "source": [
    "df.isna().sum()"
   ]
  },
  {
   "cell_type": "code",
   "execution_count": null,
   "metadata": {},
   "outputs": [],
   "source": [
    "df.dtypes"
   ]
  },
  {
   "cell_type": "code",
   "execution_count": null,
   "metadata": {},
   "outputs": [],
   "source": []
  },
  {
   "cell_type": "code",
   "execution_count": null,
   "metadata": {},
   "outputs": [],
   "source": [
    "df[\"person_film\"] = df[\"person_film\"].str.split(\",\")"
   ]
  },
  {
   "cell_type": "code",
   "execution_count": null,
   "metadata": {},
   "outputs": [],
   "source": [
    "df[\"person_role\"] = np.where(df[\"person_role\"] == 0, \"Unknown\", df[\"person_role\"])"
   ]
  },
  {
   "cell_type": "code",
   "execution_count": null,
   "metadata": {},
   "outputs": [],
   "source": [
    "df.isna().sum()"
   ]
  },
  {
   "cell_type": "code",
   "execution_count": null,
   "metadata": {},
   "outputs": [],
   "source": [
    "df[\"person_film\"] = np.where(df[\"person_film\"].isna(), \"Unknown\", df[\"person_film\"])"
   ]
  },
  {
   "cell_type": "code",
   "execution_count": null,
   "metadata": {},
   "outputs": [],
   "source": [
    "mf = df.copy()"
   ]
  },
  {
   "cell_type": "code",
   "execution_count": null,
   "metadata": {},
   "outputs": [],
   "source": [
    "mf[\"person_role\"] = mf[\"person_role\"].apply(decode_clean_actors).str.split(\",\")"
   ]
  },
  {
   "cell_type": "code",
   "execution_count": null,
   "metadata": {},
   "outputs": [],
   "source": [
    "mf.head()"
   ]
  },
  {
   "cell_type": "code",
   "execution_count": null,
   "metadata": {},
   "outputs": [],
   "source": [
    "mf[mf[\"person_name\"].str.contains('Eddie Murphy')]"
   ]
  },
  {
   "cell_type": "code",
   "execution_count": null,
   "metadata": {},
   "outputs": [],
   "source": [
    "mf.shape"
   ]
  },
  {
   "cell_type": "code",
   "execution_count": null,
   "metadata": {},
   "outputs": [],
   "source": [
    "# merge avec movies"
   ]
  },
  {
   "cell_type": "code",
   "execution_count": null,
   "metadata": {},
   "outputs": [],
   "source": [
    "link = \"clean_datasets/movies_cleaned.parquet\"\n",
    "link_principals = \"movies_datasets/title_principals.tsv\"\n",
    "\n",
    "movies_cleaned = import_datasets(link, \"parquet\")\n",
    "principals = import_datasets(link_principals, \"pandas\", sep=\"\\t\")"
   ]
  },
  {
   "cell_type": "code",
   "execution_count": null,
   "metadata": {},
   "outputs": [],
   "source": [
    "principals = principals[[\"tconst\", \"nconst\"]]\n",
    "\n",
    "principals.head()"
   ]
  },
  {
   "cell_type": "code",
   "execution_count": null,
   "metadata": {},
   "outputs": [],
   "source": [
    "movies_with_personid = pd.merge(\n",
    "    movies_cleaned,\n",
    "    principals,\n",
    "    left_on = \"titre_id\",\n",
    "    right_on = \"tconst\",\n",
    ")\n",
    "#  ICi on récuperer tous les acteurs avec leurs titres"
   ]
  },
  {
   "cell_type": "code",
   "execution_count": null,
   "metadata": {},
   "outputs": [],
   "source": [
    "condi2 = (\n",
    "    (movies_with_personid[\"titre_id\"].str.contains(\"tt0068991\")) &\n",
    "    (movies_with_personid[\"nconst\"].str.contains(\"nm0000367\"))\n",
    ")\n",
    "movies_with_personid[condi2]"
   ]
  },
  {
   "cell_type": "code",
   "execution_count": null,
   "metadata": {},
   "outputs": [],
   "source": [
    "movies_with_personid[\"titre_id\"].unique().size"
   ]
  },
  {
   "cell_type": "code",
   "execution_count": null,
   "metadata": {},
   "outputs": [],
   "source": [
    "movies_with_personid"
   ]
  },
  {
   "cell_type": "code",
   "execution_count": null,
   "metadata": {},
   "outputs": [],
   "source": [
    "actors_merged = pd.merge(\n",
    "    mf,\n",
    "    movies_with_personid,\n",
    "    left_on = \"person_id\",\n",
    "    right_on = \"nconst\",\n",
    "    how=\"left\"\n",
    ")\n",
    "\n",
    "gerard = movies_with_personid[movies_with_personid.nconst.isin(mf.person_id)]\n",
    "# gerard.head()\n",
    "# actors_merged = actors_merged.drop(\"nconst\", axis=1)"
   ]
  },
  {
   "cell_type": "code",
   "execution_count": null,
   "metadata": {},
   "outputs": [],
   "source": [
    "gerard"
   ]
  },
  {
   "cell_type": "code",
   "execution_count": null,
   "metadata": {},
   "outputs": [],
   "source": [
    "actors_merged = pd.merge(\n",
    "    gerard,\n",
    "    mf,\n",
    "    left_on = \"nconst\",\n",
    "    right_on = \"person_id\",\n",
    ")"
   ]
  },
  {
   "cell_type": "code",
   "execution_count": null,
   "metadata": {},
   "outputs": [],
   "source": [
    "actors_merged"
   ]
  },
  {
   "cell_type": "code",
   "execution_count": null,
   "metadata": {},
   "outputs": [],
   "source": [
    "actors_merged[\"titre_id\"].unique().size"
   ]
  },
  {
   "cell_type": "code",
   "execution_count": null,
   "metadata": {},
   "outputs": [],
   "source": [
    "condi2 = (\n",
    "    (actors_merged[\"titre_id\"].str.contains(\"tt0068991\")) &\n",
    "    (actors_merged[\"nconst\"].str.contains(\"nm0000367\"))\n",
    ")\n",
    "actors_merged[condi2]"
   ]
  },
  {
   "cell_type": "code",
   "execution_count": null,
   "metadata": {},
   "outputs": [],
   "source": [
    "df = actors_merged.copy()"
   ]
  },
  {
   "cell_type": "code",
   "execution_count": null,
   "metadata": {},
   "outputs": [],
   "source": [
    "df.head()"
   ]
  },
  {
   "cell_type": "code",
   "execution_count": null,
   "metadata": {},
   "outputs": [],
   "source": [
    "condi2 = (\n",
    "    (principals[\"tconst\"].str.contains(\"tt0068991\")) &\n",
    "    (principals[\"nconst\"].str.contains(\"nm0000367\"))\n",
    ")\n"
   ]
  },
  {
   "cell_type": "code",
   "execution_count": null,
   "metadata": {},
   "outputs": [],
   "source": [
    "len(df[df[\"person_name\"].str.contains(\"Gérard Depardieu\")])"
   ]
  },
  {
   "cell_type": "code",
   "execution_count": null,
   "metadata": {},
   "outputs": [],
   "source": [
    "df.isna().sum()"
   ]
  },
  {
   "cell_type": "code",
   "execution_count": null,
   "metadata": {},
   "outputs": [],
   "source": []
  }
 ],
 "metadata": {
  "kernelspec": {
   "display_name": "Python 3",
   "language": "python",
   "name": "python3"
  },
  "language_info": {
   "codemirror_mode": {
    "name": "ipython",
    "version": 3
   },
   "file_extension": ".py",
   "mimetype": "text/x-python",
   "name": "python",
   "nbconvert_exporter": "python",
   "pygments_lexer": "ipython3",
   "version": "3.10.11"
  }
 },
 "nbformat": 4,
 "nbformat_minor": 2
}
