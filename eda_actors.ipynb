{
 "cells": [
  {
   "cell_type": "code",
   "execution_count": 2,
   "metadata": {},
   "outputs": [
    {
     "name": "stdout",
     "output_type": "stream",
     "text": [
      "The autoreload extension is already loaded. To reload it, use:\n",
      "  %reload_ext autoreload\n"
     ]
    }
   ],
   "source": [
    "%load_ext autoreload\n",
    "%autoreload 2\n",
    "%reload_ext autoreload\n",
    "\n",
    "import plotly.express as px\n",
    "import polars as pl\n",
    "import pandas as pd\n",
    "pd.set_option('display.float_format', lambda x: f'{x :.2f}')\n",
    "from cleaner import DataCleaner\n",
    "import matplotlib.pyplot as plt\n",
    "import numpy as np\n",
    "from datetime import datetime\n",
    "from tools import (\n",
    "    logging,\n",
    "    bins_generator,\n",
    "    import_datasets,\n",
    "    decode_clean_actors,\n",
    "    decode_clean,\n",
    "\n",
    ")\n",
    "import explo_data_analysis.eda_movies as eda"
   ]
  },
  {
   "cell_type": "code",
   "execution_count": 3,
   "metadata": {},
   "outputs": [
    {
     "name": "stderr",
     "output_type": "stream",
     "text": [
      "2023-10-30 09:38:29 INFO     Parquet loaded ! Importing actors_movies...\n"
     ]
    }
   ],
   "source": [
    "link = \"clean_datasets/actors_movies.parquet\"\n",
    "actors_movies = import_datasets(\n",
    "    link,\n",
    "    \"parquet\"\n",
    ")"
   ]
  },
  {
   "cell_type": "markdown",
   "metadata": {},
   "source": [
    "**JME SUIS ARRETÉ LA**\n"
   ]
  },
  {
   "cell_type": "code",
   "execution_count": 5,
   "metadata": {},
   "outputs": [],
   "source": [
    "df = actors_movies.copy()"
   ]
  },
  {
   "cell_type": "code",
   "execution_count": 9,
   "metadata": {},
   "outputs": [
    {
     "data": {
      "text/html": [
       "<div>\n",
       "<style scoped>\n",
       "    .dataframe tbody tr th:only-of-type {\n",
       "        vertical-align: middle;\n",
       "    }\n",
       "\n",
       "    .dataframe tbody tr th {\n",
       "        vertical-align: top;\n",
       "    }\n",
       "\n",
       "    .dataframe thead th {\n",
       "        text-align: right;\n",
       "    }\n",
       "</style>\n",
       "<table border=\"1\" class=\"dataframe\">\n",
       "  <thead>\n",
       "    <tr style=\"text-align: right;\">\n",
       "      <th></th>\n",
       "      <th>titre_id</th>\n",
       "      <th>titre_str</th>\n",
       "      <th>titre_date_sortie</th>\n",
       "      <th>titre_duree</th>\n",
       "      <th>titre_genres</th>\n",
       "      <th>rating_avg</th>\n",
       "      <th>rating_votes</th>\n",
       "      <th>original_language</th>\n",
       "      <th>original_title</th>\n",
       "      <th>popularity</th>\n",
       "      <th>...</th>\n",
       "      <th>status</th>\n",
       "      <th>region</th>\n",
       "      <th>cuts</th>\n",
       "      <th>person_id</th>\n",
       "      <th>person_name</th>\n",
       "      <th>person_birthdate</th>\n",
       "      <th>person_job</th>\n",
       "      <th>person_role</th>\n",
       "      <th>person_film</th>\n",
       "      <th>person_index</th>\n",
       "    </tr>\n",
       "  </thead>\n",
       "  <tbody>\n",
       "    <tr>\n",
       "      <th>0</th>\n",
       "      <td>tt0020403</td>\n",
       "      <td>Show of Shows</td>\n",
       "      <td>1929</td>\n",
       "      <td>128</td>\n",
       "      <td>[Comedy]</td>\n",
       "      <td>5.80</td>\n",
       "      <td>462</td>\n",
       "      <td>en</td>\n",
       "      <td>Show of Shows</td>\n",
       "      <td>1.12</td>\n",
       "      <td>...</td>\n",
       "      <td>Released</td>\n",
       "      <td>FR</td>\n",
       "      <td>1920-1929</td>\n",
       "      <td>nm0183823</td>\n",
       "      <td>William Courtenay</td>\n",
       "      <td>1875</td>\n",
       "      <td>actor</td>\n",
       "      <td>[The Minister - Guillotine Sequence]</td>\n",
       "      <td>[tt0020403, tt0020355, tt0000009, tt0021535]</td>\n",
       "      <td>2</td>\n",
       "    </tr>\n",
       "    <tr>\n",
       "      <th>1</th>\n",
       "      <td>tt0020403</td>\n",
       "      <td>Show of Shows</td>\n",
       "      <td>1929</td>\n",
       "      <td>128</td>\n",
       "      <td>[Comedy]</td>\n",
       "      <td>5.80</td>\n",
       "      <td>462</td>\n",
       "      <td>en</td>\n",
       "      <td>Show of Shows</td>\n",
       "      <td>1.12</td>\n",
       "      <td>...</td>\n",
       "      <td>Released</td>\n",
       "      <td>FR</td>\n",
       "      <td>1920-1929</td>\n",
       "      <td>nm0098376</td>\n",
       "      <td>Hobart Bosworth</td>\n",
       "      <td>1867</td>\n",
       "      <td>actor</td>\n",
       "      <td>[Executioner - Guillotine Sequence]</td>\n",
       "      <td>[tt0006280, tt0003731, tt0003362, tt0015624]</td>\n",
       "      <td>4</td>\n",
       "    </tr>\n",
       "    <tr>\n",
       "      <th>2</th>\n",
       "      <td>tt0020403</td>\n",
       "      <td>Show of Shows</td>\n",
       "      <td>1929</td>\n",
       "      <td>128</td>\n",
       "      <td>[Comedy]</td>\n",
       "      <td>5.80</td>\n",
       "      <td>462</td>\n",
       "      <td>en</td>\n",
       "      <td>Show of Shows</td>\n",
       "      <td>1.12</td>\n",
       "      <td>...</td>\n",
       "      <td>Released</td>\n",
       "      <td>FR</td>\n",
       "      <td>1920-1929</td>\n",
       "      <td>nm0912478</td>\n",
       "      <td>H.B. Warner</td>\n",
       "      <td>1876</td>\n",
       "      <td>actor</td>\n",
       "      <td>[The Victim - Guillotine Sequence]</td>\n",
       "      <td>[tt0027996, tt0030993, tt0029162, tt0038650]</td>\n",
       "      <td>3</td>\n",
       "    </tr>\n",
       "    <tr>\n",
       "      <th>3</th>\n",
       "      <td>tt0020403</td>\n",
       "      <td>Show of Shows</td>\n",
       "      <td>1929</td>\n",
       "      <td>128</td>\n",
       "      <td>[Comedy]</td>\n",
       "      <td>5.80</td>\n",
       "      <td>462</td>\n",
       "      <td>en</td>\n",
       "      <td>Show of Shows</td>\n",
       "      <td>1.12</td>\n",
       "      <td>...</td>\n",
       "      <td>Released</td>\n",
       "      <td>FR</td>\n",
       "      <td>1920-1929</td>\n",
       "      <td>nm0269567</td>\n",
       "      <td>Frank Fay</td>\n",
       "      <td>1891</td>\n",
       "      <td>actor</td>\n",
       "      <td>[Master of Ceremonies]</td>\n",
       "      <td>[tt0022902, tt0021132, tt0029322, tt0021917]</td>\n",
       "      <td>1</td>\n",
       "    </tr>\n",
       "    <tr>\n",
       "      <th>4</th>\n",
       "      <td>tt0165435</td>\n",
       "      <td>The Arrival from the Darkness</td>\n",
       "      <td>1921</td>\n",
       "      <td>60</td>\n",
       "      <td>[Fantasy, Horror]</td>\n",
       "      <td>6.40</td>\n",
       "      <td>109</td>\n",
       "      <td>cs</td>\n",
       "      <td>Příchozí z temnot</td>\n",
       "      <td>0.60</td>\n",
       "      <td>...</td>\n",
       "      <td>Released</td>\n",
       "      <td>FR</td>\n",
       "      <td>1920-1929</td>\n",
       "      <td>nm0841389</td>\n",
       "      <td>Josef Sváb-Malostranský</td>\n",
       "      <td>1860</td>\n",
       "      <td>actor</td>\n",
       "      <td>[Jan]</td>\n",
       "      <td>[tt0000190, tt0006769, tt0310395, tt1075008]</td>\n",
       "      <td>3</td>\n",
       "    </tr>\n",
       "  </tbody>\n",
       "</table>\n",
       "<p>5 rows × 23 columns</p>\n",
       "</div>"
      ],
      "text/plain": [
       "    titre_id                      titre_str  titre_date_sortie  titre_duree  \\\n",
       "0  tt0020403                  Show of Shows               1929          128   \n",
       "1  tt0020403                  Show of Shows               1929          128   \n",
       "2  tt0020403                  Show of Shows               1929          128   \n",
       "3  tt0020403                  Show of Shows               1929          128   \n",
       "4  tt0165435  The Arrival from the Darkness               1921           60   \n",
       "\n",
       "        titre_genres  rating_avg  rating_votes original_language  \\\n",
       "0           [Comedy]        5.80           462                en   \n",
       "1           [Comedy]        5.80           462                en   \n",
       "2           [Comedy]        5.80           462                en   \n",
       "3           [Comedy]        5.80           462                en   \n",
       "4  [Fantasy, Horror]        6.40           109                cs   \n",
       "\n",
       "      original_title  popularity  ...    status  region       cuts  person_id  \\\n",
       "0      Show of Shows        1.12  ...  Released      FR  1920-1929  nm0183823   \n",
       "1      Show of Shows        1.12  ...  Released      FR  1920-1929  nm0098376   \n",
       "2      Show of Shows        1.12  ...  Released      FR  1920-1929  nm0912478   \n",
       "3      Show of Shows        1.12  ...  Released      FR  1920-1929  nm0269567   \n",
       "4  Příchozí z temnot        0.60  ...  Released      FR  1920-1929  nm0841389   \n",
       "\n",
       "               person_name person_birthdate person_job  \\\n",
       "0        William Courtenay             1875      actor   \n",
       "1          Hobart Bosworth             1867      actor   \n",
       "2              H.B. Warner             1876      actor   \n",
       "3                Frank Fay             1891      actor   \n",
       "4  Josef Sváb-Malostranský             1860      actor   \n",
       "\n",
       "                            person_role  \\\n",
       "0  [The Minister - Guillotine Sequence]   \n",
       "1   [Executioner - Guillotine Sequence]   \n",
       "2    [The Victim - Guillotine Sequence]   \n",
       "3                [Master of Ceremonies]   \n",
       "4                                 [Jan]   \n",
       "\n",
       "                                    person_film person_index  \n",
       "0  [tt0020403, tt0020355, tt0000009, tt0021535]            2  \n",
       "1  [tt0006280, tt0003731, tt0003362, tt0015624]            4  \n",
       "2  [tt0027996, tt0030993, tt0029162, tt0038650]            3  \n",
       "3  [tt0022902, tt0021132, tt0029322, tt0021917]            1  \n",
       "4  [tt0000190, tt0006769, tt0310395, tt1075008]            3  \n",
       "\n",
       "[5 rows x 23 columns]"
      ]
     },
     "execution_count": 9,
     "metadata": {},
     "output_type": "execute_result"
    }
   ],
   "source": [
    "df.head()"
   ]
  },
  {
   "cell_type": "code",
   "execution_count": 13,
   "metadata": {},
   "outputs": [
    {
     "data": {
      "text/plain": [
       "<bound method Series.unique of 0         [The Minister - Guillotine Sequence]\n",
       "1          [Executioner - Guillotine Sequence]\n",
       "2           [The Victim - Guillotine Sequence]\n",
       "3                       [Master of Ceremonies]\n",
       "4                                        [Jan]\n",
       "                          ...                 \n",
       "212706                               [Unknown]\n",
       "212707                                  [Self]\n",
       "212708                                  [Self]\n",
       "212709                                  [Self]\n",
       "212710                                  [Self]\n",
       "Name: person_role, Length: 212711, dtype: object>"
      ]
     },
     "execution_count": 13,
     "metadata": {},
     "output_type": "execute_result"
    }
   ],
   "source": [
    "df.person_role.unique"
   ]
  },
  {
   "cell_type": "code",
   "execution_count": 14,
   "metadata": {},
   "outputs": [
    {
     "data": {
      "text/plain": [
       "52439"
      ]
     },
     "execution_count": 14,
     "metadata": {},
     "output_type": "execute_result"
    }
   ],
   "source": [
    "df[\"titre_id\"].unique().size"
   ]
  },
  {
   "cell_type": "code",
   "execution_count": 16,
   "metadata": {},
   "outputs": [
    {
     "data": {
      "text/html": [
       "<div>\n",
       "<style scoped>\n",
       "    .dataframe tbody tr th:only-of-type {\n",
       "        vertical-align: middle;\n",
       "    }\n",
       "\n",
       "    .dataframe tbody tr th {\n",
       "        vertical-align: top;\n",
       "    }\n",
       "\n",
       "    .dataframe thead th {\n",
       "        text-align: right;\n",
       "    }\n",
       "</style>\n",
       "<table border=\"1\" class=\"dataframe\">\n",
       "  <thead>\n",
       "    <tr style=\"text-align: right;\">\n",
       "      <th></th>\n",
       "      <th>titre_id</th>\n",
       "      <th>titre_str</th>\n",
       "      <th>titre_date_sortie</th>\n",
       "      <th>titre_duree</th>\n",
       "      <th>titre_genres</th>\n",
       "      <th>rating_avg</th>\n",
       "      <th>rating_votes</th>\n",
       "      <th>original_language</th>\n",
       "      <th>original_title</th>\n",
       "      <th>popularity</th>\n",
       "      <th>...</th>\n",
       "      <th>status</th>\n",
       "      <th>region</th>\n",
       "      <th>cuts</th>\n",
       "      <th>person_id</th>\n",
       "      <th>person_name</th>\n",
       "      <th>person_birthdate</th>\n",
       "      <th>person_job</th>\n",
       "      <th>person_role</th>\n",
       "      <th>person_film</th>\n",
       "      <th>person_index</th>\n",
       "    </tr>\n",
       "  </thead>\n",
       "  <tbody>\n",
       "    <tr>\n",
       "      <th>52076</th>\n",
       "      <td>tt0068991</td>\n",
       "      <td>Nathalie Granger</td>\n",
       "      <td>1972</td>\n",
       "      <td>83</td>\n",
       "      <td>[Drama]</td>\n",
       "      <td>6.70</td>\n",
       "      <td>654</td>\n",
       "      <td>fr</td>\n",
       "      <td>Nathalie Granger</td>\n",
       "      <td>1.83</td>\n",
       "      <td>...</td>\n",
       "      <td>Released</td>\n",
       "      <td>FR</td>\n",
       "      <td>1970-1979</td>\n",
       "      <td>nm0000367</td>\n",
       "      <td>Gérard Depardieu</td>\n",
       "      <td>1948</td>\n",
       "      <td>actor</td>\n",
       "      <td>[Salesman]</td>\n",
       "      <td>[tt0103594, tt0099699, tt0099334, tt0120744]</td>\n",
       "      <td>3</td>\n",
       "    </tr>\n",
       "  </tbody>\n",
       "</table>\n",
       "<p>1 rows × 23 columns</p>\n",
       "</div>"
      ],
      "text/plain": [
       "        titre_id         titre_str  titre_date_sortie  titre_duree  \\\n",
       "52076  tt0068991  Nathalie Granger               1972           83   \n",
       "\n",
       "      titre_genres  rating_avg  rating_votes original_language  \\\n",
       "52076      [Drama]        6.70           654                fr   \n",
       "\n",
       "         original_title  popularity  ...    status  region       cuts  \\\n",
       "52076  Nathalie Granger        1.83  ...  Released      FR  1970-1979   \n",
       "\n",
       "       person_id       person_name person_birthdate person_job person_role  \\\n",
       "52076  nm0000367  Gérard Depardieu             1948      actor  [Salesman]   \n",
       "\n",
       "                                        person_film person_index  \n",
       "52076  [tt0103594, tt0099699, tt0099334, tt0120744]            3  \n",
       "\n",
       "[1 rows x 23 columns]"
      ]
     },
     "execution_count": 16,
     "metadata": {},
     "output_type": "execute_result"
    }
   ],
   "source": [
    "condi2 = (\n",
    "    (df[\"titre_id\"].str.contains(\"tt0068991\")) &\n",
    "    (df[\"person_id\"].str.contains(\"nm0000367\"))\n",
    ")\n",
    "df[condi2]"
   ]
  },
  {
   "cell_type": "code",
   "execution_count": 17,
   "metadata": {},
   "outputs": [
    {
     "data": {
      "text/plain": [
       "135"
      ]
     },
     "execution_count": 17,
     "metadata": {},
     "output_type": "execute_result"
    }
   ],
   "source": [
    "len(df[df[\"person_name\"].str.contains(\"Gérard Depardieu\")])"
   ]
  },
  {
   "cell_type": "code",
   "execution_count": null,
   "metadata": {},
   "outputs": [],
   "source": []
  }
 ],
 "metadata": {
  "kernelspec": {
   "display_name": "Python 3",
   "language": "python",
   "name": "python3"
  },
  "language_info": {
   "codemirror_mode": {
    "name": "ipython",
    "version": 3
   },
   "file_extension": ".py",
   "mimetype": "text/x-python",
   "name": "python",
   "nbconvert_exporter": "python",
   "pygments_lexer": "ipython3",
   "version": "3.10.11"
  }
 },
 "nbformat": 4,
 "nbformat_minor": 2
}
