{
 "cells": [
  {
   "cell_type": "code",
   "execution_count": 35,
   "metadata": {},
   "outputs": [
    {
     "name": "stdout",
     "output_type": "stream",
     "text": [
      "The autoreload extension is already loaded. To reload it, use:\n",
      "  %reload_ext autoreload\n"
     ]
    }
   ],
   "source": [
    "%load_ext autoreload\n",
    "%autoreload 2\n",
    "%reload_ext autoreload\n",
    "\n",
    "import polars as pl\n",
    "import pandas as pd\n",
    "pd.set_option('display.float_format', lambda x: f'{x :.1f}')\n",
    "from cleaner import DataCleaner\n",
    "import numpy as np\n",
    "from datetime import datetime\n",
    "from tools import (\n",
    "    order_and_rename,\n",
    "    import_datasets\n",
    ")\n"
   ]
  },
  {
   "cell_type": "code",
   "execution_count": 3,
   "metadata": {},
   "outputs": [],
   "source": [
    "movies = pl.read_csv('clean_datasets/movies.csv')\n",
    "ratings = pl.read_csv('movies_datasets/tital_ratings.tsv', separator = \"\\t\", ignore_errors = True)\n",
    "\n",
    "joined = movies.join(\n",
    "        ratings,\n",
    "        left_on = \"titre_id\",\n",
    "        right_on = \"tconst\"\n",
    "    )"
   ]
  },
  {
   "cell_type": "code",
   "execution_count": 11,
   "metadata": {},
   "outputs": [],
   "source": [
    "col_to_keep = [\n",
    "    \"titre_id\",\n",
    "    \"titre_str\",\n",
    "    \"titre_date_sortie\",\n",
    "    \"titre_duree\",\n",
    "    \"titre_genres\",\n",
    "    \"person_id\",\n",
    "    \"person_name\",\n",
    "    \"person_birthdate\",\n",
    "    \"person_job\",\n",
    "    \"averageRating\",\n",
    "    \"numVotes\"\n",
    "]\n",
    "\n",
    "col_to_change = [\n",
    "    \"titre_id\",\n",
    "    \"titre_str\",\n",
    "    \"titre_date_sortie\",\n",
    "    \"titre_duree\",\n",
    "    \"titre_genres\",\n",
    "    \"person_id\",\n",
    "    \"person_name\",\n",
    "    \"person_birthdate\",\n",
    "    \"person_job\",\n",
    "    \"rating_avg\",\n",
    "    \"rating_votes\"\n",
    "]\n",
    "\n",
    "df = order_and_rename(joined, col_to_keep, col_to_change)"
   ]
  },
  {
   "cell_type": "code",
   "execution_count": 21,
   "metadata": {},
   "outputs": [],
   "source": [
    "path = \"./clean_datasets/movies_ratings.csv\"\n",
    "\n",
    "df.write_csv(\"./clean_datasets/movies_ratings.csv\")"
   ]
  },
  {
   "cell_type": "code",
   "execution_count": 25,
   "metadata": {},
   "outputs": [
    {
     "name": "stderr",
     "output_type": "stream",
     "text": [
      "2023-10-21 15:32:09 INFO     Pandas loaded ! Importing movies_ratings.csv...\n"
     ]
    }
   ],
   "source": [
    "rating = import_datasets(path, 'pandas', sep = ',')"
   ]
  },
  {
   "cell_type": "code",
   "execution_count": 28,
   "metadata": {},
   "outputs": [
    {
     "name": "stderr",
     "output_type": "stream",
     "text": [
      "2023-10-21 15:33:06 INFO     Fixing encoding values...\n",
      "2023-10-21 15:33:10 INFO     Fixing fucked up values...\n",
      "2023-10-21 15:33:12 INFO     Cleaning porn movies...\n"
     ]
    },
    {
     "name": "stdout",
     "output_type": "stream",
     "text": [
      "Diif 116227\n"
     ]
    }
   ],
   "source": [
    "cleaning = DataCleaner()\n",
    "# d'abord je fix l'encodage et apres je clean les \\N\n",
    "\n",
    "clean_encode = cleaning.fix_values(rating, \"fix_encode\")\n",
    "clean_n = cleaning.fix_values(clean_encode, \"fix_n\")\n",
    "# maintenant je clean les porns ! et supprime les ligne ou nous n'avons pas de type de genre.\n",
    "clean_porn = cleaning.clean_porn(clean_n, )\n",
    "\n",
    "print(f\"Cleaned {len(rating) - len(clean_porn)} rows\")\n",
    "\n",
    "rating = clean_porn"
   ]
  },
  {
   "cell_type": "code",
   "execution_count": 30,
   "metadata": {},
   "outputs": [],
   "source": [
    "dates = [\"<1900\", \">1900\", \">1930\", \">1960\", \">1990\", \">2010\"]\n",
    "\n",
    "rating[\"cuts\"] = pd.cut(\n",
    "    rating[\"titre_date_sortie\"],\n",
    "    bins=[0, 1900, 1931, 1961, 1991, 2011, 2030],\n",
    "    labels=dates\n",
    ")"
   ]
  },
  {
   "cell_type": "code",
   "execution_count": 37,
   "metadata": {},
   "outputs": [
    {
     "data": {
      "text/plain": [
       "6.2"
      ]
     },
     "execution_count": 37,
     "metadata": {},
     "output_type": "execute_result"
    }
   ],
   "source": [
    "rating[\"rating_avg\"].median()"
   ]
  },
  {
   "cell_type": "code",
   "execution_count": 36,
   "metadata": {},
   "outputs": [
    {
     "data": {
      "text/plain": [
       "count   2527386.0\n",
       "mean          6.1\n",
       "std           1.3\n",
       "min           1.0\n",
       "25%           5.3\n",
       "50%           6.2\n",
       "75%           7.0\n",
       "max          10.0\n",
       "Name: rating_avg, dtype: float64"
      ]
     },
     "execution_count": 36,
     "metadata": {},
     "output_type": "execute_result"
    }
   ],
   "source": [
    "rating[\"rating_avg\"].describe()"
   ]
  },
  {
   "cell_type": "code",
   "execution_count": null,
   "metadata": {},
   "outputs": [],
   "source": [
    "rating.loc[rating[\"rating_avg\"].idxmax(), 'titre_str']"
   ]
  },
  {
   "cell_type": "code",
   "execution_count": 31,
   "metadata": {},
   "outputs": [
    {
     "data": {
      "text/html": [
       "<div>\n",
       "<style scoped>\n",
       "    .dataframe tbody tr th:only-of-type {\n",
       "        vertical-align: middle;\n",
       "    }\n",
       "\n",
       "    .dataframe tbody tr th {\n",
       "        vertical-align: top;\n",
       "    }\n",
       "\n",
       "    .dataframe thead th {\n",
       "        text-align: right;\n",
       "    }\n",
       "</style>\n",
       "<table border=\"1\" class=\"dataframe\">\n",
       "  <thead>\n",
       "    <tr style=\"text-align: right;\">\n",
       "      <th></th>\n",
       "      <th>titre_id</th>\n",
       "      <th>titre_str</th>\n",
       "      <th>titre_date_sortie</th>\n",
       "      <th>titre_duree</th>\n",
       "      <th>titre_genres</th>\n",
       "      <th>person_id</th>\n",
       "      <th>person_name</th>\n",
       "      <th>person_birthdate</th>\n",
       "      <th>person_job</th>\n",
       "      <th>rating_avg</th>\n",
       "      <th>rating_votes</th>\n",
       "      <th>cuts</th>\n",
       "    </tr>\n",
       "  </thead>\n",
       "  <tbody>\n",
       "    <tr>\n",
       "      <th>0</th>\n",
       "      <td>tt0000009</td>\n",
       "      <td>Miss Jerry</td>\n",
       "      <td>1894.000</td>\n",
       "      <td>45</td>\n",
       "      <td>Romance</td>\n",
       "      <td>nm0063086</td>\n",
       "      <td>Blanche Bayliss</td>\n",
       "      <td>1878</td>\n",
       "      <td>actress</td>\n",
       "      <td>5.300</td>\n",
       "      <td>207</td>\n",
       "      <td>&lt;1900</td>\n",
       "    </tr>\n",
       "    <tr>\n",
       "      <th>1</th>\n",
       "      <td>tt0000009</td>\n",
       "      <td>Miss Jerry</td>\n",
       "      <td>1894.000</td>\n",
       "      <td>45</td>\n",
       "      <td>Romance</td>\n",
       "      <td>nm0183823</td>\n",
       "      <td>William Courtenay</td>\n",
       "      <td>1875</td>\n",
       "      <td>actor</td>\n",
       "      <td>5.300</td>\n",
       "      <td>207</td>\n",
       "      <td>&lt;1900</td>\n",
       "    </tr>\n",
       "    <tr>\n",
       "      <th>2</th>\n",
       "      <td>tt0000009</td>\n",
       "      <td>Miss Jerry</td>\n",
       "      <td>1894.000</td>\n",
       "      <td>45</td>\n",
       "      <td>Romance</td>\n",
       "      <td>nm1309758</td>\n",
       "      <td>Chauncey Depew</td>\n",
       "      <td>1834</td>\n",
       "      <td>actor</td>\n",
       "      <td>5.300</td>\n",
       "      <td>207</td>\n",
       "      <td>&lt;1900</td>\n",
       "    </tr>\n",
       "    <tr>\n",
       "      <th>3</th>\n",
       "      <td>tt0000009</td>\n",
       "      <td>Miss Jerry</td>\n",
       "      <td>1894.000</td>\n",
       "      <td>45</td>\n",
       "      <td>Romance</td>\n",
       "      <td>nm0085156</td>\n",
       "      <td>Alexander Black</td>\n",
       "      <td>1859</td>\n",
       "      <td>director</td>\n",
       "      <td>5.300</td>\n",
       "      <td>207</td>\n",
       "      <td>&lt;1900</td>\n",
       "    </tr>\n",
       "    <tr>\n",
       "      <th>4</th>\n",
       "      <td>tt0000147</td>\n",
       "      <td>The Corbett-Fitzsimmons Fight</td>\n",
       "      <td>1897.000</td>\n",
       "      <td>100</td>\n",
       "      <td>Documentary,News,Sport</td>\n",
       "      <td>nm0179163</td>\n",
       "      <td>James J. Corbett</td>\n",
       "      <td>1866</td>\n",
       "      <td>self</td>\n",
       "      <td>5.300</td>\n",
       "      <td>483</td>\n",
       "      <td>&lt;1900</td>\n",
       "    </tr>\n",
       "    <tr>\n",
       "      <th>...</th>\n",
       "      <td>...</td>\n",
       "      <td>...</td>\n",
       "      <td>...</td>\n",
       "      <td>...</td>\n",
       "      <td>...</td>\n",
       "      <td>...</td>\n",
       "      <td>...</td>\n",
       "      <td>...</td>\n",
       "      <td>...</td>\n",
       "      <td>...</td>\n",
       "      <td>...</td>\n",
       "      <td>...</td>\n",
       "    </tr>\n",
       "    <tr>\n",
       "      <th>2643608</th>\n",
       "      <td>tt9916730</td>\n",
       "      <td>6 Gunn</td>\n",
       "      <td>2017.000</td>\n",
       "      <td>116</td>\n",
       "      <td>Drama</td>\n",
       "      <td>nm10538612</td>\n",
       "      <td>Kiran Gawade</td>\n",
       "      <td>0</td>\n",
       "      <td>director</td>\n",
       "      <td>7.600</td>\n",
       "      <td>11</td>\n",
       "      <td>&gt;2010</td>\n",
       "    </tr>\n",
       "    <tr>\n",
       "      <th>2643609</th>\n",
       "      <td>tt9916730</td>\n",
       "      <td>6 Gunn</td>\n",
       "      <td>2017.000</td>\n",
       "      <td>116</td>\n",
       "      <td>Drama</td>\n",
       "      <td>nm10538614</td>\n",
       "      <td>Ujjwala Gawde</td>\n",
       "      <td>0</td>\n",
       "      <td>producer</td>\n",
       "      <td>7.600</td>\n",
       "      <td>11</td>\n",
       "      <td>&gt;2010</td>\n",
       "    </tr>\n",
       "    <tr>\n",
       "      <th>2643610</th>\n",
       "      <td>tt9916730</td>\n",
       "      <td>6 Gunn</td>\n",
       "      <td>2017.000</td>\n",
       "      <td>116</td>\n",
       "      <td>Drama</td>\n",
       "      <td>nm10538613</td>\n",
       "      <td>Abhishek Jathar</td>\n",
       "      <td>0</td>\n",
       "      <td>producer</td>\n",
       "      <td>7.600</td>\n",
       "      <td>11</td>\n",
       "      <td>&gt;2010</td>\n",
       "    </tr>\n",
       "    <tr>\n",
       "      <th>2643611</th>\n",
       "      <td>tt9916730</td>\n",
       "      <td>6 Gunn</td>\n",
       "      <td>2017.000</td>\n",
       "      <td>116</td>\n",
       "      <td>Drama</td>\n",
       "      <td>nm1957275</td>\n",
       "      <td>Suresh Deshmane</td>\n",
       "      <td>0</td>\n",
       "      <td>cinematographer</td>\n",
       "      <td>7.600</td>\n",
       "      <td>11</td>\n",
       "      <td>&gt;2010</td>\n",
       "    </tr>\n",
       "    <tr>\n",
       "      <th>2643612</th>\n",
       "      <td>tt9916730</td>\n",
       "      <td>6 Gunn</td>\n",
       "      <td>2017.000</td>\n",
       "      <td>116</td>\n",
       "      <td>Drama</td>\n",
       "      <td>nm9785908</td>\n",
       "      <td>Rohita More</td>\n",
       "      <td>0</td>\n",
       "      <td>editor</td>\n",
       "      <td>7.600</td>\n",
       "      <td>11</td>\n",
       "      <td>&gt;2010</td>\n",
       "    </tr>\n",
       "  </tbody>\n",
       "</table>\n",
       "<p>2527386 rows × 12 columns</p>\n",
       "</div>"
      ],
      "text/plain": [
       "          titre_id                      titre_str  titre_date_sortie  \\\n",
       "0        tt0000009                     Miss Jerry           1894.000   \n",
       "1        tt0000009                     Miss Jerry           1894.000   \n",
       "2        tt0000009                     Miss Jerry           1894.000   \n",
       "3        tt0000009                     Miss Jerry           1894.000   \n",
       "4        tt0000147  The Corbett-Fitzsimmons Fight           1897.000   \n",
       "...            ...                            ...                ...   \n",
       "2643608  tt9916730                         6 Gunn           2017.000   \n",
       "2643609  tt9916730                         6 Gunn           2017.000   \n",
       "2643610  tt9916730                         6 Gunn           2017.000   \n",
       "2643611  tt9916730                         6 Gunn           2017.000   \n",
       "2643612  tt9916730                         6 Gunn           2017.000   \n",
       "\n",
       "        titre_duree            titre_genres   person_id        person_name  \\\n",
       "0                45                 Romance   nm0063086    Blanche Bayliss   \n",
       "1                45                 Romance   nm0183823  William Courtenay   \n",
       "2                45                 Romance   nm1309758     Chauncey Depew   \n",
       "3                45                 Romance   nm0085156    Alexander Black   \n",
       "4               100  Documentary,News,Sport   nm0179163   James J. Corbett   \n",
       "...             ...                     ...         ...                ...   \n",
       "2643608         116                   Drama  nm10538612       Kiran Gawade   \n",
       "2643609         116                   Drama  nm10538614      Ujjwala Gawde   \n",
       "2643610         116                   Drama  nm10538613    Abhishek Jathar   \n",
       "2643611         116                   Drama   nm1957275    Suresh Deshmane   \n",
       "2643612         116                   Drama   nm9785908        Rohita More   \n",
       "\n",
       "        person_birthdate       person_job  rating_avg  rating_votes   cuts  \n",
       "0                   1878          actress       5.300           207  <1900  \n",
       "1                   1875            actor       5.300           207  <1900  \n",
       "2                   1834            actor       5.300           207  <1900  \n",
       "3                   1859         director       5.300           207  <1900  \n",
       "4                   1866             self       5.300           483  <1900  \n",
       "...                  ...              ...         ...           ...    ...  \n",
       "2643608                0         director       7.600            11  >2010  \n",
       "2643609                0         producer       7.600            11  >2010  \n",
       "2643610                0         producer       7.600            11  >2010  \n",
       "2643611                0  cinematographer       7.600            11  >2010  \n",
       "2643612                0           editor       7.600            11  >2010  \n",
       "\n",
       "[2527386 rows x 12 columns]"
      ]
     },
     "execution_count": 31,
     "metadata": {},
     "output_type": "execute_result"
    }
   ],
   "source": [
    "for date in dates[1:]:\n",
    "    condi = (\n",
    "        (rating[\"person_age\"] != 0) &\n",
    "        (rating[\"cuts\"] == date)\n",
    "    )\n",
    "\n",
    "    print(f\"Mediane for {date}\", actor[\"person_age\"][condi].median())"
   ]
  }
 ],
 "metadata": {
  "kernelspec": {
   "display_name": "Python 3",
   "language": "python",
   "name": "python3"
  },
  "language_info": {
   "codemirror_mode": {
    "name": "ipython",
    "version": 3
   },
   "file_extension": ".py",
   "mimetype": "text/x-python",
   "name": "python",
   "nbconvert_exporter": "python",
   "pygments_lexer": "ipython3",
   "version": "3.12.0"
  }
 },
 "nbformat": 4,
 "nbformat_minor": 2
}
