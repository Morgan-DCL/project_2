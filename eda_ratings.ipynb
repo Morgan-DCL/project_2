{
 "cells": [
  {
   "cell_type": "code",
   "execution_count": 35,
   "metadata": {},
   "outputs": [
    {
     "name": "stdout",
     "output_type": "stream",
     "text": [
      "The autoreload extension is already loaded. To reload it, use:\n",
      "  %reload_ext autoreload\n"
     ]
    }
   ],
   "source": [
    "%load_ext autoreload\n",
    "%autoreload 2\n",
    "%reload_ext autoreload\n",
    "\n",
    "import polars as pl\n",
    "import pandas as pd\n",
    "pd.set_option('display.float_format', lambda x: f'{x :.1f}')\n",
    "from cleaner import DataCleaner\n",
    "import numpy as np\n",
    "from datetime import datetime\n",
    "from tools import (\n",
    "    order_and_rename,\n",
    "    import_datasets\n",
    ")\n"
   ]
  },
  {
   "cell_type": "code",
   "execution_count": 3,
   "metadata": {},
   "outputs": [],
   "source": [
    "movies = pl.read_csv('clean_datasets/movies.csv')\n",
    "ratings = pl.read_csv('movies_datasets/title_ratings.tsv', separator = \"\\t\", ignore_errors = True)\n",
    "\n",
    "joined = movies.join(\n",
    "        ratings,\n",
    "        left_on = \"titre_id\",\n",
    "        right_on = \"tconst\"\n",
    "    )"
   ]
  },
  {
   "cell_type": "code",
   "execution_count": 11,
   "metadata": {},
   "outputs": [],
   "source": [
    "col_to_keep = [\n",
    "    \"titre_id\",\n",
    "    \"titre_str\",\n",
    "    \"titre_date_sortie\",\n",
    "    \"titre_duree\",\n",
    "    \"titre_genres\",\n",
    "    \"person_id\",\n",
    "    \"person_name\",\n",
    "    \"person_birthdate\",\n",
    "    \"person_job\",\n",
    "    \"averageRating\",\n",
    "    \"numVotes\"\n",
    "]\n",
    "\n",
    "col_to_change = [\n",
    "    \"titre_id\",\n",
    "    \"titre_str\",\n",
    "    \"titre_date_sortie\",\n",
    "    \"titre_duree\",\n",
    "    \"titre_genres\",\n",
    "    \"person_id\",\n",
    "    \"person_name\",\n",
    "    \"person_birthdate\",\n",
    "    \"person_job\",\n",
    "    \"rating_avg\",\n",
    "    \"rating_votes\"\n",
    "]\n",
    "\n",
    "df = order_and_rename(joined, col_to_keep, col_to_change)"
   ]
  },
  {
   "cell_type": "code",
   "execution_count": 21,
   "metadata": {},
   "outputs": [],
   "source": [
    "path = \"./clean_datasets/movies_ratings.csv\"\n",
    "\n",
    "df.write_csv(\"./clean_datasets/movies_ratings.csv\")"
   ]
  },
  {
   "cell_type": "code",
   "execution_count": 25,
   "metadata": {},
   "outputs": [
    {
     "name": "stderr",
     "output_type": "stream",
     "text": [
      "2023-10-21 15:32:09 INFO     Pandas loaded ! Importing movies_ratings.csv...\n"
     ]
    }
   ],
   "source": [
    "rating = import_datasets(path, 'pandas', sep = ',')"
   ]
  },
  {
   "cell_type": "code",
   "execution_count": 28,
   "metadata": {},
   "outputs": [
    {
     "name": "stderr",
     "output_type": "stream",
     "text": [
      "2023-10-21 15:33:06 INFO     Fixing encoding values...\n",
      "2023-10-21 15:33:10 INFO     Fixing fucked up values...\n",
      "2023-10-21 15:33:12 INFO     Cleaning porn movies...\n"
     ]
    },
    {
     "name": "stdout",
     "output_type": "stream",
     "text": [
      "Diif 116227\n"
     ]
    }
   ],
   "source": [
    "cleaning = DataCleaner()\n",
    "# d'abord je fix l'encodage et apres je clean les \\N\n",
    "\n",
    "clean_encode = cleaning.fix_values(rating, \"fix_encode\")\n",
    "clean_n = cleaning.fix_values(clean_encode, \"fix_n\")\n",
    "# maintenant je clean les porns ! et supprime les ligne ou nous n'avons pas de type de genre.\n",
    "clean_porn = cleaning.clean_porn(clean_n, )\n",
    "\n",
    "print(f\"Cleaned {len(rating) - len(clean_porn)} rows\")\n",
    "\n",
    "rating = clean_porn"
   ]
  },
  {
   "cell_type": "code",
   "execution_count": 30,
   "metadata": {},
   "outputs": [],
   "source": [
    "dates = [\"<1900\", \">1900\", \">1930\", \">1960\", \">1990\", \">2010\"]\n",
    "\n",
    "rating[\"cuts\"] = pd.cut(\n",
    "    rating[\"titre_date_sortie\"],\n",
    "    bins=[0, 1900, 1931, 1961, 1991, 2011, 2030],\n",
    "    labels=dates\n",
    ")"
   ]
  },
  {
   "cell_type": "code",
   "execution_count": 37,
   "metadata": {},
   "outputs": [
    {
     "data": {
      "text/plain": [
       "6.2"
      ]
     },
     "execution_count": 37,
     "metadata": {},
     "output_type": "execute_result"
    }
   ],
   "source": [
    "rating[\"rating_avg\"].median()"
   ]
  },
  {
   "cell_type": "code",
   "execution_count": 36,
   "metadata": {},
   "outputs": [
    {
     "data": {
      "text/plain": [
       "count   2527386.0\n",
       "mean          6.1\n",
       "std           1.3\n",
       "min           1.0\n",
       "25%           5.3\n",
       "50%           6.2\n",
       "75%           7.0\n",
       "max          10.0\n",
       "Name: rating_avg, dtype: float64"
      ]
     },
     "execution_count": 36,
     "metadata": {},
     "output_type": "execute_result"
    }
   ],
   "source": [
    "rating[\"rating_avg\"].describe()"
   ]
  },
  {
   "cell_type": "code",
   "execution_count": 48,
   "metadata": {},
   "outputs": [
    {
     "data": {
      "text/html": [
       "<div>\n",
       "<style scoped>\n",
       "    .dataframe tbody tr th:only-of-type {\n",
       "        vertical-align: middle;\n",
       "    }\n",
       "\n",
       "    .dataframe tbody tr th {\n",
       "        vertical-align: top;\n",
       "    }\n",
       "\n",
       "    .dataframe thead th {\n",
       "        text-align: right;\n",
       "    }\n",
       "</style>\n",
       "<table border=\"1\" class=\"dataframe\">\n",
       "  <thead>\n",
       "    <tr style=\"text-align: right;\">\n",
       "      <th></th>\n",
       "      <th>titre_id</th>\n",
       "      <th>titre_str</th>\n",
       "      <th>titre_date_sortie</th>\n",
       "      <th>titre_duree</th>\n",
       "      <th>titre_genres</th>\n",
       "      <th>person_id</th>\n",
       "      <th>person_name</th>\n",
       "      <th>person_birthdate</th>\n",
       "      <th>person_job</th>\n",
       "      <th>rating_avg</th>\n",
       "      <th>rating_votes</th>\n",
       "      <th>cuts</th>\n",
       "    </tr>\n",
       "  </thead>\n",
       "  <tbody>\n",
       "    <tr>\n",
       "      <th>1402872</th>\n",
       "      <td>tt10449358</td>\n",
       "      <td>Kaputol</td>\n",
       "      <td>2019.0</td>\n",
       "      <td>120</td>\n",
       "      <td>Drama</td>\n",
       "      <td>nm2921912</td>\n",
       "      <td>Popo Diaz</td>\n",
       "      <td>0</td>\n",
       "      <td>production_designer</td>\n",
       "      <td>10.0</td>\n",
       "      <td>7</td>\n",
       "      <td>&gt;2010</td>\n",
       "    </tr>\n",
       "    <tr>\n",
       "      <th>1402873</th>\n",
       "      <td>tt10449358</td>\n",
       "      <td>Kaputol</td>\n",
       "      <td>2019.0</td>\n",
       "      <td>120</td>\n",
       "      <td>Drama</td>\n",
       "      <td>nm0317737</td>\n",
       "      <td>Cherie Gil</td>\n",
       "      <td>1963</td>\n",
       "      <td>actress</td>\n",
       "      <td>10.0</td>\n",
       "      <td>7</td>\n",
       "      <td>&gt;2010</td>\n",
       "    </tr>\n",
       "    <tr>\n",
       "      <th>1402874</th>\n",
       "      <td>tt10449358</td>\n",
       "      <td>Kaputol</td>\n",
       "      <td>2019.0</td>\n",
       "      <td>120</td>\n",
       "      <td>Drama</td>\n",
       "      <td>nm1368756</td>\n",
       "      <td>Alfred Vargas</td>\n",
       "      <td>1981</td>\n",
       "      <td>actor</td>\n",
       "      <td>10.0</td>\n",
       "      <td>7</td>\n",
       "      <td>&gt;2010</td>\n",
       "    </tr>\n",
       "    <tr>\n",
       "      <th>1402875</th>\n",
       "      <td>tt10449358</td>\n",
       "      <td>Kaputol</td>\n",
       "      <td>2019.0</td>\n",
       "      <td>120</td>\n",
       "      <td>Drama</td>\n",
       "      <td>nm6651713</td>\n",
       "      <td>Ronwaldo Martin</td>\n",
       "      <td>0</td>\n",
       "      <td>actor</td>\n",
       "      <td>10.0</td>\n",
       "      <td>7</td>\n",
       "      <td>&gt;2010</td>\n",
       "    </tr>\n",
       "    <tr>\n",
       "      <th>1402876</th>\n",
       "      <td>tt10449358</td>\n",
       "      <td>Kaputol</td>\n",
       "      <td>2019.0</td>\n",
       "      <td>120</td>\n",
       "      <td>Drama</td>\n",
       "      <td>nm0032629</td>\n",
       "      <td>Angel Aquino</td>\n",
       "      <td>1973</td>\n",
       "      <td>actress</td>\n",
       "      <td>10.0</td>\n",
       "      <td>7</td>\n",
       "      <td>&gt;2010</td>\n",
       "    </tr>\n",
       "    <tr>\n",
       "      <th>...</th>\n",
       "      <td>...</td>\n",
       "      <td>...</td>\n",
       "      <td>...</td>\n",
       "      <td>...</td>\n",
       "      <td>...</td>\n",
       "      <td>...</td>\n",
       "      <td>...</td>\n",
       "      <td>...</td>\n",
       "      <td>...</td>\n",
       "      <td>...</td>\n",
       "      <td>...</td>\n",
       "      <td>...</td>\n",
       "    </tr>\n",
       "    <tr>\n",
       "      <th>2606129</th>\n",
       "      <td>tt9080346</td>\n",
       "      <td>Poets Are the Destroyers</td>\n",
       "      <td>2021.0</td>\n",
       "      <td>0</td>\n",
       "      <td>Drama</td>\n",
       "      <td>nm5138377</td>\n",
       "      <td>Nancy Pop</td>\n",
       "      <td>0</td>\n",
       "      <td>director</td>\n",
       "      <td>10.0</td>\n",
       "      <td>6</td>\n",
       "      <td>&gt;2010</td>\n",
       "    </tr>\n",
       "    <tr>\n",
       "      <th>2606130</th>\n",
       "      <td>tt9080346</td>\n",
       "      <td>Poets Are the Destroyers</td>\n",
       "      <td>2021.0</td>\n",
       "      <td>0</td>\n",
       "      <td>Drama</td>\n",
       "      <td>nm3530768</td>\n",
       "      <td>J.C. Hopkins</td>\n",
       "      <td>0</td>\n",
       "      <td>writer</td>\n",
       "      <td>10.0</td>\n",
       "      <td>6</td>\n",
       "      <td>&gt;2010</td>\n",
       "    </tr>\n",
       "    <tr>\n",
       "      <th>2606131</th>\n",
       "      <td>tt9080346</td>\n",
       "      <td>Poets Are the Destroyers</td>\n",
       "      <td>2021.0</td>\n",
       "      <td>0</td>\n",
       "      <td>Drama</td>\n",
       "      <td>nm9126120</td>\n",
       "      <td>Christopher Reza Tabassi</td>\n",
       "      <td>0</td>\n",
       "      <td>producer</td>\n",
       "      <td>10.0</td>\n",
       "      <td>6</td>\n",
       "      <td>&gt;2010</td>\n",
       "    </tr>\n",
       "    <tr>\n",
       "      <th>2606132</th>\n",
       "      <td>tt9080346</td>\n",
       "      <td>Poets Are the Destroyers</td>\n",
       "      <td>2021.0</td>\n",
       "      <td>0</td>\n",
       "      <td>Drama</td>\n",
       "      <td>nm8279090</td>\n",
       "      <td>Sam T. Wilson</td>\n",
       "      <td>0</td>\n",
       "      <td>cinematographer</td>\n",
       "      <td>10.0</td>\n",
       "      <td>6</td>\n",
       "      <td>&gt;2010</td>\n",
       "    </tr>\n",
       "    <tr>\n",
       "      <th>2606133</th>\n",
       "      <td>tt9080346</td>\n",
       "      <td>Poets Are the Destroyers</td>\n",
       "      <td>2021.0</td>\n",
       "      <td>0</td>\n",
       "      <td>Drama</td>\n",
       "      <td>nm9877320</td>\n",
       "      <td>Daniel Card</td>\n",
       "      <td>0</td>\n",
       "      <td>editor</td>\n",
       "      <td>10.0</td>\n",
       "      <td>6</td>\n",
       "      <td>&gt;2010</td>\n",
       "    </tr>\n",
       "  </tbody>\n",
       "</table>\n",
       "<p>632 rows × 12 columns</p>\n",
       "</div>"
      ],
      "text/plain": [
       "           titre_id                 titre_str  titre_date_sortie titre_duree  \\\n",
       "1402872  tt10449358                   Kaputol             2019.0         120   \n",
       "1402873  tt10449358                   Kaputol             2019.0         120   \n",
       "1402874  tt10449358                   Kaputol             2019.0         120   \n",
       "1402875  tt10449358                   Kaputol             2019.0         120   \n",
       "1402876  tt10449358                   Kaputol             2019.0         120   \n",
       "...             ...                       ...                ...         ...   \n",
       "2606129   tt9080346  Poets Are the Destroyers             2021.0           0   \n",
       "2606130   tt9080346  Poets Are the Destroyers             2021.0           0   \n",
       "2606131   tt9080346  Poets Are the Destroyers             2021.0           0   \n",
       "2606132   tt9080346  Poets Are the Destroyers             2021.0           0   \n",
       "2606133   tt9080346  Poets Are the Destroyers             2021.0           0   \n",
       "\n",
       "        titre_genres  person_id               person_name person_birthdate  \\\n",
       "1402872        Drama  nm2921912                 Popo Diaz                0   \n",
       "1402873        Drama  nm0317737                Cherie Gil             1963   \n",
       "1402874        Drama  nm1368756             Alfred Vargas             1981   \n",
       "1402875        Drama  nm6651713           Ronwaldo Martin                0   \n",
       "1402876        Drama  nm0032629              Angel Aquino             1973   \n",
       "...              ...        ...                       ...              ...   \n",
       "2606129        Drama  nm5138377                 Nancy Pop                0   \n",
       "2606130        Drama  nm3530768              J.C. Hopkins                0   \n",
       "2606131        Drama  nm9126120  Christopher Reza Tabassi                0   \n",
       "2606132        Drama  nm8279090             Sam T. Wilson                0   \n",
       "2606133        Drama  nm9877320               Daniel Card                0   \n",
       "\n",
       "                  person_job  rating_avg  rating_votes   cuts  \n",
       "1402872  production_designer        10.0             7  >2010  \n",
       "1402873              actress        10.0             7  >2010  \n",
       "1402874                actor        10.0             7  >2010  \n",
       "1402875                actor        10.0             7  >2010  \n",
       "1402876              actress        10.0             7  >2010  \n",
       "...                      ...         ...           ...    ...  \n",
       "2606129             director        10.0             6  >2010  \n",
       "2606130               writer        10.0             6  >2010  \n",
       "2606131             producer        10.0             6  >2010  \n",
       "2606132      cinematographer        10.0             6  >2010  \n",
       "2606133               editor        10.0             6  >2010  \n",
       "\n",
       "[632 rows x 12 columns]"
      ]
     },
     "execution_count": 48,
     "metadata": {},
     "output_type": "execute_result"
    }
   ],
   "source": [
    "condi = (\n",
    "    rating[\"rating_avg\"] == 10\n",
    ")\n",
    "\n",
    "best_movies = rating[condi]\n",
    "\n",
    "best_movies"
   ]
  },
  {
   "cell_type": "code",
   "execution_count": 54,
   "metadata": {},
   "outputs": [
    {
     "name": "stdout",
     "output_type": "stream",
     "text": [
      "Average note for >1900, 6.1\n",
      "Average note for >1930, 6.2\n",
      "Average note for >1960, 6.1\n",
      "Average note for >1990, 6.2\n",
      "Average note for >2010, 6.3\n"
     ]
    }
   ],
   "source": [
    "for date in dates[1:]:\n",
    "    condi = (\n",
    "        (rating[\"cuts\"] == date)\n",
    "    )\n",
    "\n",
    "\n",
    "    print(f\"Average note for {date}, {rating['rating_avg'][condi].median()}\")"
   ]
  },
  {
   "cell_type": "code",
   "execution_count": 57,
   "metadata": {},
   "outputs": [
    {
     "data": {
      "text/plain": [
       "0    Documentary\n",
       "Name: titre_genres, dtype: object"
      ]
     },
     "execution_count": 57,
     "metadata": {},
     "output_type": "execute_result"
    }
   ],
   "source": [
    "condi = rating[\"rating_avg\"] > 9\n",
    "\n",
    "rating[\"titre_genres\"][condi].mode()"
   ]
  }
 ],
 "metadata": {
  "kernelspec": {
   "display_name": "Python 3",
   "language": "python",
   "name": "python3"
  },
  "language_info": {
   "codemirror_mode": {
    "name": "ipython",
    "version": 3
   },
   "file_extension": ".py",
   "mimetype": "text/x-python",
   "name": "python",
   "nbconvert_exporter": "python",
   "pygments_lexer": "ipython3",
   "version": "3.12.0"
  }
 },
 "nbformat": 4,
 "nbformat_minor": 2
}
