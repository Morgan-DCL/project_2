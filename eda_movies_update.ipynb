{
 "cells": [
  {
   "cell_type": "markdown",
   "metadata": {},
   "source": [
    "Analyse des données\n",
    "\n",
    "Préparation des données avec pandas\n"
   ]
  },
  {
   "cell_type": "code",
   "execution_count": 1,
   "metadata": {},
   "outputs": [],
   "source": [
    "%load_ext autoreload\n",
    "%autoreload 2\n",
    "%reload_ext autoreload\n",
    "\n",
    "import polars as pl\n",
    "import pandas as pd\n",
    "pd.set_option('display.float_format', lambda x: f'{x :.2f}')\n",
    "from cleaner import DataCleaner\n",
    "import matplotlib.pyplot as plt\n",
    "import numpy as np\n",
    "from datetime import datetime\n",
    "from tools import (\n",
    "    logging,\n",
    "    bins_generator,\n",
    "    import_datasets,\n",
    "    decode_clean\n",
    ")\n",
    "import eda_movies as eda"
   ]
  },
  {
   "cell_type": "code",
   "execution_count": 2,
   "metadata": {},
   "outputs": [
    {
     "name": "stderr",
     "output_type": "stream",
     "text": [
      "2023-10-26 10:45:20 INFO     Pandas loaded ! Importing movies...\n",
      "2023-10-26 10:45:21 INFO     Fixing N values...\n",
      "2023-10-26 10:45:21 INFO     Fixing encoding values...\n",
      "2023-10-26 10:45:21 INFO     Cleaned : 0 rows\n"
     ]
    }
   ],
   "source": [
    "link = \"big_dataframe/movies.csv\"\n",
    "df = eda.eda_movies(link)"
   ]
  },
  {
   "cell_type": "markdown",
   "metadata": {},
   "source": [
    "ADD TMDB\n",
    "AND\n",
    "AKAS"
   ]
  },
  {
   "cell_type": "code",
   "execution_count": 3,
   "metadata": {},
   "outputs": [
    {
     "name": "stderr",
     "output_type": "stream",
     "text": [
      "C:\\Users\\morga\\AppData\\Local\\Temp\\ipykernel_14224\\2701351816.py:2: DtypeWarning: Columns (24) have mixed types. Specify dtype option on import or set low_memory=False.\n",
      "  df_imdb = pd.read_csv(line)\n",
      "2023-10-26 10:45:32 INFO     Cleaned : 0 rows\n",
      "2023-10-26 10:45:32 INFO     Cleaned NaN Value : 108679\n"
     ]
    },
    {
     "data": {
      "text/html": [
       "<div>\n",
       "<style scoped>\n",
       "    .dataframe tbody tr th:only-of-type {\n",
       "        vertical-align: middle;\n",
       "    }\n",
       "\n",
       "    .dataframe tbody tr th {\n",
       "        vertical-align: top;\n",
       "    }\n",
       "\n",
       "    .dataframe thead th {\n",
       "        text-align: right;\n",
       "    }\n",
       "</style>\n",
       "<table border=\"1\" class=\"dataframe\">\n",
       "  <thead>\n",
       "    <tr style=\"text-align: right;\">\n",
       "      <th></th>\n",
       "      <th>titre_id</th>\n",
       "      <th>titre_str</th>\n",
       "      <th>titre_date_sortie</th>\n",
       "      <th>titre_duree</th>\n",
       "      <th>titre_genres</th>\n",
       "      <th>rating_avg</th>\n",
       "      <th>rating_votes</th>\n",
       "      <th>original_language</th>\n",
       "      <th>popularity</th>\n",
       "      <th>production_countries</th>\n",
       "      <th>revenue</th>\n",
       "      <th>spoken_languages</th>\n",
       "      <th>status</th>\n",
       "    </tr>\n",
       "  </thead>\n",
       "  <tbody>\n",
       "    <tr>\n",
       "      <th>0</th>\n",
       "      <td>tt0000009</td>\n",
       "      <td>Miss Jerry</td>\n",
       "      <td>1894</td>\n",
       "      <td>45</td>\n",
       "      <td>Romance</td>\n",
       "      <td>5.30</td>\n",
       "      <td>207</td>\n",
       "      <td>NaN</td>\n",
       "      <td>NaN</td>\n",
       "      <td>NaN</td>\n",
       "      <td>NaN</td>\n",
       "      <td>NaN</td>\n",
       "      <td>NaN</td>\n",
       "    </tr>\n",
       "    <tr>\n",
       "      <th>1</th>\n",
       "      <td>tt0000147</td>\n",
       "      <td>The Corbett-Fitzsimmons Fight</td>\n",
       "      <td>1897</td>\n",
       "      <td>100</td>\n",
       "      <td>Documentary,News,Sport</td>\n",
       "      <td>5.30</td>\n",
       "      <td>483</td>\n",
       "      <td>en</td>\n",
       "      <td>0.96</td>\n",
       "      <td>['US']</td>\n",
       "      <td>0.00</td>\n",
       "      <td>['xx']</td>\n",
       "      <td>Released</td>\n",
       "    </tr>\n",
       "    <tr>\n",
       "      <th>2</th>\n",
       "      <td>tt0000502</td>\n",
       "      <td>Bohemios</td>\n",
       "      <td>1905</td>\n",
       "      <td>100</td>\n",
       "      <td>0</td>\n",
       "      <td>4.10</td>\n",
       "      <td>15</td>\n",
       "      <td>NaN</td>\n",
       "      <td>NaN</td>\n",
       "      <td>NaN</td>\n",
       "      <td>NaN</td>\n",
       "      <td>NaN</td>\n",
       "      <td>NaN</td>\n",
       "    </tr>\n",
       "    <tr>\n",
       "      <th>3</th>\n",
       "      <td>tt0000574</td>\n",
       "      <td>The Story of the Kelly Gang</td>\n",
       "      <td>1906</td>\n",
       "      <td>70</td>\n",
       "      <td>Action,Adventure,Biography</td>\n",
       "      <td>6.00</td>\n",
       "      <td>853</td>\n",
       "      <td>en</td>\n",
       "      <td>1.67</td>\n",
       "      <td>['AU']</td>\n",
       "      <td>0.00</td>\n",
       "      <td>['xx']</td>\n",
       "      <td>Released</td>\n",
       "    </tr>\n",
       "    <tr>\n",
       "      <th>4</th>\n",
       "      <td>tt0000591</td>\n",
       "      <td>The Prodigal Son</td>\n",
       "      <td>1907</td>\n",
       "      <td>90</td>\n",
       "      <td>Drama</td>\n",
       "      <td>5.00</td>\n",
       "      <td>21</td>\n",
       "      <td>fr</td>\n",
       "      <td>0.60</td>\n",
       "      <td>['FR']</td>\n",
       "      <td>0.00</td>\n",
       "      <td>['xx']</td>\n",
       "      <td>Released</td>\n",
       "    </tr>\n",
       "    <tr>\n",
       "      <th>...</th>\n",
       "      <td>...</td>\n",
       "      <td>...</td>\n",
       "      <td>...</td>\n",
       "      <td>...</td>\n",
       "      <td>...</td>\n",
       "      <td>...</td>\n",
       "      <td>...</td>\n",
       "      <td>...</td>\n",
       "      <td>...</td>\n",
       "      <td>...</td>\n",
       "      <td>...</td>\n",
       "      <td>...</td>\n",
       "      <td>...</td>\n",
       "    </tr>\n",
       "    <tr>\n",
       "      <th>294238</th>\n",
       "      <td>tt9916270</td>\n",
       "      <td>Il talento del calabrone</td>\n",
       "      <td>2020</td>\n",
       "      <td>84</td>\n",
       "      <td>Thriller</td>\n",
       "      <td>5.80</td>\n",
       "      <td>1446</td>\n",
       "      <td>it</td>\n",
       "      <td>6.79</td>\n",
       "      <td>['IT']</td>\n",
       "      <td>0.00</td>\n",
       "      <td>['it']</td>\n",
       "      <td>Released</td>\n",
       "    </tr>\n",
       "    <tr>\n",
       "      <th>294239</th>\n",
       "      <td>tt9916362</td>\n",
       "      <td>Coven</td>\n",
       "      <td>2020</td>\n",
       "      <td>92</td>\n",
       "      <td>Drama,History</td>\n",
       "      <td>6.40</td>\n",
       "      <td>5571</td>\n",
       "      <td>eu</td>\n",
       "      <td>8.63</td>\n",
       "      <td>['AR', 'ES', 'FR']</td>\n",
       "      <td>0.00</td>\n",
       "      <td>['eu', 'es']</td>\n",
       "      <td>Released</td>\n",
       "    </tr>\n",
       "    <tr>\n",
       "      <th>294240</th>\n",
       "      <td>tt9916428</td>\n",
       "      <td>The Secret of China</td>\n",
       "      <td>2019</td>\n",
       "      <td>0</td>\n",
       "      <td>Adventure,History,War</td>\n",
       "      <td>3.50</td>\n",
       "      <td>17</td>\n",
       "      <td>NaN</td>\n",
       "      <td>NaN</td>\n",
       "      <td>NaN</td>\n",
       "      <td>NaN</td>\n",
       "      <td>NaN</td>\n",
       "      <td>NaN</td>\n",
       "    </tr>\n",
       "    <tr>\n",
       "      <th>294241</th>\n",
       "      <td>tt9916538</td>\n",
       "      <td>Kuambil Lagi Hatiku</td>\n",
       "      <td>2019</td>\n",
       "      <td>123</td>\n",
       "      <td>Drama</td>\n",
       "      <td>8.60</td>\n",
       "      <td>7</td>\n",
       "      <td>NaN</td>\n",
       "      <td>NaN</td>\n",
       "      <td>NaN</td>\n",
       "      <td>NaN</td>\n",
       "      <td>NaN</td>\n",
       "      <td>NaN</td>\n",
       "    </tr>\n",
       "    <tr>\n",
       "      <th>294242</th>\n",
       "      <td>tt9916730</td>\n",
       "      <td>6 Gunn</td>\n",
       "      <td>2017</td>\n",
       "      <td>116</td>\n",
       "      <td>Drama</td>\n",
       "      <td>7.60</td>\n",
       "      <td>11</td>\n",
       "      <td>NaN</td>\n",
       "      <td>NaN</td>\n",
       "      <td>NaN</td>\n",
       "      <td>NaN</td>\n",
       "      <td>NaN</td>\n",
       "      <td>NaN</td>\n",
       "    </tr>\n",
       "  </tbody>\n",
       "</table>\n",
       "<p>294243 rows × 13 columns</p>\n",
       "</div>"
      ],
      "text/plain": [
       "         titre_id                      titre_str  titre_date_sortie  \\\n",
       "0       tt0000009                     Miss Jerry               1894   \n",
       "1       tt0000147  The Corbett-Fitzsimmons Fight               1897   \n",
       "2       tt0000502                       Bohemios               1905   \n",
       "3       tt0000574    The Story of the Kelly Gang               1906   \n",
       "4       tt0000591               The Prodigal Son               1907   \n",
       "...           ...                            ...                ...   \n",
       "294238  tt9916270       Il talento del calabrone               2020   \n",
       "294239  tt9916362                          Coven               2020   \n",
       "294240  tt9916428            The Secret of China               2019   \n",
       "294241  tt9916538            Kuambil Lagi Hatiku               2019   \n",
       "294242  tt9916730                         6 Gunn               2017   \n",
       "\n",
       "        titre_duree                titre_genres  rating_avg  rating_votes  \\\n",
       "0                45                     Romance        5.30           207   \n",
       "1               100      Documentary,News,Sport        5.30           483   \n",
       "2               100                           0        4.10            15   \n",
       "3                70  Action,Adventure,Biography        6.00           853   \n",
       "4                90                       Drama        5.00            21   \n",
       "...             ...                         ...         ...           ...   \n",
       "294238           84                    Thriller        5.80          1446   \n",
       "294239           92               Drama,History        6.40          5571   \n",
       "294240            0       Adventure,History,War        3.50            17   \n",
       "294241          123                       Drama        8.60             7   \n",
       "294242          116                       Drama        7.60            11   \n",
       "\n",
       "       original_language  popularity production_countries  revenue  \\\n",
       "0                    NaN         NaN                  NaN      NaN   \n",
       "1                     en        0.96               ['US']     0.00   \n",
       "2                    NaN         NaN                  NaN      NaN   \n",
       "3                     en        1.67               ['AU']     0.00   \n",
       "4                     fr        0.60               ['FR']     0.00   \n",
       "...                  ...         ...                  ...      ...   \n",
       "294238                it        6.79               ['IT']     0.00   \n",
       "294239                eu        8.63   ['AR', 'ES', 'FR']     0.00   \n",
       "294240               NaN         NaN                  NaN      NaN   \n",
       "294241               NaN         NaN                  NaN      NaN   \n",
       "294242               NaN         NaN                  NaN      NaN   \n",
       "\n",
       "       spoken_languages    status  \n",
       "0                   NaN       NaN  \n",
       "1                ['xx']  Released  \n",
       "2                   NaN       NaN  \n",
       "3                ['xx']  Released  \n",
       "4                ['xx']  Released  \n",
       "...                 ...       ...  \n",
       "294238           ['it']  Released  \n",
       "294239     ['eu', 'es']  Released  \n",
       "294240              NaN       NaN  \n",
       "294241              NaN       NaN  \n",
       "294242              NaN       NaN  \n",
       "\n",
       "[294243 rows x 13 columns]"
      ]
     },
     "execution_count": 3,
     "metadata": {},
     "output_type": "execute_result"
    }
   ],
   "source": [
    "line = \"tmdb_full.csv\"\n",
    "df_imdb = pd.read_csv(line)\n",
    "\n",
    "#  Je merge les deux bd\n",
    "merged = pd.merge(\n",
    "    df,\n",
    "    df_imdb,\n",
    "    left_on=\"titre_id\",\n",
    "    right_on=\"imdb_id\",\n",
    "    how=\"left\"\n",
    ")\n",
    "logging.info(f\"Cleaned : {len(df) - len(merged)} rows\")\n",
    "\n",
    "# status\n",
    "# popularity\n",
    "# revenue\n",
    "drop = [\n",
    "    \"adult\",\n",
    "    \"backdrop_path\",\n",
    "    \"budget\",\n",
    "    \"genres\",\n",
    "    \"homepage\",\n",
    "    \"id\",\n",
    "    \"imdb_id\",\n",
    "    \"original_title\",\n",
    "    \"overview\",\n",
    "    \"poster_path\",\n",
    "    \"release_date\",\n",
    "    \"runtime\",\n",
    "    \"tagline\",\n",
    "    \"title\",\n",
    "    \"video\",\n",
    "    \"vote_average\",\n",
    "    \"vote_count\",\n",
    "    \"production_companies_name\",\n",
    "    \"production_companies_country\"\n",
    "]\n",
    "#  Je drop les colonnes\n",
    "merged = merged.drop(drop, axis=1)\n",
    "max_ = merged.isna().sum()\n",
    "logging.info(f\"Cleaned NaN Value : {max_.max()}\")\n",
    "\n",
    "# https://fr.wikipedia.org/wiki/D%C3%A9mographie_de_la_Creuse\n",
    "# https://fr.statista.com/statistiques/498200/preference-films-etrangers-vo-vf-france/\n",
    "merged"
   ]
  },
  {
   "cell_type": "code",
   "execution_count": null,
   "metadata": {},
   "outputs": [],
   "source": [
    "merged"
   ]
  },
  {
   "cell_type": "code",
   "execution_count": null,
   "metadata": {},
   "outputs": [],
   "source": [
    "\n",
    "# merged[\"spoken_languages\"] = np.where(merged[\"spoken_languages\"] == \"[]\", np.nan, merged[\"spoken_languages\"])\n",
    "# merged[\"production_countries\"] = np.where(merged[\"production_countries\"] == \"[]\", np.nan, merged[\"production_countries\"])\n",
    "# logging.info(f\"Length dataframe merged with tmdb : {len(merged)}\")\n",
    "# merged = merged.dropna()\n",
    "# logging.info(f\"Length dataframe merged cleaned : {len(merged)}\")\n"
   ]
  },
  {
   "cell_type": "code",
   "execution_count": null,
   "metadata": {},
   "outputs": [],
   "source": [
    "merged"
   ]
  },
  {
   "cell_type": "code",
   "execution_count": null,
   "metadata": {},
   "outputs": [],
   "source": [
    "\n",
    "merged[\"spoken_languages\"] = np.where(merged[\"spoken_languages\"] == \"[]\", np.nan, merged[\"spoken_languages\"])\n",
    "logging.info(f\"Length dataframe merged with tmdb : {len(merged)}\")\n",
    "merged = merged.dropna()\n",
    "logging.info(f\"Length dataframe merged cleaned : {len(merged)}\")\n",
    "\n",
    "\n",
    "merged[\"production_countries\"] = merged[\"production_countries\"].apply(decode_clean).str.split()\n",
    "merged[\"spoken_languages\"] = merged[\"spoken_languages\"].apply(decode_clean).str.split()\n",
    "\n",
    "\n",
    "# Importation Akas !\n",
    "akas = import_datasets(\"movies_datasets/title_akas.tsv\", types=\"pandas\", sep=\"\\t\")\n",
    "condi = (\n",
    "    akas[\"region\"] == 'FR'\n",
    ")\n",
    "\n",
    "akas = akas[condi]\n",
    "region_only = akas[[\"titleId\", \"region\"]]\n",
    "\n",
    "#  Merge de akas avec la base de donnée merged (df movies inclus)\n",
    "logging.info(\"Merging tmdb and akas dataframes...\")\n",
    "added_region = pd.merge(\n",
    "    merged,\n",
    "    region_only,\n",
    "    left_on=\"titre_id\",\n",
    "    right_on=\"titleId\"\n",
    ")\n",
    "df = added_region\n",
    "\n",
    "df.drop_duplicates(subset=[\"titre_id\"], keep=\"first\", inplace=True)\n",
    "\n",
    "# Conserver les films realeased uinqiuement.\n",
    "condi = (\n",
    "    df[\"status\"] == \"Released\"\n",
    ")\n",
    "df = df[condi]"
   ]
  },
  {
   "cell_type": "code",
   "execution_count": null,
   "metadata": {},
   "outputs": [],
   "source": [
    "df = df.copy()"
   ]
  },
  {
   "cell_type": "code",
   "execution_count": null,
   "metadata": {},
   "outputs": [],
   "source": [
    "df = eda.split_columns(df, \"titre_genres\")"
   ]
  },
  {
   "cell_type": "code",
   "execution_count": null,
   "metadata": {},
   "outputs": [],
   "source": [
    "print(f\"Top most viewed genre by movies : {eda.get_top_genres(df)}\")"
   ]
  },
  {
   "cell_type": "code",
   "execution_count": null,
   "metadata": {},
   "outputs": [],
   "source": [
    "df = eda.apply_decade_column(df)"
   ]
  },
  {
   "cell_type": "code",
   "execution_count": null,
   "metadata": {},
   "outputs": [],
   "source": [
    "df = eda.drop_nan_values(df)"
   ]
  },
  {
   "cell_type": "code",
   "execution_count": null,
   "metadata": {},
   "outputs": [],
   "source": [
    "df.isnull().sum()"
   ]
  },
  {
   "cell_type": "code",
   "execution_count": null,
   "metadata": {},
   "outputs": [],
   "source": [
    "df.shape"
   ]
  },
  {
   "cell_type": "code",
   "execution_count": null,
   "metadata": {},
   "outputs": [],
   "source": [
    "eda.show_total_films_decade(df)"
   ]
  },
  {
   "cell_type": "markdown",
   "metadata": {},
   "source": [
    "**A partir d'ici nous pouvons definir notre angle d'attaque**\n",
    "=\n"
   ]
  },
  {
   "cell_type": "markdown",
   "metadata": {},
   "source": [
    "**Delete les films en dessous de 1960**"
   ]
  },
  {
   "cell_type": "code",
   "execution_count": null,
   "metadata": {},
   "outputs": [],
   "source": [
    "condi =(\n",
    "    df[\"titre_date_sortie\"] < 1960\n",
    ")\n",
    "df = df[~condi].reset_index(drop='index')"
   ]
  },
  {
   "cell_type": "code",
   "execution_count": null,
   "metadata": {},
   "outputs": [],
   "source": [
    "condi =(\n",
    "    df[\"rating_avg\"] < 5\n",
    ")\n",
    "df = df[~condi].reset_index(drop='index')"
   ]
  },
  {
   "cell_type": "code",
   "execution_count": null,
   "metadata": {},
   "outputs": [],
   "source": [
    "eda.show_total_films_decade(df)"
   ]
  },
  {
   "cell_type": "code",
   "execution_count": null,
   "metadata": {},
   "outputs": [],
   "source": [
    "plt.figure(figsize=(10, 6))\n",
    "plt.boxplot(\n",
    "    df[\"titre_duree\"],\n",
    "    patch_artist=True\n",
    ")\n",
    "plt.tight_layout()\n",
    "plt.show()"
   ]
  },
  {
   "cell_type": "code",
   "execution_count": null,
   "metadata": {},
   "outputs": [],
   "source": [
    "condi =(\n",
    "    (df[\"titre_duree\"] < 60) | (df[\"titre_duree\"] > 210)\n",
    ")\n",
    "df = df[~condi].reset_index(drop='index')\n",
    "df\n",
    "\n",
    "plt.figure(figsize=(10, 6))\n",
    "plt.boxplot(\n",
    "    df[\"titre_duree\"],\n",
    "    patch_artist=True\n",
    ")\n",
    "plt.tight_layout()\n",
    "plt.show()"
   ]
  },
  {
   "cell_type": "code",
   "execution_count": null,
   "metadata": {},
   "outputs": [],
   "source": [
    "total_genres = df.explode('titre_genres')['titre_genres'].value_counts()\n",
    "\n",
    "plt.figure(figsize=(10, 8))\n",
    "plt.barh(\n",
    "    total_genres.index,\n",
    "    total_genres.values,\n",
    "    color='royalblue',\n",
    "    edgecolor='black'\n",
    ")\n",
    "plt.title('Répartition des genres de films', fontsize=16)\n",
    "plt.xlabel('Nombre de films', fontsize=14)\n",
    "plt.ylabel('Genres', fontsize=14)\n",
    "plt.gca().invert_yaxis()\n",
    "plt.show()"
   ]
  },
  {
   "cell_type": "code",
   "execution_count": null,
   "metadata": {},
   "outputs": [],
   "source": [
    "df[df['titre_str'].str.contains(\"Titanic\")]"
   ]
  },
  {
   "cell_type": "code",
   "execution_count": null,
   "metadata": {},
   "outputs": [],
   "source": [
    "df.shape"
   ]
  },
  {
   "cell_type": "code",
   "execution_count": null,
   "metadata": {},
   "outputs": [],
   "source": [
    "\n",
    "df[\"production_countries\"] = df[\"production_countries\"].apply(decode_clean).str.split()\n",
    "df[\"spoken_languages\"] = df[\"spoken_languages\"].apply(decode_clean).str.split()"
   ]
  },
  {
   "cell_type": "code",
   "execution_count": null,
   "metadata": {},
   "outputs": [],
   "source": [
    "df"
   ]
  },
  {
   "cell_type": "code",
   "execution_count": null,
   "metadata": {},
   "outputs": [],
   "source": []
  },
  {
   "cell_type": "code",
   "execution_count": null,
   "metadata": {},
   "outputs": [],
   "source": [
    "print(len(t))\n",
    "df = t.dropna()\n",
    "\n",
    "df = df[df[\"rating_avg\"] > df[\"rating_avg\"].median()]\n",
    "print(len(df))\n",
    "df"
   ]
  },
  {
   "cell_type": "code",
   "execution_count": null,
   "metadata": {},
   "outputs": [],
   "source": [
    "condi = (\n",
    "    akas[\"region\"] == 'FR'\n",
    ")\n",
    "\n",
    "akas = akas[condi]"
   ]
  },
  {
   "cell_type": "code",
   "execution_count": null,
   "metadata": {},
   "outputs": [],
   "source": [
    "region_only = akas[[\"titleId\", \"region\"]]\n",
    "akas[akas[\"titleId\"] == \"tt18260116\"]"
   ]
  },
  {
   "cell_type": "code",
   "execution_count": null,
   "metadata": {},
   "outputs": [],
   "source": [
    "added_region = pd.merge(\n",
    "    df1,\n",
    "    region_only,\n",
    "    left_on=\"titre_id\",\n",
    "    right_on=\"titleId\"\n",
    ")\n",
    "added_region"
   ]
  },
  {
   "cell_type": "code",
   "execution_count": null,
   "metadata": {},
   "outputs": [],
   "source": [
    "added_region.drop_duplicates(subset=[\"titre_id\"], keep=\"first\", inplace=True)"
   ]
  },
  {
   "cell_type": "code",
   "execution_count": null,
   "metadata": {},
   "outputs": [],
   "source": [
    "added_region[added_region[\"titre_id\"] == \"tt18260116\"]"
   ]
  },
  {
   "cell_type": "code",
   "execution_count": null,
   "metadata": {},
   "outputs": [],
   "source": [
    "condi = (\n",
    "    added_region[\"status\"] == \"Released\"\n",
    ")\n",
    "\n",
    "added_region[condi]"
   ]
  },
  {
   "cell_type": "code",
   "execution_count": null,
   "metadata": {},
   "outputs": [],
   "source": [
    "added_region.head(50)"
   ]
  },
  {
   "cell_type": "code",
   "execution_count": null,
   "metadata": {},
   "outputs": [],
   "source": [
    "# added_region[added_region[\"titre_str\"].str.contains(\"Star W\")]"
   ]
  },
  {
   "cell_type": "code",
   "execution_count": null,
   "metadata": {},
   "outputs": [],
   "source": [
    "\n",
    "# condi = (\n",
    "#     df1[\"original_language\"].isna()\n",
    "# )\n",
    "# p = df1[condi]\n",
    "\n",
    "# p\n",
    "\n",
    "\n",
    "# pp = df1.copy()\n",
    "# pp\n",
    "# genre_mode = pp['titre_genres'].explode()\n",
    "# genre_mode.mode()\n",
    "# # # p.to_csv(\"tttt.csv\", index=False)"
   ]
  },
  {
   "cell_type": "code",
   "execution_count": null,
   "metadata": {},
   "outputs": [],
   "source": [
    "# # On filtre les films qui sont déja sortie au cinéma\n",
    "# year_now = datetime.now().year\n",
    "\n",
    "# condi = (\n",
    "#     (df[\"person_job\"].str.contains(\"act\")) &\n",
    "#     (df[\"titre_date_sortie\"] <= year_now)\n",
    "# )\n",
    "# df = df[condi]\n",
    "# actor = df.copy()\n",
    "\n",
    "# \"\"\"\n",
    "# La moyenne d'age des acteurs a la date de sortie du film.\n",
    "# Nous calculons la mediane sur cette base.\n",
    "\n",
    "# other KPI, calcul la moyenne des ages en fonction de l'année\n",
    "\n",
    "# \"\"\"\n",
    "# # ajouter colonne age pour les personnes\n",
    "# actor[\"person_age\"] = np.where(\n",
    "#     (actor[\"person_birthdate\"] > 1800) &\n",
    "#     (actor[\"titre_date_sortie\"] > 1800) &\n",
    "#     (actor[\"titre_date_sortie\"] - actor[\"person_birthdate\"] >= 0),\n",
    "#     (actor[\"titre_date_sortie\"] - actor[\"person_birthdate\"]),\n",
    "#     0\n",
    "# )\n",
    "# actor.tail()"
   ]
  },
  {
   "cell_type": "code",
   "execution_count": null,
   "metadata": {},
   "outputs": [],
   "source": [
    "# df.info()"
   ]
  },
  {
   "cell_type": "code",
   "execution_count": null,
   "metadata": {},
   "outputs": [],
   "source": [
    "# \"\"\"\n",
    "# imagine un fonction, qui prendrais en argument une liste de date de\n",
    "# titre de sortie et retourne la moyenne d'age de ces années des acteurs.\n",
    "\n",
    "# # Quels sont les acteurs les plus présents ?\n",
    "# # À quelle période ?\n",
    "# La durée moyenne des films s'allonge ou se raccourcit avec les années ?\n",
    "# Les acteurs de série sont-ils les mêmes qu'au cinéma ?\n",
    "# # Les acteurs ont en moyenne quel âge ?\n",
    "# Quels sont les films les mieux notés ?\n",
    "# Partagent-ils des caractéristiques communes ? etc...\n",
    "\n",
    "# \"\"\"\n",
    "\n",
    "# bins, names = bins_generator(actor[\"titre_date_sortie\"].max())\n",
    "\n",
    "# actor[\"cuts\"] = pd.cut(\n",
    "#     actor[\"titre_date_sortie\"],\n",
    "#     bins=bins,\n",
    "#     labels=names\n",
    "# )\n",
    "\n",
    "# actor_median = []\n",
    "# for date in names[1:]:\n",
    "#     condi = (\n",
    "#         (actor[\"person_age\"] != 0) &\n",
    "#         (actor[\"cuts\"] == date)\n",
    "#     )\n",
    "#     # print(f\"Mediane for person_age {date} :\", actor[\"person_age\"][condi].median())\n",
    "#     actor_median.append(actor[\"person_age\"][condi].median())\n",
    "\n",
    "# plt.figure(figsize=(10,6))\n",
    "# plt.bar(names[1:], actor_median, color=\"royalblue\")\n",
    "# plt.xlabel(\"Années des film\")\n",
    "# plt.ylabel(\"Mediane\")\n",
    "# plt.title(\"Mediane acteur vs année\")\n",
    "# plt.xticks(rotation=45)\n",
    "# plt.tight_layout()"
   ]
  },
  {
   "cell_type": "code",
   "execution_count": null,
   "metadata": {},
   "outputs": [],
   "source": [
    "# # Top 5 des acteurs all time !\n",
    "# print(actor[\"person_name\"].value_counts().head(5))\n",
    "# # Bottom 5 des acteurs all time !\n",
    "# print(actor[\"person_name\"].value_counts().tail(5))"
   ]
  },
  {
   "cell_type": "code",
   "execution_count": null,
   "metadata": {},
   "outputs": [],
   "source": [
    "# # Top 5 actors by years\n",
    "# for date in names[1:]:\n",
    "#     top5 = actor['person_name'][condi].value_counts().head(5)\n",
    "#     condi = (\n",
    "#         (actor[\"cuts\"] == date)\n",
    "#     )\n",
    "#     top5_str = '\\n'.join(str(top5).split('\\n')[:-1])\n",
    "\n",
    "#     print(f\"Top 5 actors by movies for {date}\\n{'-'*20}\\n{top5_str}\")\n",
    "#     print(\"-\"*20)\n"
   ]
  },
  {
   "cell_type": "code",
   "execution_count": null,
   "metadata": {},
   "outputs": [],
   "source": [
    "# #  World record of the longest documentary\n",
    "# # source :https://fr.wikipedia.org/wiki/Ambianc%C3%A9\n",
    "# longest = actor[actor[\"titre_duree\"] == 43200]\n",
    "# n = longest[[\"titre_str\", \"titre_duree\"]].iloc[0]\n",
    "# heure = n[\"titre_duree\"] // 60\n",
    "# jours = heure // 24\n",
    "# print(f\"Le film le plus long est {n['titre_str']} d'une durée de {heure} heures soit {jours} jours\")\n",
    "# # All time median for duration\n",
    "# print(f\"All time duration median : {round(actor['titre_duree'].median())} minutes\")"
   ]
  },
  {
   "cell_type": "code",
   "execution_count": null,
   "metadata": {},
   "outputs": [],
   "source": [
    "# # Median duration for movies between years.\n",
    "# nodup = actor[~actor[\"titre_str\"].duplicated(keep=\"first\")]\n",
    "\n",
    "# for date in names[1:]:\n",
    "#     condi = (\n",
    "#         (nodup[\"cuts\"] == date)\n",
    "#     )\n",
    "#     med = round(nodup[\"titre_duree\"][condi].median())\n",
    "#     print(f\"Median durations for movies {date}\\nMedian for this years is {med} minutes\")\n",
    "#     print(\"-\"*20)"
   ]
  },
  {
   "cell_type": "code",
   "execution_count": null,
   "metadata": {},
   "outputs": [],
   "source": [
    "# print(len(yy[yy[\"titre_date_sortie\"].isna()]))\n",
    "# yy[\"titre_date_sortie\"].fillna(1678, inplace=True)\n",
    "# yy[\"person_birthdate\"] = yy[\"person_birthdate\"].astype(int).replace(0, 1678)\n",
    "# condi = (\n",
    "#     yy[\"person_birthdate\"] < 1678\n",
    "# )\n",
    "\n",
    "# yy.loc[condi, \"person_birthdate\"] = 1678\n",
    "# datime_col = [\"titre_date_sortie\", \"person_birthdate\"]\n",
    "# for time in datime_col:\n",
    "#     yy[time] = pd.to_datetime(yy[time], format=\"%Y\")\n",
    "# yy[\"titre_date_sortie\"] = yy[\"titre_date_sortie\"].dt.year"
   ]
  }
 ],
 "metadata": {
  "kernelspec": {
   "display_name": "Python 3",
   "language": "python",
   "name": "python3"
  },
  "language_info": {
   "codemirror_mode": {
    "name": "ipython",
    "version": 3
   },
   "file_extension": ".py",
   "mimetype": "text/x-python",
   "name": "python",
   "nbconvert_exporter": "python",
   "pygments_lexer": "ipython3",
   "version": "3.10.11"
  }
 },
 "nbformat": 4,
 "nbformat_minor": 2
}
