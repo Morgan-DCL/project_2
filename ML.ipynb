{
 "cells": [
  {
   "cell_type": "code",
   "execution_count": 1,
   "metadata": {},
   "outputs": [
    {
     "name": "stderr",
     "output_type": "stream",
     "text": [
      "[nltk_data] Downloading package stopwords to\n",
      "[nltk_data]     C:\\Users\\morga\\AppData\\Roaming\\nltk_data...\n",
      "[nltk_data]   Package stopwords is already up-to-date!\n",
      "[nltk_data] Downloading package wordnet to\n",
      "[nltk_data]     C:\\Users\\morga\\AppData\\Roaming\\nltk_data...\n",
      "[nltk_data]   Package wordnet is already up-to-date!\n"
     ]
    }
   ],
   "source": [
    "import pandas as pd\n",
    "import numpy as np\n",
    "import hjson\n",
    "\n",
    "import nltk\n",
    "from nltk.corpus import stopwords\n",
    "from nltk.stem import WordNetLemmatizer\n",
    "import matplotlib.pyplot as plt\n",
    "import re\n",
    "\n",
    "nltk.download('stopwords')\n",
    "nltk.download('wordnet')\n",
    "\n",
    "from sklearn.feature_extraction.text import TfidfVectorizer\n",
    "from sklearn.metrics.pairwise import linear_kernel\n",
    "from sklearn.metrics.pairwise import cosine_similarity\n",
    "from sklearn.ensemble import RandomForestClassifier\n",
    "from get_dataframes import GetDataframes\n",
    "from tools import import_config, import_datasets\n",
    "from scipy.sparse import hstack\n",
    "\n",
    "pd.set_option('display.max_columns', None)"
   ]
  },
  {
   "cell_type": "code",
   "execution_count": 2,
   "metadata": {},
   "outputs": [
    {
     "name": "stderr",
     "output_type": "stream",
     "text": [
      "2023-11-10 18:21:48 INFO     Creating machine_learning dataframe...\n",
      "2023-11-10 18:21:48 INFO     Parquet loaded ! Importing tmdb_updated...\n",
      "2023-11-10 18:21:49 INFO     Parquet loaded ! Importing actors_movies...\n",
      "2023-11-10 18:21:49 INFO     Parquet loaded ! Importing directors_movies...\n",
      "2023-11-10 18:21:49 INFO     Parquet loaded ! Importing movies_cleaned...\n",
      "2023-11-10 18:21:49 INFO     Creating machine_learning dataframe...\n",
      "2023-11-10 18:21:49 INFO     Merging machine_learning dataframe...\n",
      "2023-11-10 18:21:49 INFO     Droping NaN machine_learning dataframe...\n",
      "2023-11-10 18:21:49 INFO     Process Overview...\n",
      "2023-11-10 18:23:33 INFO     Writing machine_learning dataframe...\n",
      "2023-11-10 18:23:33 INFO     Dataframe machine_learning ready to use!\n"
     ]
    }
   ],
   "source": [
    "config = import_config()\n",
    "datas = GetDataframes(config)\n",
    "df = datas.get_machine_learning_dataframe(\n",
    "    \"machine_learning\",\n",
    "    # modify=True\n",
    ")"
   ]
  },
  {
   "cell_type": "code",
   "execution_count": 3,
   "metadata": {},
   "outputs": [],
   "source": [
    "def full_lower(\n",
    "    text: str\n",
    "):\n",
    "    return text.replace(\" \", \"\").replace(\"-\", \"\")\n",
    "\n",
    "tt = (\n",
    "    # (\"titre_genres\", \"titre_genres\"),\n",
    "    (\"actors\", \"actors\"),\n",
    "    (\"titre_genres\", \"titre_genres\"),\n",
    "    (\"directors\", \"directors\"),\n",
    ")\n",
    "for t in tt:\n",
    "    df[t[0]] = df[t[1]].apply(full_lower)\n",
    "\n",
    "\n",
    "# df[\"overview\"] = df[\"overview\"].apply(lambda x : x.replace(\" \", \",\"))\n"
   ]
  },
  {
   "cell_type": "code",
   "execution_count": 5,
   "metadata": {},
   "outputs": [
    {
     "name": "stdout",
     "output_type": "stream",
     "text": [
      "|      |   index | titre_id   | titre_str    | titre_genres   |   rating_avg |   rating_votes | actors                                                    | directors   | overview                                                                                                                                                                                                                |\n",
      "|-----:|--------:|:-----------|:-------------|:---------------|-------------:|---------------:|:----------------------------------------------------------|:------------|:------------------------------------------------------------------------------------------------------------------------------------------------------------------------------------------------------------------------|\n",
      "| 4330 |    4330 | tt0848228  | The Avengers | Action,SciFi   |            8 |        1437952 | RobertDowneyJr.,ScarlettJohansson,ChrisEvans,JeremyRenner | JossWhedon  | unexpected enemy emerges threatens global safety security nick fury director international peacekeeping agency known h e l find need team pull world back brink disaster spanning globe daring recruitment effort begin |\n"
     ]
    }
   ],
   "source": [
    "print(df[df[\"titre_str\"].str.contains(\"The Avengers\")].to_markdown())"
   ]
  },
  {
   "cell_type": "code",
   "execution_count": 6,
   "metadata": {},
   "outputs": [
    {
     "name": "stdout",
     "output_type": "stream",
     "text": [
      "|      |   index | titre_id   | titre_str   | titre_genres   |   rating_avg |   rating_votes | actors                                             | directors      | overview                                           |\n",
      "|-----:|--------:|:-----------|:------------|:---------------|-------------:|---------------:|:---------------------------------------------------|:---------------|:---------------------------------------------------|\n",
      "| 6147 |    6148 | tt2395417  | Still Life  | Drama          |          7.4 |           8708 | KarenDrury,EddieMarsan,JoanneFroggatt,AndrewBuchan | UbertoPasolini | council case worker look relative found dead alone |\n"
     ]
    }
   ],
   "source": [
    "print(df[df[\"titre_id\"].str.contains(\"tt2395417\")].to_markdown())\n"
   ]
  },
  {
   "cell_type": "code",
   "execution_count": 8,
   "metadata": {},
   "outputs": [],
   "source": [
    "def combine(r):\n",
    "    return r[\"titre_genres\"]+\" \"+r[\"directors\"]+\" \"+r[\"overview\"]+\" \"+r[\"actors\"] #r[\"titre_str\"]+\" \"+\n",
    "\n",
    "df[\"one_for_all\"] = df.apply(combine, axis=1)"
   ]
  },
  {
   "cell_type": "code",
   "execution_count": 10,
   "metadata": {},
   "outputs": [],
   "source": [
    "def titre_index(titre: str):\n",
    "    return df[df.titre_str == titre].index[0]\n",
    "\n",
    "def director_index(director: str):\n",
    "    return df[df.directors.str.contains(director)].index[0]\n",
    "\n",
    "def actor_index(actor: str):\n",
    "    return df[df.actors.str.contains(actor)].index[0]\n",
    "\n",
    "def idx_titre(idx: int):\n",
    "    return df[df.index == idx][\"titre_str\"].values[0]\n",
    "\n",
    "def idx_actor(idx: int):\n",
    "    return df[df.index == idx][\"actors\"].values[0]\n",
    "\n",
    "def idx_titre_id(idx: int):\n",
    "    return df[df.index == idx][\"titre_id\"].values[0]"
   ]
  },
  {
   "cell_type": "code",
   "execution_count": 11,
   "metadata": {},
   "outputs": [
    {
     "name": "stdout",
     "output_type": "stream",
     "text": [
      "Top 10 similar movies to The Avengers are :\n",
      "\n",
      "Movie : Avengers: Age of Ultron | id : tt2395427 | score : 1.0\n",
      "Movie : Serenity | id : tt0379786 | score : 0.5193\n",
      "Movie : Captain America: Civil War | id : tt3498820 | score : 0.3935\n",
      "Movie : Snowpiercer | id : tt1706620 | score : 0.3811\n",
      "Movie : Captain America: The Winter Soldier | id : tt1843866 | score : 0.3373\n"
     ]
    }
   ],
   "source": [
    "# tidf = TfidfVectorizer()\n",
    "# combined_matrix = tidf.fit_transform(\n",
    "#     df[\"titre_str\"]+\" \"+df[\"actors\"]+\" \"+df[\"titre_genres\"]+\" \"+df[\"directors\"]+\" \"+df[\"overview\"]\n",
    "# )\n",
    "# tidf = TfidfVectorizer()\n",
    "# combined_matrix = tidf.fit_transform(\n",
    "#     df[\"one_for_all\"]+\" \"+df[\"titre_str\"]\n",
    "# )\n",
    "top = 5\n",
    "\n",
    "poids_ = {\n",
    "    # \"titre_str\":    2,\n",
    "    \"titre_genres\": 2,\n",
    "    \"actors\":       1.5,\n",
    "    \"directors\":    1.5,\n",
    "    \"overview\":     2.5,\n",
    "    # \"rating_avg\":   0.2,\n",
    "    # \"rating_votes\": 0.2,\n",
    "}\n",
    "\n",
    "full_matrix = []\n",
    "for col, poids in poids_.items():\n",
    "    tfidf_ = TfidfVectorizer()\n",
    "    matrix_ = tfidf_.fit_transform(df[col]) * poids\n",
    "    full_matrix.append(matrix_)\n",
    "\n",
    "combined_matrix = hstack(full_matrix)\n",
    "\n",
    "cosine = cosine_similarity(combined_matrix)\n",
    "\n",
    "movies = \"The Avengers\"\n",
    "mov_idx = titre_index(movies)\n",
    "\n",
    "similar = cosine[mov_idx]\n",
    "similar1 = list(enumerate(cosine[mov_idx]))\n",
    "\n",
    "sim_scores = sorted(similar1, key=lambda x: x[1], reverse=True)\n",
    "sim_mov_idx = similar.argsort()[::-1][1:top+1]\n",
    "\n",
    "same_movies = df.loc[sim_mov_idx, \"titre_str\"]\n",
    "ttconst = df.loc[sim_mov_idx, \"titre_id\"]\n",
    "\n",
    "sim_scores[1:top+1]\n",
    "score = [i[1] for i in sim_scores]\n",
    "\n",
    "print(f\"Top 10 similar movies to {movies} are :\\n\")\n",
    "for movies, tt,  score in zip(same_movies, ttconst, score):\n",
    "    print(f\"Movie : {movies} | id : {tt} | score : {np.round(score, 4)}\")\n"
   ]
  },
  {
   "cell_type": "code",
   "execution_count": 16,
   "metadata": {},
   "outputs": [
    {
     "name": "stdout",
     "output_type": "stream",
     "text": [
      "Top 10 similar movies to Fight Club are :\n",
      "\n",
      "Movie : Breakfast at Tiffany's | id : tt0054698 | score : 0.8499\n",
      "Movie : The Naked Kiss | id : tt0058390 | score : 0.853\n",
      "Movie : Kafka | id : tt0102181 | score : 0.8561\n",
      "Movie : After Lucia | id : tt2368749 | score : 0.8629\n",
      "Movie : Project Almanac | id : tt2436386 | score : 0.8629\n",
      "Movie : Racing with the Moon | id : tt0087968 | score : 0.8645\n",
      "Movie : First Reformed | id : tt6053438 | score : 0.8685\n",
      "Movie : Never Back Down | id : tt1023111 | score : 0.8744\n",
      "Movie : Blazing Saddles | id : tt0071230 | score : 0.8757\n",
      "Movie : Coming to America | id : tt0094898 | score : 0.8757\n",
      "Movie : The Angels' Share | id : tt1924394 | score : 0.8779\n",
      "Movie : The Curious Case of Benjamin Button | id : tt0421715 | score : 0.8794\n",
      "Movie : Mermaids | id : tt0100140 | score : 0.8795\n",
      "Movie : Vikram Vedha | id : tt6148156 | score : 0.8799\n"
     ]
    }
   ],
   "source": [
    "from sklearn.neighbors import NearestNeighbors\n",
    "from sklearn.feature_extraction.text import CountVectorizer\n",
    "\n",
    "movies = \"Fight Club\"\n",
    "\n",
    "cv = CountVectorizer()\n",
    "count_matrix = cv.fit_transform(df['one_for_all'])\n",
    "movie_user_likes = movies\n",
    "movie_index = titre_index(movie_user_likes)\n",
    "\n",
    "knn_model = NearestNeighbors(metric='cosine', algorithm='brute')\n",
    "knn_model.fit(count_matrix)\n",
    "dist, indices = knn_model.kneighbors(count_matrix[movie_index], n_neighbors=15)\n",
    "\n",
    "print(f\"Top 10 similar movies to {movie_user_likes} are :\\n\")\n",
    "for index, dis in zip(indices.flatten()[1:], dist.flatten()[1:]):\n",
    "    print(f\"Movie : {idx_titre(index)} | id : {idx_titre_id(index)} | score : {np.round(dis, 4)}\")\n"
   ]
  },
  {
   "cell_type": "code",
   "execution_count": 13,
   "metadata": {},
   "outputs": [],
   "source": [
    "\n",
    "# random_model = RandomForestClassifier().fit(combined_matrix, df[\"titre_genres\"])\n",
    "# for idx, movies in zip(sim_mov_idx, same_movies):\n",
    "#     mo = combined_matrix[idx].toarray()\n",
    "#     prediction = random_model.predict(mo)[0]\n",
    "#     confidence = np.max(random_model.predict_proba(mo))\n",
    "\n",
    "#     print(\"movie :\", movies)\n",
    "#     print(\"confidence :\", confidence)"
   ]
  },
  {
   "cell_type": "code",
   "execution_count": 14,
   "metadata": {},
   "outputs": [],
   "source": [
    "# Movie : Avengers: Age of Ultron | id : tt2395427 | score : 1.0\n",
    "# Movie : The Gray Man | id : tt1649418 | score : 0.2522\n",
    "# Movie : Avengers: Endgame | id : tt4154796 | score : 0.1226\n",
    "# Movie : Snowpiercer | id : tt1706620 | score : 0.1209\n",
    "# Movie : Kingsman: The Secret Service | id : tt2802144 | score : 0.1117\n",
    "# print(f\"Top 10 similar movies to {movie_user_likes} are :\\n\")\n",
    "#"
   ]
  },
  {
   "cell_type": "code",
   "execution_count": 15,
   "metadata": {},
   "outputs": [],
   "source": [
    "# poids_ = {\n",
    "#     \"titre_str\": 0.1,\n",
    "#     \"titre_genres\": 0.1,\n",
    "#     \"directors\": 0.2,\n",
    "#     \"overview\": 0.2,\n",
    "#     \"actor_1\": 0.15,\n",
    "#     \"actor_2\": 0.1,\n",
    "    # \"actor_3\": 0.025,\n",
    "#     \"actor_4\": 0.025,\n",
    "# }\n",
    "\n",
    "# full_matrix = []\n",
    "# for col, poids in poids_.items():\n",
    "#     tfidf_ = TfidfVectorizer()\n",
    "#     matrix_ = tfidf_.fit_transform(df[col]) * poids\n",
    "#     full_matrix.append(matrix_)\n",
    "\n",
    "# combined_matrix = hstack(full_matrix)\n",
    "\n",
    "# cosine = cosine_similarity(combined_matrix)\n",
    "\n",
    "# movies = movie\n",
    "# mov_idx = title_index(movies)\n",
    "# similar = cosine[mov_idx]\n",
    "# similar1 = list(enumerate(cosine[mov_idx]))\n",
    "# sim_scores = sorted(similar1, key=lambda x: x[1], reverse=True)\n",
    "\n",
    "# sim_mov_idx = similar.argsort()[::-1][1:11]\n",
    "# same_movies = df.loc[sim_mov_idx, \"titre_str\"]\n",
    "# sim_scores[1:11]\n",
    "# score = [i[1] for i in sim_scores]\n",
    "# for movies, score in zip(same_movies, score):\n",
    "#     print(movies, score)\n",
    "\n",
    "\n",
    "# # random_model = RandomForestClassifier().fit(matrix, df[\"titre_genres\"])\n",
    "# # for idx, movies in zip(sim_mov_idx, same_movies):\n",
    "# #     mo = matrix[idx].toarray()\n",
    "# #     prediction = random_model.predict(mo)[0]\n",
    "# #     confidence = np.max(random_model.predict_proba(mo))\n",
    "\n",
    "# #     print(\"movie :\", movies)\n",
    "# #     print(\"confidence :\", confidence)"
   ]
  }
 ],
 "metadata": {
  "kernelspec": {
   "display_name": "Python 3",
   "language": "python",
   "name": "python3"
  },
  "language_info": {
   "codemirror_mode": {
    "name": "ipython",
    "version": 3
   },
   "file_extension": ".py",
   "mimetype": "text/x-python",
   "name": "python",
   "nbconvert_exporter": "python",
   "pygments_lexer": "ipython3",
   "version": "3.10.11"
  }
 },
 "nbformat": 4,
 "nbformat_minor": 2
}
