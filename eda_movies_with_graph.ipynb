{
 "cells": [
  {
   "cell_type": "markdown",
   "metadata": {},
   "source": [
    "Analyse des données\n",
    "\n",
    "Préparation des données avec pandas\n"
   ]
  },
  {
   "cell_type": "code",
   "execution_count": null,
   "metadata": {},
   "outputs": [],
   "source": [
    "%load_ext autoreload\n",
    "%autoreload 2\n",
    "%reload_ext autoreload\n",
    "\n",
    "import plotly.express as px\n",
    "import polars as pl\n",
    "import pandas as pd\n",
    "pd.set_option('display.float_format', lambda x: f'{x :.2f}')\n",
    "from cleaner import DataCleaner\n",
    "import matplotlib.pyplot as plt\n",
    "import numpy as np\n",
    "from datetime import datetime\n",
    "from tools import (\n",
    "    logging,\n",
    "    bins_generator,\n",
    "    import_datasets,\n",
    "    decode_clean,\n",
    "\n",
    ")\n",
    "import eda_movies as eda"
   ]
  },
  {
   "cell_type": "code",
   "execution_count": null,
   "metadata": {},
   "outputs": [],
   "source": [
    "link = \"clean_datasets/movies_cleaned.parquet\"\n",
    "df = pd.read_parquet(link)\n",
    "df"
   ]
  },
  {
   "cell_type": "code",
   "execution_count": null,
   "metadata": {},
   "outputs": [],
   "source": [
    "link = \"big_dataframe/movies.parquet\"\n",
    "df = eda.eda_movies(link)"
   ]
  },
  {
   "cell_type": "markdown",
   "metadata": {},
   "source": [
    "ADD TMDB\n",
    "AND\n",
    "AKAS"
   ]
  },
  {
   "cell_type": "code",
   "execution_count": null,
   "metadata": {},
   "outputs": [],
   "source": [
    "\n",
    "line = \"movies_datasets/tmdb_full.csv\"\n",
    "df_imdb = pd.read_csv(line)\n",
    "\n",
    "#  Je merge les deux bd\n",
    "merged = pd.merge(\n",
    "    df,\n",
    "    df_imdb,\n",
    "    left_on=\"titre_id\",\n",
    "    right_on=\"imdb_id\",\n",
    "    how=\"left\"\n",
    ")\n",
    "logging.info(f\"Cleaned : {len(df) - len(merged)} rows\")\n",
    "\n",
    "#  Je drop les colonnes\n",
    "merged = merged.drop(eda.columns_to_drop_tmdb(), axis=1)\n",
    "max_ = merged.isna().sum()\n",
    "logging.info(f\"Cleaned NaN Value : {max_.max()}\")\n",
    "\n",
    "merged = merged.dropna()\n",
    "logging.info(f\"Length dataframe merged with tmdb : {len(merged)}\")\n",
    "\n",
    "\n",
    "col_list = [\"spoken_languages\", \"production_countries\"]\n",
    "merged = eda.clean_square_brackets(\n",
    "    merged,\n",
    "    col_list\n",
    ")\n",
    "merged = merged.dropna()\n",
    "logging.info(f\"Length dataframe merged cleaned : {len(merged)}\")\n",
    "\n",
    "merged = eda.apply_decode_and_split(\n",
    "    merged,\n",
    "    col_list,\n",
    "    decode_clean\n",
    ")\n",
    "\n",
    "# Importation Akas !\n",
    "akas = import_datasets(\n",
    "    \"movies_datasets/title_akas.tsv\",\n",
    "    types=\"pandas\",\n",
    "    sep=\"\\t\"\n",
    ")\n",
    "\n",
    "# https://fr.wikipedia.org/wiki/D%C3%A9mographie_de_la_Creuse\n",
    "# https://fr.statista.com/statistiques/498200/preference-films-etrangers-vo-vf-france/\n",
    "\n",
    "akas = akas[akas[\"region\"] == 'FR']\n",
    "region_only = akas[[\"titleId\", \"region\"]]\n",
    "\n",
    "#  Merge de akas avec la base de donnée merged (df movies inclus)\n",
    "logging.info(\"Merging tmdb and akas dataframes...\")\n",
    "added_region = pd.merge(\n",
    "    merged,\n",
    "    region_only,\n",
    "    left_on=\"titre_id\",\n",
    "    right_on=\"titleId\"\n",
    ")\n",
    "df = added_region\n",
    "\n",
    "logging.info(\"Drop all duplicated movies...\")\n",
    "df.drop_duplicates(subset=[\"titre_id\"], keep=\"first\", inplace=True)\n",
    "\n",
    "# Conserver les films realeased uinqiuement.\n",
    "condi = (\n",
    "    df[\"status\"] == \"Released\"\n",
    ")\n",
    "df = df[condi]"
   ]
  },
  {
   "cell_type": "code",
   "execution_count": null,
   "metadata": {},
   "outputs": [],
   "source": [
    "df = df.copy()\n",
    "df = eda.split_columns(df, \"titre_genres\")\n",
    "# logging.info(f\"Top most viewed genre by movies : {eda.get_top_genres(df)}\")\n",
    "df = eda.apply_decade_column(df)\n",
    "df = eda.drop_nan_values(df)"
   ]
  },
  {
   "cell_type": "code",
   "execution_count": null,
   "metadata": {},
   "outputs": [],
   "source": [
    "eda.show_total_films_decade(df)"
   ]
  },
  {
   "cell_type": "markdown",
   "metadata": {},
   "source": [
    "**A partir d'ici nous pouvons definir notre angle d'attaque**\n",
    "=\n"
   ]
  },
  {
   "cell_type": "markdown",
   "metadata": {},
   "source": [
    "**Delete les films en dessous de 1960**"
   ]
  },
  {
   "cell_type": "code",
   "execution_count": null,
   "metadata": {},
   "outputs": [],
   "source": [
    "condi =(\n",
    "    (df[\"titre_date_sortie\"] >= 1960) &\n",
    "    (df[\"rating_avg\"] >= 5)\n",
    ")\n",
    "df = df[condi].reset_index(drop='index')"
   ]
  },
  {
   "cell_type": "code",
   "execution_count": null,
   "metadata": {},
   "outputs": [],
   "source": [
    "eda.show_total_films_decade(df)"
   ]
  },
  {
   "cell_type": "code",
   "execution_count": null,
   "metadata": {},
   "outputs": [],
   "source": [
    "plt.figure(figsize=(10, 6))\n",
    "plt.boxplot(\n",
    "    df[\"titre_duree\"],\n",
    "    patch_artist=True\n",
    ")\n",
    "plt.title(\"Durée des films en minutes\")\n",
    "plt.tight_layout()\n",
    "plt.show()"
   ]
  },
  {
   "cell_type": "code",
   "execution_count": null,
   "metadata": {},
   "outputs": [],
   "source": [
    "condi =(\n",
    "    (df[\"titre_duree\"] < 60) | (df[\"titre_duree\"] > 210)\n",
    ")\n",
    "df = df[~condi].reset_index(drop='index')\n",
    "df\n",
    "\n",
    "plt.figure(figsize=(10, 6))\n",
    "plt.boxplot(\n",
    "    df[\"titre_duree\"],\n",
    "    patch_artist=True\n",
    ")\n",
    "plt.ylabel(\"Durée\")\n",
    "plt.title(\"Durée des films en minutes\")\n",
    "plt.tight_layout()\n",
    "plt.show()"
   ]
  },
  {
   "cell_type": "code",
   "execution_count": null,
   "metadata": {},
   "outputs": [],
   "source": [
    "total_genres = df.explode('titre_genres')['titre_genres'].value_counts()\n",
    "\n",
    "plt.figure(figsize=(10, 8))\n",
    "plt.barh(\n",
    "    total_genres.index,\n",
    "    total_genres.values,\n",
    "    color='royalblue',\n",
    "    edgecolor='black'\n",
    ")\n",
    "plt.title('Répartition des genres de films', fontsize=16)\n",
    "plt.xlabel('Nombre de films', fontsize=14)\n",
    "plt.ylabel('Genres', fontsize=14)\n",
    "plt.gca().invert_yaxis()\n",
    "plt.show()"
   ]
  },
  {
   "cell_type": "code",
   "execution_count": null,
   "metadata": {},
   "outputs": [],
   "source": [
    "total = df.explode('production_countries')['production_countries'].value_counts()[:10]\n",
    "\n",
    "plt.figure(figsize=(16, 8))\n",
    "plt.barh(\n",
    "    total.index,\n",
    "    total.values,\n",
    "    color='royalblue',\n",
    "    edgecolor='black'\n",
    ")\n",
    "plt.title('Nombre de films par Pays', fontsize=16)\n",
    "plt.xlabel('Nombre de films', fontsize=14)\n",
    "plt.ylabel('Pays', fontsize=14)\n",
    "plt.gca().invert_yaxis()\n",
    "plt.show()"
   ]
  },
  {
   "cell_type": "code",
   "execution_count": null,
   "metadata": {},
   "outputs": [],
   "source": [
    "boxplotdf = df\n",
    "\n",
    "boxplotdf[\"cuts\"] = boxplotdf[\"cuts\"].astype(str)\n",
    "boxplotdf.sort_values(\"cuts\", inplace=True)\n",
    "\n",
    "fig = px.box(\n",
    "    data_frame = boxplotdf,\n",
    "    y = \"titre_duree\",\n",
    "    color = \"cuts\"\n",
    ")\n",
    "\n",
    "fig.show()"
   ]
  },
  {
   "cell_type": "code",
   "execution_count": null,
   "metadata": {},
   "outputs": [],
   "source": [
    "df.to_parquet(\"clean_datasets/movies_cleaned.parquet\")"
   ]
  },
  {
   "cell_type": "code",
   "execution_count": null,
   "metadata": {},
   "outputs": [],
   "source": [
    "df.shape"
   ]
  },
  {
   "cell_type": "code",
   "execution_count": null,
   "metadata": {},
   "outputs": [],
   "source": [
    "# # On filtre les films qui sont déja sortie au cinéma\n",
    "# year_now = datetime.now().year\n",
    "\n",
    "# condi = (\n",
    "#     (df[\"person_job\"].str.contains(\"act\")) &\n",
    "#     (df[\"titre_date_sortie\"] <= year_now)\n",
    "# )\n",
    "# df = df[condi]\n",
    "# actor = df.copy()\n",
    "\n",
    "# \"\"\"\n",
    "# La moyenne d'age des acteurs a la date de sortie du film.\n",
    "# Nous calculons la mediane sur cette base.\n",
    "\n",
    "# other KPI, calcul la moyenne des ages en fonction de l'année\n",
    "\n",
    "# \"\"\"\n",
    "# # ajouter colonne age pour les personnes\n",
    "# actor[\"person_age\"] = np.where(\n",
    "#     (actor[\"person_birthdate\"] > 1800) &\n",
    "#     (actor[\"titre_date_sortie\"] > 1800) &\n",
    "#     (actor[\"titre_date_sortie\"] - actor[\"person_birthdate\"] >= 0),\n",
    "#     (actor[\"titre_date_sortie\"] - actor[\"person_birthdate\"]),\n",
    "#     0\n",
    "# )\n",
    "# actor.tail()"
   ]
  },
  {
   "cell_type": "code",
   "execution_count": null,
   "metadata": {},
   "outputs": [],
   "source": [
    "# \"\"\"\n",
    "# imagine un fonction, qui prendrais en argument une liste de date de\n",
    "# titre de sortie et retourne la moyenne d'age de ces années des acteurs.\n",
    "\n",
    "# # Quels sont les acteurs les plus présents ?\n",
    "# # À quelle période ?\n",
    "# La durée moyenne des films s'allonge ou se raccourcit avec les années ?\n",
    "# Les acteurs de série sont-ils les mêmes qu'au cinéma ?\n",
    "# # Les acteurs ont en moyenne quel âge ?\n",
    "# Quels sont les films les mieux notés ?\n",
    "# Partagent-ils des caractéristiques communes ? etc...\n",
    "\n",
    "# \"\"\"\n",
    "\n",
    "# bins, names = bins_generator(actor[\"titre_date_sortie\"].max())\n",
    "\n",
    "# actor[\"cuts\"] = pd.cut(\n",
    "#     actor[\"titre_date_sortie\"],\n",
    "#     bins=bins,\n",
    "#     labels=names\n",
    "# )\n",
    "\n",
    "# actor_median = []\n",
    "# for date in names[1:]:\n",
    "#     condi = (\n",
    "#         (actor[\"person_age\"] != 0) &\n",
    "#         (actor[\"cuts\"] == date)\n",
    "#     )\n",
    "#     # print(f\"Mediane for person_age {date} :\", actor[\"person_age\"][condi].median())\n",
    "#     actor_median.append(actor[\"person_age\"][condi].median())\n",
    "\n",
    "# plt.figure(figsize=(10,6))\n",
    "# plt.bar(names[1:], actor_median, color=\"royalblue\")\n",
    "# plt.xlabel(\"Années des film\")\n",
    "# plt.ylabel(\"Mediane\")\n",
    "# plt.title(\"Mediane acteur vs année\")\n",
    "# plt.xticks(rotation=45)\n",
    "# plt.tight_layout()"
   ]
  },
  {
   "cell_type": "code",
   "execution_count": null,
   "metadata": {},
   "outputs": [],
   "source": [
    "# # Top 5 des acteurs all time !\n",
    "# print(actor[\"person_name\"].value_counts().head(5))\n",
    "# # Bottom 5 des acteurs all time !\n",
    "# print(actor[\"person_name\"].value_counts().tail(5))"
   ]
  },
  {
   "cell_type": "code",
   "execution_count": null,
   "metadata": {},
   "outputs": [],
   "source": [
    "# # Top 5 actors by years\n",
    "# for date in names[1:]:\n",
    "#     top5 = actor['person_name'][condi].value_counts().head(5)\n",
    "#     condi = (\n",
    "#         (actor[\"cuts\"] == date)\n",
    "#     )\n",
    "#     top5_str = '\\n'.join(str(top5).split('\\n')[:-1])\n",
    "\n",
    "#     print(f\"Top 5 actors by movies for {date}\\n{'-'*20}\\n{top5_str}\")\n",
    "#     print(\"-\"*20)\n"
   ]
  },
  {
   "cell_type": "code",
   "execution_count": null,
   "metadata": {},
   "outputs": [],
   "source": [
    "# #  World record of the longest documentary\n",
    "# # source :https://fr.wikipedia.org/wiki/Ambianc%C3%A9\n",
    "# longest = actor[actor[\"titre_duree\"] == 43200]\n",
    "# n = longest[[\"titre_str\", \"titre_duree\"]].iloc[0]\n",
    "# heure = n[\"titre_duree\"] // 60\n",
    "# jours = heure // 24\n",
    "# print(f\"Le film le plus long est {n['titre_str']} d'une durée de {heure} heures soit {jours} jours\")\n",
    "# # All time median for duration\n",
    "# print(f\"All time duration median : {round(actor['titre_duree'].median())} minutes\")"
   ]
  },
  {
   "cell_type": "code",
   "execution_count": null,
   "metadata": {},
   "outputs": [],
   "source": [
    "# # Median duration for movies between years.\n",
    "# nodup = actor[~actor[\"titre_str\"].duplicated(keep=\"first\")]\n",
    "\n",
    "# for date in names[1:]:\n",
    "#     condi = (\n",
    "#         (nodup[\"cuts\"] == date)\n",
    "#     )\n",
    "#     med = round(nodup[\"titre_duree\"][condi].median())\n",
    "#     print(f\"Median durations for movies {date}\\nMedian for this years is {med} minutes\")\n",
    "#     print(\"-\"*20)"
   ]
  },
  {
   "cell_type": "code",
   "execution_count": null,
   "metadata": {},
   "outputs": [],
   "source": [
    "# print(len(yy[yy[\"titre_date_sortie\"].isna()]))\n",
    "# yy[\"titre_date_sortie\"].fillna(1678, inplace=True)\n",
    "# yy[\"person_birthdate\"] = yy[\"person_birthdate\"].astype(int).replace(0, 1678)\n",
    "# condi = (\n",
    "#     yy[\"person_birthdate\"] < 1678\n",
    "# )\n",
    "\n",
    "# yy.loc[condi, \"person_birthdate\"] = 1678\n",
    "# datime_col = [\"titre_date_sortie\", \"person_birthdate\"]\n",
    "# for time in datime_col:\n",
    "#     yy[time] = pd.to_datetime(yy[time], format=\"%Y\")\n",
    "# yy[\"titre_date_sortie\"] = yy[\"titre_date_sortie\"].dt.year"
   ]
  }
 ],
 "metadata": {
  "kernelspec": {
   "display_name": "Python 3",
   "language": "python",
   "name": "python3"
  },
  "language_info": {
   "codemirror_mode": {
    "name": "ipython",
    "version": 3
   },
   "file_extension": ".py",
   "mimetype": "text/x-python",
   "name": "python",
   "nbconvert_exporter": "python",
   "pygments_lexer": "ipython3",
   "version": "3.10.11"
  }
 },
 "nbformat": 4,
 "nbformat_minor": 2
}
